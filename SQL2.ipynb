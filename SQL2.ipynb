{
 "cells": [
  {
   "cell_type": "markdown",
   "metadata": {
    "collapsed": true
   },
   "source": [
    "# SQL project\n",
    "<p>In this project, I will take a look at the `chinook.db` database and will formulate a few business questions, which I will subsequently answer.</p>"
   ]
  },
  {
   "cell_type": "code",
   "execution_count": 1,
   "metadata": {
    "collapsed": false
   },
   "outputs": [
    {
     "data": {
      "text/plain": [
       "'Connected: None@chinook.db'"
      ]
     },
     "execution_count": 1,
     "metadata": {},
     "output_type": "execute_result"
    }
   ],
   "source": [
    "%%capture\n",
    "%load_ext sql\n",
    "%sql sqlite:///chinook.db"
   ]
  },
  {
   "cell_type": "markdown",
   "metadata": {},
   "source": [
    "First, I will have a look at the names of the tables within the database and at a few of the tables listed."
   ]
  },
  {
   "cell_type": "code",
   "execution_count": 2,
   "metadata": {
    "collapsed": false
   },
   "outputs": [
    {
     "name": "stdout",
     "output_type": "stream",
     "text": [
      "Done.\n"
     ]
    },
    {
     "data": {
      "text/html": [
       "<table>\n",
       "    <tr>\n",
       "        <th>name</th>\n",
       "        <th>type</th>\n",
       "    </tr>\n",
       "    <tr>\n",
       "        <td>album</td>\n",
       "        <td>table</td>\n",
       "    </tr>\n",
       "    <tr>\n",
       "        <td>artist</td>\n",
       "        <td>table</td>\n",
       "    </tr>\n",
       "    <tr>\n",
       "        <td>customer</td>\n",
       "        <td>table</td>\n",
       "    </tr>\n",
       "    <tr>\n",
       "        <td>employee</td>\n",
       "        <td>table</td>\n",
       "    </tr>\n",
       "    <tr>\n",
       "        <td>genre</td>\n",
       "        <td>table</td>\n",
       "    </tr>\n",
       "    <tr>\n",
       "        <td>invoice</td>\n",
       "        <td>table</td>\n",
       "    </tr>\n",
       "    <tr>\n",
       "        <td>invoice_line</td>\n",
       "        <td>table</td>\n",
       "    </tr>\n",
       "    <tr>\n",
       "        <td>media_type</td>\n",
       "        <td>table</td>\n",
       "    </tr>\n",
       "    <tr>\n",
       "        <td>playlist</td>\n",
       "        <td>table</td>\n",
       "    </tr>\n",
       "    <tr>\n",
       "        <td>playlist_track</td>\n",
       "        <td>table</td>\n",
       "    </tr>\n",
       "    <tr>\n",
       "        <td>track</td>\n",
       "        <td>table</td>\n",
       "    </tr>\n",
       "</table>"
      ],
      "text/plain": [
       "[('album', 'table'),\n",
       " ('artist', 'table'),\n",
       " ('customer', 'table'),\n",
       " ('employee', 'table'),\n",
       " ('genre', 'table'),\n",
       " ('invoice', 'table'),\n",
       " ('invoice_line', 'table'),\n",
       " ('media_type', 'table'),\n",
       " ('playlist', 'table'),\n",
       " ('playlist_track', 'table'),\n",
       " ('track', 'table')]"
      ]
     },
     "execution_count": 2,
     "metadata": {},
     "output_type": "execute_result"
    }
   ],
   "source": [
    "%%sql\n",
    "SELECT\n",
    "    name,\n",
    "    type\n",
    "FROM sqlite_master\n",
    "WHERE type IN (\"table\",\"view\");"
   ]
  },
  {
   "cell_type": "code",
   "execution_count": 3,
   "metadata": {
    "collapsed": false
   },
   "outputs": [
    {
     "name": "stdout",
     "output_type": "stream",
     "text": [
      "Done.\n"
     ]
    },
    {
     "data": {
      "text/html": [
       "<table>\n",
       "    <tr>\n",
       "        <th>customer_id</th>\n",
       "        <th>first_name</th>\n",
       "        <th>last_name</th>\n",
       "        <th>company</th>\n",
       "        <th>address</th>\n",
       "        <th>city</th>\n",
       "        <th>state</th>\n",
       "        <th>country</th>\n",
       "        <th>postal_code</th>\n",
       "        <th>phone</th>\n",
       "        <th>fax</th>\n",
       "        <th>email</th>\n",
       "        <th>support_rep_id</th>\n",
       "    </tr>\n",
       "    <tr>\n",
       "        <td>1</td>\n",
       "        <td>Luís</td>\n",
       "        <td>Gonçalves</td>\n",
       "        <td>Embraer - Empresa Brasileira de Aeronáutica S.A.</td>\n",
       "        <td>Av. Brigadeiro Faria Lima, 2170</td>\n",
       "        <td>São José dos Campos</td>\n",
       "        <td>SP</td>\n",
       "        <td>Brazil</td>\n",
       "        <td>12227-000</td>\n",
       "        <td>+55 (12) 3923-5555</td>\n",
       "        <td>+55 (12) 3923-5566</td>\n",
       "        <td>luisg@embraer.com.br</td>\n",
       "        <td>3</td>\n",
       "    </tr>\n",
       "    <tr>\n",
       "        <td>2</td>\n",
       "        <td>Leonie</td>\n",
       "        <td>Köhler</td>\n",
       "        <td>None</td>\n",
       "        <td>Theodor-Heuss-Straße 34</td>\n",
       "        <td>Stuttgart</td>\n",
       "        <td>None</td>\n",
       "        <td>Germany</td>\n",
       "        <td>70174</td>\n",
       "        <td>+49 0711 2842222</td>\n",
       "        <td>None</td>\n",
       "        <td>leonekohler@surfeu.de</td>\n",
       "        <td>5</td>\n",
       "    </tr>\n",
       "    <tr>\n",
       "        <td>3</td>\n",
       "        <td>François</td>\n",
       "        <td>Tremblay</td>\n",
       "        <td>None</td>\n",
       "        <td>1498 rue Bélanger</td>\n",
       "        <td>Montréal</td>\n",
       "        <td>QC</td>\n",
       "        <td>Canada</td>\n",
       "        <td>H2G 1A7</td>\n",
       "        <td>+1 (514) 721-4711</td>\n",
       "        <td>None</td>\n",
       "        <td>ftremblay@gmail.com</td>\n",
       "        <td>3</td>\n",
       "    </tr>\n",
       "    <tr>\n",
       "        <td>4</td>\n",
       "        <td>Bjørn</td>\n",
       "        <td>Hansen</td>\n",
       "        <td>None</td>\n",
       "        <td>Ullevålsveien 14</td>\n",
       "        <td>Oslo</td>\n",
       "        <td>None</td>\n",
       "        <td>Norway</td>\n",
       "        <td>0171</td>\n",
       "        <td>+47 22 44 22 22</td>\n",
       "        <td>None</td>\n",
       "        <td>bjorn.hansen@yahoo.no</td>\n",
       "        <td>4</td>\n",
       "    </tr>\n",
       "    <tr>\n",
       "        <td>5</td>\n",
       "        <td>František</td>\n",
       "        <td>Wichterlová</td>\n",
       "        <td>JetBrains s.r.o.</td>\n",
       "        <td>Klanova 9/506</td>\n",
       "        <td>Prague</td>\n",
       "        <td>None</td>\n",
       "        <td>Czech Republic</td>\n",
       "        <td>14700</td>\n",
       "        <td>+420 2 4172 5555</td>\n",
       "        <td>+420 2 4172 5555</td>\n",
       "        <td>frantisekw@jetbrains.com</td>\n",
       "        <td>4</td>\n",
       "    </tr>\n",
       "</table>"
      ],
      "text/plain": [
       "[(1, 'Luís', 'Gonçalves', 'Embraer - Empresa Brasileira de Aeronáutica S.A.', 'Av. Brigadeiro Faria Lima, 2170', 'São José dos Campos', 'SP', 'Brazil', '12227-000', '+55 (12) 3923-5555', '+55 (12) 3923-5566', 'luisg@embraer.com.br', 3),\n",
       " (2, 'Leonie', 'Köhler', None, 'Theodor-Heuss-Straße 34', 'Stuttgart', None, 'Germany', '70174', '+49 0711 2842222', None, 'leonekohler@surfeu.de', 5),\n",
       " (3, 'François', 'Tremblay', None, '1498 rue Bélanger', 'Montréal', 'QC', 'Canada', 'H2G 1A7', '+1 (514) 721-4711', None, 'ftremblay@gmail.com', 3),\n",
       " (4, 'Bjørn', 'Hansen', None, 'Ullevålsveien 14', 'Oslo', None, 'Norway', '0171', '+47 22 44 22 22', None, 'bjorn.hansen@yahoo.no', 4),\n",
       " (5, 'František', 'Wichterlová', 'JetBrains s.r.o.', 'Klanova 9/506', 'Prague', None, 'Czech Republic', '14700', '+420 2 4172 5555', '+420 2 4172 5555', 'frantisekw@jetbrains.com', 4)]"
      ]
     },
     "execution_count": 3,
     "metadata": {},
     "output_type": "execute_result"
    }
   ],
   "source": [
    "%%sql\n",
    "SELECT *\n",
    "FROM customer\n",
    "LIMIT 5;"
   ]
  },
  {
   "cell_type": "code",
   "execution_count": 4,
   "metadata": {
    "collapsed": false
   },
   "outputs": [
    {
     "name": "stdout",
     "output_type": "stream",
     "text": [
      "Done.\n"
     ]
    },
    {
     "data": {
      "text/html": [
       "<table>\n",
       "    <tr>\n",
       "        <th>invoice_line_id</th>\n",
       "        <th>invoice_id</th>\n",
       "        <th>track_id</th>\n",
       "        <th>unit_price</th>\n",
       "        <th>quantity</th>\n",
       "    </tr>\n",
       "    <tr>\n",
       "        <td>1</td>\n",
       "        <td>1</td>\n",
       "        <td>1158</td>\n",
       "        <td>0.99</td>\n",
       "        <td>1</td>\n",
       "    </tr>\n",
       "    <tr>\n",
       "        <td>2</td>\n",
       "        <td>1</td>\n",
       "        <td>1159</td>\n",
       "        <td>0.99</td>\n",
       "        <td>1</td>\n",
       "    </tr>\n",
       "    <tr>\n",
       "        <td>3</td>\n",
       "        <td>1</td>\n",
       "        <td>1160</td>\n",
       "        <td>0.99</td>\n",
       "        <td>1</td>\n",
       "    </tr>\n",
       "    <tr>\n",
       "        <td>4</td>\n",
       "        <td>1</td>\n",
       "        <td>1161</td>\n",
       "        <td>0.99</td>\n",
       "        <td>1</td>\n",
       "    </tr>\n",
       "    <tr>\n",
       "        <td>5</td>\n",
       "        <td>1</td>\n",
       "        <td>1162</td>\n",
       "        <td>0.99</td>\n",
       "        <td>1</td>\n",
       "    </tr>\n",
       "</table>"
      ],
      "text/plain": [
       "[(1, 1, 1158, 0.99, 1),\n",
       " (2, 1, 1159, 0.99, 1),\n",
       " (3, 1, 1160, 0.99, 1),\n",
       " (4, 1, 1161, 0.99, 1),\n",
       " (5, 1, 1162, 0.99, 1)]"
      ]
     },
     "execution_count": 4,
     "metadata": {},
     "output_type": "execute_result"
    }
   ],
   "source": [
    "%%sql\n",
    "SELECT *\n",
    "FROM invoice_line\n",
    "LIMIT 5;"
   ]
  },
  {
   "cell_type": "markdown",
   "metadata": {},
   "source": [
    "### First business question:\n",
    "Find out which genres sell the most tracks in the USA. Of the fours genres \"Hip-Hop\", \"Punk\", \"Pop\", and \"Blues\", which is the least popular genre?"
   ]
  },
  {
   "cell_type": "code",
   "execution_count": 5,
   "metadata": {
    "collapsed": false
   },
   "outputs": [
    {
     "name": "stdout",
     "output_type": "stream",
     "text": [
      "Done.\n"
     ]
    },
    {
     "data": {
      "text/html": [
       "<table>\n",
       "    <tr>\n",
       "        <th>genre_id</th>\n",
       "        <th>sold_count</th>\n",
       "    </tr>\n",
       "    <tr>\n",
       "        <td>1</td>\n",
       "        <td>2635</td>\n",
       "    </tr>\n",
       "    <tr>\n",
       "        <td>2</td>\n",
       "        <td>121</td>\n",
       "    </tr>\n",
       "    <tr>\n",
       "        <td>3</td>\n",
       "        <td>619</td>\n",
       "    </tr>\n",
       "    <tr>\n",
       "        <td>4</td>\n",
       "        <td>492</td>\n",
       "    </tr>\n",
       "    <tr>\n",
       "        <td>6</td>\n",
       "        <td>124</td>\n",
       "    </tr>\n",
       "</table>"
      ],
      "text/plain": [
       "[(1, 2635), (2, 121), (3, 619), (4, 492), (6, 124)]"
      ]
     },
     "execution_count": 5,
     "metadata": {},
     "output_type": "execute_result"
    }
   ],
   "source": [
    "%%sql\n",
    "SELECT \n",
    "        t.genre_id,\n",
    "        COUNT(i.quantity) sold_count\n",
    "FROM invoice_line i\n",
    "INNER JOIN track t ON t.track_id = i.track_id\n",
    "GROUP BY 1\n",
    "LIMIT 5;"
   ]
  },
  {
   "cell_type": "code",
   "execution_count": 6,
   "metadata": {
    "collapsed": false
   },
   "outputs": [
    {
     "name": "stdout",
     "output_type": "stream",
     "text": [
      "Done.\n"
     ]
    },
    {
     "data": {
      "text/html": [
       "<table>\n",
       "    <tr>\n",
       "        <th>invoice_id</th>\n",
       "        <th>track_id</th>\n",
       "        <th>quantity</th>\n",
       "    </tr>\n",
       "    <tr>\n",
       "        <td>1</td>\n",
       "        <td>1158</td>\n",
       "        <td>1</td>\n",
       "    </tr>\n",
       "    <tr>\n",
       "        <td>1</td>\n",
       "        <td>1159</td>\n",
       "        <td>1</td>\n",
       "    </tr>\n",
       "    <tr>\n",
       "        <td>1</td>\n",
       "        <td>1160</td>\n",
       "        <td>1</td>\n",
       "    </tr>\n",
       "    <tr>\n",
       "        <td>1</td>\n",
       "        <td>1161</td>\n",
       "        <td>1</td>\n",
       "    </tr>\n",
       "    <tr>\n",
       "        <td>1</td>\n",
       "        <td>1162</td>\n",
       "        <td>1</td>\n",
       "    </tr>\n",
       "</table>"
      ],
      "text/plain": [
       "[(1, 1158, 1), (1, 1159, 1), (1, 1160, 1), (1, 1161, 1), (1, 1162, 1)]"
      ]
     },
     "execution_count": 6,
     "metadata": {},
     "output_type": "execute_result"
    }
   ],
   "source": [
    "%%sql\n",
    "SELECT il.invoice_id,\n",
    "        il.track_id,\n",
    "        il.quantity\n",
    "FROM invoice_line il\n",
    "INNER JOIN invoice i ON il.invoice_id = i.invoice_id\n",
    "INNER JOIN customer c ON c.customer_id = i.customer_id\n",
    "WHERE c.country = 'USA'\n",
    "LIMIT 5;"
   ]
  },
  {
   "cell_type": "code",
   "execution_count": 7,
   "metadata": {
    "collapsed": false
   },
   "outputs": [
    {
     "name": "stdout",
     "output_type": "stream",
     "text": [
      "Done.\n"
     ]
    },
    {
     "data": {
      "text/html": [
       "<table>\n",
       "    <tr>\n",
       "        <th>genre</th>\n",
       "        <th>sold_count</th>\n",
       "    </tr>\n",
       "    <tr>\n",
       "        <td>Rock</td>\n",
       "        <td>561</td>\n",
       "    </tr>\n",
       "    <tr>\n",
       "        <td>Alternative &amp; Punk</td>\n",
       "        <td>130</td>\n",
       "    </tr>\n",
       "    <tr>\n",
       "        <td>Metal</td>\n",
       "        <td>124</td>\n",
       "    </tr>\n",
       "    <tr>\n",
       "        <td>R&amp;B/Soul</td>\n",
       "        <td>53</td>\n",
       "    </tr>\n",
       "    <tr>\n",
       "        <td>Blues</td>\n",
       "        <td>36</td>\n",
       "    </tr>\n",
       "    <tr>\n",
       "        <td>Alternative</td>\n",
       "        <td>35</td>\n",
       "    </tr>\n",
       "    <tr>\n",
       "        <td>Latin</td>\n",
       "        <td>22</td>\n",
       "    </tr>\n",
       "    <tr>\n",
       "        <td>Pop</td>\n",
       "        <td>22</td>\n",
       "    </tr>\n",
       "    <tr>\n",
       "        <td>Hip Hop/Rap</td>\n",
       "        <td>20</td>\n",
       "    </tr>\n",
       "    <tr>\n",
       "        <td>Jazz</td>\n",
       "        <td>14</td>\n",
       "    </tr>\n",
       "</table>"
      ],
      "text/plain": [
       "[('Rock', 561),\n",
       " ('Alternative & Punk', 130),\n",
       " ('Metal', 124),\n",
       " ('R&B/Soul', 53),\n",
       " ('Blues', 36),\n",
       " ('Alternative', 35),\n",
       " ('Latin', 22),\n",
       " ('Pop', 22),\n",
       " ('Hip Hop/Rap', 20),\n",
       " ('Jazz', 14)]"
      ]
     },
     "execution_count": 7,
     "metadata": {},
     "output_type": "execute_result"
    }
   ],
   "source": [
    "%%sql\n",
    "WITH track_counts AS (\n",
    "SELECT \n",
    "        t.genre_id,\n",
    "        COUNT(il.invoice_line_id) sold_count\n",
    "FROM invoice_line il\n",
    "INNER JOIN track t ON t.track_id = il.track_id\n",
    "INNER JOIN invoice i ON il.invoice_id = i.invoice_id\n",
    "INNER JOIN customer c ON c.customer_id = i.customer_id\n",
    "WHERE c.country = 'USA'\n",
    "GROUP BY 1\n",
    ")    \n",
    "\n",
    "\n",
    "SELECT \n",
    "        g.name genre,\n",
    "        tc.sold_count\n",
    "FROM genre g\n",
    "INNER JOIN track_counts tc ON tc.genre_id = g.genre_id\n",
    "ORDER BY 2 DESC\n",
    "LIMIT 10;"
   ]
  },
  {
   "cell_type": "markdown",
   "metadata": {},
   "source": [
    "Based on this tables, the genre \"Hip Hop\" is the least favourite one."
   ]
  },
  {
   "cell_type": "markdown",
   "metadata": {},
   "source": [
    "## Second business question:\n",
    "Which sales agent performed best? \n",
    "\n",
    "To find out which sales agent performed best, I will need to combine the tables `employee`, `customer`, and `invoice`:"
   ]
  },
  {
   "cell_type": "code",
   "execution_count": 8,
   "metadata": {
    "collapsed": false
   },
   "outputs": [
    {
     "name": "stdout",
     "output_type": "stream",
     "text": [
      "Done.\n"
     ]
    },
    {
     "data": {
      "text/html": [
       "<table>\n",
       "    <tr>\n",
       "        <th>employee</th>\n",
       "        <th>total_per_employee</th>\n",
       "    </tr>\n",
       "    <tr>\n",
       "        <td>Jane Peacock</td>\n",
       "        <td>1731.5099999999998</td>\n",
       "    </tr>\n",
       "    <tr>\n",
       "        <td>Margaret Park</td>\n",
       "        <td>1584.0000000000002</td>\n",
       "    </tr>\n",
       "    <tr>\n",
       "        <td>Steve Johnson</td>\n",
       "        <td>1393.92</td>\n",
       "    </tr>\n",
       "</table>"
      ],
      "text/plain": [
       "[('Jane Peacock', 1731.5099999999998),\n",
       " ('Margaret Park', 1584.0000000000002),\n",
       " ('Steve Johnson', 1393.92)]"
      ]
     },
     "execution_count": 8,
     "metadata": {},
     "output_type": "execute_result"
    }
   ],
   "source": [
    "%%sql\n",
    "WITH total_per_customer AS (\n",
    "SELECT \n",
    "        customer_id,\n",
    "        SUM(total) AS total_spent\n",
    "    FROM invoice\n",
    "    GROUP BY customer_id\n",
    "),\n",
    "\n",
    "customer_support AS (\n",
    "SELECT c.customer_id,\n",
    "        c.support_rep_id,\n",
    "        SUM(t.total_spent) total_spent_per_support\n",
    "    FROM customer c\n",
    "INNER JOIN total_per_customer t ON t.customer_id = c.customer_id\n",
    "GROUP BY support_rep_id\n",
    ")\n",
    "\n",
    "SELECT e.first_name || \" \" || e.last_name AS employee,\n",
    "        cs.total_spent_per_support AS total_per_employee\n",
    "FROM employee e\n",
    "INNER JOIN customer_support cs ON e.employee_id = cs.support_rep_id\n",
    "LIMIT 5;\n"
   ]
  },
  {
   "cell_type": "markdown",
   "metadata": {},
   "source": [
    "There are only three employees. Of these three, Jane sold the most records followed by Margeret and Steve."
   ]
  },
  {
   "cell_type": "markdown",
   "metadata": {},
   "source": [
    "## Third business question:\n",
    "For each country, what is the\n",
    "<ul>\n",
    "<li> total number of customers</li>\n",
    "<li> total value of sales</li>\n",
    "<li> average value of sales per customer</li>\n",
    "<li> average order value</li>\n",
    "</ul>\n",
    "The countries with only one customer will be grouped to \"Other\"."
   ]
  },
  {
   "cell_type": "code",
   "execution_count": 9,
   "metadata": {
    "collapsed": false
   },
   "outputs": [
    {
     "name": "stdout",
     "output_type": "stream",
     "text": [
      "Done.\n"
     ]
    },
    {
     "data": {
      "text/html": [
       "<table>\n",
       "    <tr>\n",
       "        <th>country_case</th>\n",
       "        <th>customer</th>\n",
       "        <th>sales</th>\n",
       "        <th>avg_order_value</th>\n",
       "        <th>avg_sales_per_customer</th>\n",
       "    </tr>\n",
       "    <tr>\n",
       "        <td>India</td>\n",
       "        <td>185</td>\n",
       "        <td>183.1500000000002</td>\n",
       "        <td>8.72142857142858</td>\n",
       "        <td>91.5750000000001</td>\n",
       "    </tr>\n",
       "    <tr>\n",
       "        <td>Portugal</td>\n",
       "        <td>187</td>\n",
       "        <td>185.13000000000022</td>\n",
       "        <td>6.3837931034482835</td>\n",
       "        <td>92.56500000000011</td>\n",
       "    </tr>\n",
       "    <tr>\n",
       "        <td>United Kingdom</td>\n",
       "        <td>248</td>\n",
       "        <td>245.52000000000078</td>\n",
       "        <td>8.768571428571457</td>\n",
       "        <td>81.84000000000026</td>\n",
       "    </tr>\n",
       "    <tr>\n",
       "        <td>Czech Republic</td>\n",
       "        <td>276</td>\n",
       "        <td>273.24000000000103</td>\n",
       "        <td>9.108000000000034</td>\n",
       "        <td>136.62000000000052</td>\n",
       "    </tr>\n",
       "</table>"
      ],
      "text/plain": [
       "[('India', 185, 183.1500000000002, 8.72142857142858, 91.5750000000001),\n",
       " ('Portugal', 187, 185.13000000000022, 6.3837931034482835, 92.56500000000011),\n",
       " ('United Kingdom', 248, 245.52000000000078, 8.768571428571457, 81.84000000000026),\n",
       " ('Czech Republic', 276, 273.24000000000103, 9.108000000000034, 136.62000000000052)]"
      ]
     },
     "execution_count": 9,
     "metadata": {},
     "output_type": "execute_result"
    }
   ],
   "source": [
    "%%sql\n",
    "WITH country_and_other AS (\n",
    "SELECT\n",
    "    CASE\n",
    "    WHEN (\n",
    "        SELECT COUNT(customer_id) AS count\n",
    "        FROM customer\n",
    "        WHERE country = c.country\n",
    "    ) = 1 THEN \"Other\"\n",
    "    ELSE c.country\n",
    "    END AS country_case,\n",
    "    c.customer_id,\n",
    "    i.invoice_id,\n",
    "    il.unit_price AS price   \n",
    "FROM customer c\n",
    "INNER JOIN invoice i ON i.customer_id = c.customer_id\n",
    "INNER JOIN invoice_line il ON il.invoice_id = i.invoice_id\n",
    ")\n",
    "SELECT  country_case,\n",
    "        COUNT(customer_id) AS customer,\n",
    "        SUM(price) sales,\n",
    "        SUM(price)/COUNT(DISTINCT invoice_id) AS avg_order_value,\n",
    "        SUM(price)/COUNT(DISTINCT customer_id) AS avg_sales_per_customer\n",
    "FROM country_and_other\n",
    "GROUP BY country_case\n",
    "ORDER BY customer\n",
    "LIMIT 4;\n",
    "        "
   ]
  },
  {
   "cell_type": "markdown",
   "metadata": {},
   "source": [
    "## Fourth business question\n",
    "What percentage of purchases are individual tracks vs whole albums?\n",
    "\n",
    "Is it better to offer whole albumns or to offer the most popular tracks? In this analysis I will discard albumns with only a few tracks, as the business question focuses on whether it is worth having all titles of an albumn in store. \n",
    "\n",
    "First, I will need to identify whether each invoice contains all the tracks of said albumn to find out whether the whole albumn has been purchased or only a few tracks. This is best done using `EXCEPT` and `AND`. This business question is more complicated than the previous ones, therefore I will explain every step:\n",
    "\n",
    "First, I need some kind of album track identifyier, which I can use to filter for the albumn and see whether all tracks of the invoice are on the albumn. Looking at `invoice_line`, I choose the following:"
   ]
  },
  {
   "cell_type": "code",
   "execution_count": 10,
   "metadata": {
    "collapsed": false
   },
   "outputs": [
    {
     "name": "stdout",
     "output_type": "stream",
     "text": [
      "Done.\n"
     ]
    },
    {
     "data": {
      "text/html": [
       "<table>\n",
       "    <tr>\n",
       "        <th>invoice_id</th>\n",
       "        <th>track_identifyer</th>\n",
       "    </tr>\n",
       "    <tr>\n",
       "        <td>1</td>\n",
       "        <td>1158</td>\n",
       "    </tr>\n",
       "    <tr>\n",
       "        <td>2</td>\n",
       "        <td>201</td>\n",
       "    </tr>\n",
       "    <tr>\n",
       "        <td>3</td>\n",
       "        <td>2516</td>\n",
       "    </tr>\n",
       "    <tr>\n",
       "        <td>4</td>\n",
       "        <td>748</td>\n",
       "    </tr>\n",
       "    <tr>\n",
       "        <td>5</td>\n",
       "        <td>1986</td>\n",
       "    </tr>\n",
       "</table>"
      ],
      "text/plain": [
       "[(1, 1158), (2, 201), (3, 2516), (4, 748), (5, 1986)]"
      ]
     },
     "execution_count": 10,
     "metadata": {},
     "output_type": "execute_result"
    }
   ],
   "source": [
    "%%sql\n",
    "SELECT il.invoice_id,\n",
    "        MIN(il.track_id) track_identifyer\n",
    "FROM invoice_line il\n",
    "GROUP BY il.invoice_id\n",
    "LIMIT 5"
   ]
  },
  {
   "cell_type": "markdown",
   "metadata": {},
   "source": [
    "Next step is to look whether the invoices contain all albumn tracks: \n",
    "<ul>\n",
    "<li> album of track(s) purchased</li>\n",
    "<li> track(s) purchased </li>\n",
    "<li> are these the same?</li>\n",
    "<ul>"
   ]
  },
  {
   "cell_type": "code",
   "execution_count": 27,
   "metadata": {
    "collapsed": false
   },
   "outputs": [
    {
     "name": "stdout",
     "output_type": "stream",
     "text": [
      "Done.\n"
     ]
    },
    {
     "data": {
      "text/html": [
       "<table>\n",
       "    <tr>\n",
       "        <th>track_id</th>\n",
       "    </tr>\n",
       "    <tr>\n",
       "        <td>1158</td>\n",
       "    </tr>\n",
       "    <tr>\n",
       "        <td>201</td>\n",
       "    </tr>\n",
       "</table>"
      ],
      "text/plain": [
       "[(1158,), (201,)]"
      ]
     },
     "execution_count": 27,
     "metadata": {},
     "output_type": "execute_result"
    }
   ],
   "source": [
    "%%sql\n",
    "WITH invoice_track_identifyer AS (\n",
    "SELECT invoice_id,\n",
    "        track_id,\n",
    "        MIN(track_id) track_identifyer\n",
    "FROM invoice_line \n",
    "GROUP BY invoice_id\n",
    ")\n",
    "SELECT t.track_id\n",
    "FROM track t\n",
    "INNER JOIN invoice_track_identifyer iti ON iti.track_id = t.track_id\n",
    "WHERE t.album_id = (\n",
    "                    SELECT t2.album_id FROM track t2\n",
    "                    WHERE t2.track_id = iti.track_identifyer\n",
    ")\n",
    "LIMIT 2;"
   ]
  },
  {
   "cell_type": "code",
   "execution_count": 24,
   "metadata": {
    "collapsed": false
   },
   "outputs": [
    {
     "name": "stdout",
     "output_type": "stream",
     "text": [
      "Done.\n"
     ]
    },
    {
     "data": {
      "text/html": [
       "<table>\n",
       "    <tr>\n",
       "        <th>track_id</th>\n",
       "    </tr>\n",
       "    <tr>\n",
       "        <td>1158</td>\n",
       "    </tr>\n",
       "    <tr>\n",
       "        <td>1159</td>\n",
       "    </tr>\n",
       "</table>"
      ],
      "text/plain": [
       "[(1158,), (1159,)]"
      ]
     },
     "execution_count": 24,
     "metadata": {},
     "output_type": "execute_result"
    }
   ],
   "source": [
    "%%sql\n",
    "WITH invoice_track_identifyer AS (\n",
    "SELECT invoice_id,\n",
    "        track_id,\n",
    "        MIN(track_id) track_identifyer\n",
    "FROM invoice_line \n",
    "GROUP BY invoice_id\n",
    ")\n",
    "\n",
    "SELECT il.track_id\n",
    "FROM invoice_line il\n",
    "INNER JOIN invoice_track_identifyer iti ON iti.invoice_id = il.invoice_id\n",
    "WHERE il.invoice_id = iti.invoice_id\n",
    "LIMIT 2;"
   ]
  },
  {
   "cell_type": "code",
   "execution_count": 31,
   "metadata": {
    "collapsed": false
   },
   "outputs": [
    {
     "name": "stdout",
     "output_type": "stream",
     "text": [
      "Done.\n"
     ]
    },
    {
     "data": {
      "text/plain": [
       "[]"
      ]
     },
     "execution_count": 31,
     "metadata": {},
     "output_type": "execute_result"
    }
   ],
   "source": [
    "%%sql\n",
    "WITH invoice_track_identifyer AS (\n",
    "SELECT invoice_id,\n",
    "        track_id,\n",
    "        MIN(track_id) track_identifyer\n",
    "FROM invoice_line \n",
    "GROUP BY invoice_id\n",
    ")\n",
    "\n",
    "SELECT t.track_id\n",
    "FROM track t\n",
    "INNER JOIN invoice_track_identifyer iti ON iti.track_id = t.track_id\n",
    "WHERE t.album_id = (\n",
    "                    SELECT t2.album_id FROM track t2\n",
    "                    WHERE t2.track_id = iti.track_identifyer\n",
    ")\n",
    "EXCEPT\n",
    "\n",
    "SELECT il.track_id\n",
    "FROM invoice_line il\n",
    "INNER JOIN invoice_track_identifyer iti ON iti.invoice_id = il.invoice_id\n",
    "WHERE il.invoice_id = iti.invoice_id"
   ]
  },
  {
   "cell_type": "markdown",
   "metadata": {},
   "source": [
    "This part will be part of a CASE clause, which will iterate over the rows. If a customer bought an album, the other way (tracts bought EXCEPT tracks on album) must be equals as well:"
   ]
  },
  {
   "cell_type": "code",
   "execution_count": 33,
   "metadata": {
    "collapsed": false
   },
   "outputs": [
    {
     "name": "stdout",
     "output_type": "stream",
     "text": [
      "Done.\n"
     ]
    },
    {
     "data": {
      "text/html": [
       "<table>\n",
       "    <tr>\n",
       "        <th>track_id</th>\n",
       "    </tr>\n",
       "    <tr>\n",
       "        <td>25</td>\n",
       "    </tr>\n",
       "    <tr>\n",
       "        <td>41</td>\n",
       "    </tr>\n",
       "</table>"
      ],
      "text/plain": [
       "[(25,), (41,)]"
      ]
     },
     "execution_count": 33,
     "metadata": {},
     "output_type": "execute_result"
    }
   ],
   "source": [
    "%%sql\n",
    "WITH invoice_track_identifyer AS (\n",
    "SELECT invoice_id,\n",
    "        track_id,\n",
    "        MIN(track_id) track_identifyer\n",
    "FROM invoice_line \n",
    "GROUP BY invoice_id\n",
    ")\n",
    "\n",
    "\n",
    "SELECT il.track_id\n",
    "FROM invoice_line il\n",
    "INNER JOIN invoice_track_identifyer iti ON iti.invoice_id = il.invoice_id\n",
    "WHERE il.invoice_id = iti.invoice_id\n",
    "\n",
    "EXCEPT\n",
    "\n",
    "SELECT t.track_id\n",
    "FROM track t\n",
    "INNER JOIN invoice_track_identifyer iti ON iti.track_id = t.track_id\n",
    "WHERE t.album_id = (\n",
    "                    SELECT t2.album_id FROM track t2\n",
    "                    WHERE t2.track_id = iti.track_identifyer\n",
    ")\n",
    "LIMIT 2;"
   ]
  },
  {
   "cell_type": "markdown",
   "metadata": {},
   "source": [
    "Now I need to combine both cells above in a CASE statement:"
   ]
  },
  {
   "cell_type": "code",
   "execution_count": 35,
   "metadata": {
    "collapsed": false
   },
   "outputs": [
    {
     "name": "stdout",
     "output_type": "stream",
     "text": [
      "Done.\n"
     ]
    },
    {
     "data": {
      "text/html": [
       "<table>\n",
       "    <tr>\n",
       "        <th>invoice_id</th>\n",
       "        <th>track_id</th>\n",
       "        <th>track_identifyer</th>\n",
       "        <th>full_album_bought</th>\n",
       "    </tr>\n",
       "    <tr>\n",
       "        <td>1</td>\n",
       "        <td>1158</td>\n",
       "        <td>1158</td>\n",
       "        <td>yes</td>\n",
       "    </tr>\n",
       "    <tr>\n",
       "        <td>2</td>\n",
       "        <td>201</td>\n",
       "        <td>201</td>\n",
       "        <td>no</td>\n",
       "    </tr>\n",
       "    <tr>\n",
       "        <td>3</td>\n",
       "        <td>2516</td>\n",
       "        <td>2516</td>\n",
       "        <td>no</td>\n",
       "    </tr>\n",
       "</table>"
      ],
      "text/plain": [
       "[(1, 1158, 1158, 'yes'), (2, 201, 201, 'no'), (3, 2516, 2516, 'no')]"
      ]
     },
     "execution_count": 35,
     "metadata": {},
     "output_type": "execute_result"
    }
   ],
   "source": [
    "%%sql\n",
    "WITH invoice_track_identifyer AS (\n",
    "SELECT invoice_id,\n",
    "        track_id,\n",
    "        MIN(track_id) track_identifyer\n",
    "FROM invoice_line \n",
    "GROUP BY invoice_id\n",
    ")\n",
    "\n",
    "SELECT *,\n",
    "    CASE\n",
    "        WHEN\n",
    "            (\n",
    "            SELECT t.track_id\n",
    "            FROM track t\n",
    "            \n",
    "            WHERE t.album_id = (\n",
    "                                SELECT t2.album_id FROM track t2\n",
    "                                WHERE t2.track_id = iti.track_identifyer\n",
    "            )\n",
    "            EXCEPT\n",
    "\n",
    "            SELECT il.track_id\n",
    "            FROM invoice_line il\n",
    "            \n",
    "            WHERE il.invoice_id = iti.invoice_id\n",
    "            ) IS NULL    \n",
    "        AND\n",
    "                \n",
    "            (SELECT il.track_id\n",
    "            FROM invoice_line il\n",
    "            \n",
    "            WHERE il.invoice_id = iti.invoice_id\n",
    "\n",
    "            EXCEPT\n",
    "\n",
    "            SELECT t.track_id\n",
    "            FROM track t\n",
    "            \n",
    "            WHERE t.album_id = (\n",
    "                                SELECT t2.album_id FROM track t2\n",
    "                                WHERE t2.track_id = iti.track_identifyer\n",
    "            )) IS NULL\n",
    "        THEN \"yes\"\n",
    "        ELSE \"no\"\n",
    "    END AS \"full_album_bought\"\n",
    "    FROM invoice_track_identifyer iti\n",
    "    GROUP BY invoice_id\n",
    "    LIMIT 3;\n",
    "            \n",
    "            "
   ]
  },
  {
   "cell_type": "markdown",
   "metadata": {},
   "source": [
    "The last step is to compute the percentage of invoices with \"yes\" and \"no\":"
   ]
  },
  {
   "cell_type": "code",
   "execution_count": 42,
   "metadata": {
    "collapsed": false
   },
   "outputs": [
    {
     "name": "stdout",
     "output_type": "stream",
     "text": [
      "Done.\n"
     ]
    },
    {
     "data": {
      "text/html": [
       "<table>\n",
       "    <tr>\n",
       "        <th>full_album_bought</th>\n",
       "        <th>percentage</th>\n",
       "    </tr>\n",
       "    <tr>\n",
       "        <td>no</td>\n",
       "        <td>0.8143322475570033</td>\n",
       "    </tr>\n",
       "    <tr>\n",
       "        <td>yes</td>\n",
       "        <td>0.18566775244299674</td>\n",
       "    </tr>\n",
       "</table>"
      ],
      "text/plain": [
       "[('no', 0.8143322475570033), ('yes', 0.18566775244299674)]"
      ]
     },
     "execution_count": 42,
     "metadata": {},
     "output_type": "execute_result"
    }
   ],
   "source": [
    "%%sql\n",
    "WITH invoice_track_identifyer AS (\n",
    "SELECT invoice_id,\n",
    "        track_id,\n",
    "        MIN(track_id) track_identifyer\n",
    "FROM invoice_line \n",
    "GROUP BY invoice_id\n",
    ")\n",
    "\n",
    "SELECT\n",
    "      full_album_bought,\n",
    "        CAST(COUNT(full_album_bought) AS float)/\n",
    "                (SELECT COUNT(*) FROM invoice) AS percentage\n",
    "FROM (\n",
    "    SELECT iti.invoice_id,\n",
    "        CASE\n",
    "            WHEN\n",
    "                (\n",
    "                SELECT t.track_id\n",
    "                FROM track t\n",
    "\n",
    "                WHERE t.album_id = (\n",
    "                                    SELECT t2.album_id FROM track t2\n",
    "                                    WHERE t2.track_id = iti.track_identifyer\n",
    "                )\n",
    "                EXCEPT\n",
    "\n",
    "                SELECT il.track_id\n",
    "                FROM invoice_line il\n",
    "\n",
    "                WHERE il.invoice_id = iti.invoice_id\n",
    "                ) IS NULL    \n",
    "            AND\n",
    "\n",
    "                (SELECT il.track_id\n",
    "                FROM invoice_line il\n",
    "\n",
    "                WHERE il.invoice_id = iti.invoice_id\n",
    "\n",
    "                EXCEPT\n",
    "\n",
    "                SELECT t.track_id\n",
    "                FROM track t\n",
    "\n",
    "                WHERE t.album_id = (\n",
    "                                    SELECT t2.album_id FROM track t2\n",
    "                                    WHERE t2.track_id = iti.track_identifyer\n",
    "                )) IS NULL\n",
    "            THEN \"yes\"\n",
    "            ELSE \"no\"\n",
    "        END AS \"full_album_bought\"\n",
    "        FROM invoice_track_identifyer iti\n",
    "        GROUP BY invoice_id\n",
    "        \n",
    ") \n",
    "GROUP BY full_album_bought"
   ]
  },
  {
   "cell_type": "markdown",
   "metadata": {},
   "source": [
    "It seems that most people buy single tracks instead of full albums."
   ]
  },
  {
   "cell_type": "code",
   "execution_count": null,
   "metadata": {
    "collapsed": true
   },
   "outputs": [],
   "source": []
  }
 ],
 "metadata": {
  "kernelspec": {
   "display_name": "Python 3",
   "language": "python",
   "name": "python3"
  },
  "language_info": {
   "codemirror_mode": {
    "name": "ipython",
    "version": 3
   },
   "file_extension": ".py",
   "mimetype": "text/x-python",
   "name": "python",
   "nbconvert_exporter": "python",
   "pygments_lexer": "ipython3",
   "version": "3.4.3"
  }
 },
 "nbformat": 4,
 "nbformat_minor": 2
}
