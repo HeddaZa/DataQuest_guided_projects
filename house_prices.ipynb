{
 "cells": [
  {
   "cell_type": "code",
   "execution_count": 1,
   "metadata": {
    "collapsed": false
   },
   "outputs": [],
   "source": [
    "import pandas as pd\n",
    "import numpy as np\n",
    "import matplotlib.pyplot as plt\n",
    "%matplotlib inline\n",
    "from sklearn.metrics import mean_squared_error\n",
    "from sklearn.linear_model import LinearRegression\n",
    "from sklearn.model_selection import KFold\n",
    "import seaborn as sns"
   ]
  },
  {
   "cell_type": "markdown",
   "metadata": {},
   "source": [
    "# Predicting House Sale Prices\n",
    "<p> Using linear regression, I will build a model to predict house sale prices with housing data for the city of Ames, Iowa, United States from 2006 to 2010. The data can be found <a href=\"https://www.tandfonline.com/doi/abs/10.1080/10691898.2011.11889627\">here</a>.</p>"
   ]
  },
  {
   "cell_type": "code",
   "execution_count": 2,
   "metadata": {
    "collapsed": false
   },
   "outputs": [],
   "source": [
    "def transform_features(df):\n",
    "    #more than 25% of values are NaN\n",
    "    vc_per = (df.isnull().sum()[df.isnull().sum()>0]/df.shape[0])\n",
    "    cols_drop = vc_per[vc_per >0.25].index\n",
    "    df.drop(columns = cols_drop, inplace = True)\n",
    "    \n",
    "    #numerical values with NaN\n",
    "    numerical_nan = df.select_dtypes(include = ['int','float']).isnull().sum()\n",
    "    numerical_nan[numerical_nan >0]\n",
    "    num_nan_col = numerical_nan[numerical_nan >0].index\n",
    "    df[num_nan_col] = df[num_nan_col].fillna(df[num_nan_col].mean())\n",
    "    #object values with NaN:\n",
    "    obj_nan = df.select_dtypes(include = ['object']).isnull().sum()\n",
    "    replacement_values_dict = df[obj_nan[obj_nan >0].index].mode().to_dict(orient='records')[0]\n",
    "    df[obj_nan[obj_nan >0].index] = df[obj_nan[obj_nan >0].index].fillna(replacement_values_dict)\n",
    "    \n",
    "    #drop columns with no variety in values:\n",
    "    over85 = []\n",
    "    for col in obj_nan[obj_nan >0].index:\n",
    "        if df[col].value_counts(normalize = True)[0]>0.85:\n",
    "            over85.append(col)\n",
    "    df.drop(columns = over85, inplace = True)\n",
    "\n",
    "    #columns with years:\n",
    "    df['garage age'] = df['Yr Sold'] - df['Garage Yr Blt']\n",
    "    df['years till remod/add'] = df['Year Remod/Add'] - df['Year Built']\n",
    "    df['years till sold'] = df['Yr Sold'] - df['Year Built']\n",
    "    df['years remod till sold'] = df['Yr Sold'] - df['Year Remod/Add']\n",
    "    df.drop(columns = ['Year Remod/Add','Year Built','Garage Yr Blt'],inplace = True)\n",
    "    df = df[(df['years till remod/add']>0) & \n",
    "                (df['years till sold']>0) &\n",
    "                (df['years remod till sold']>0)\n",
    "               ].copy()\n",
    "    \n",
    "    #useless columns or columns that leak data about the final sale:\n",
    "    useless = ['PID','Order']\n",
    "    leak = ['Mo Sold','Sale Condition','Sale Type','Yr Sold']\n",
    "    df.drop(columns = useless, inplace = True)\n",
    "    df.drop(columns = leak, inplace = True)\n",
    "    return df\n",
    "\n",
    "def select_features(df, corr_thr):\n",
    "    #transform text columns to categorical columns:\n",
    "    for col in df.select_dtypes(include = ['object']).columns:\n",
    "        df[col] = df[col].astype('category')\n",
    "    #list of more categorical columns:\n",
    "    nominal_cols = [\"MS SubClass\", \"MS Zoning\", \"Street\", \"Alley\", \"Land Contour\", \"Lot Config\", \"Neighborhood\", \n",
    "                    \"Condition 1\", \"Condition 2\", \"Bldg Type\", \"House Style\", \"Roof Style\", \"Roof Matl\", \"Exterior 1st\", \n",
    "                    \"Exterior 2nd\", \"Mas Vnr Type\", \"Foundation\", \"Heating\", \"Central Air\", \"Garage Type\", \n",
    "                    \"Misc Feature\", \"Sale Type\", \"Sale Condition\"]\n",
    "    #converting all to categorical columns:\n",
    "    for col in nominal_cols:\n",
    "        if col in df.columns:\n",
    "            df[col] = df[col].astype('category')\n",
    "            \n",
    "    #drop columns with more than 10 unique categorical values\n",
    "    vc_unique = df.select_dtypes(include = ['category']).apply(lambda x : len(x.value_counts())).sort_values()\n",
    "    to_drop = vc_unique[vc_unique>10].index\n",
    "    df.drop(columns = to_drop, inplace = True)\n",
    "  \n",
    "    #correlation:\n",
    "    num_houses = df.select_dtypes(include = ['int','float'])\n",
    "    corrmat = num_houses.corr()\n",
    "    vc = np.abs(corrmat['SalePrice']).sort_values()\n",
    "    corr_df = df[vc[vc>corr_thr].index].copy()\n",
    "    \n",
    "    #dummy columns:\n",
    "    cat_cols = df.select_dtypes(include = ['category']).columns\n",
    "    updated_df = pd.concat([\n",
    "        corr_df,\n",
    "        pd.get_dummies(df.select_dtypes(include = ['category']))\n",
    "    ],axis =1)\n",
    "    return updated_df\n",
    "\n",
    "def train_and_test(df,k):\n",
    "    df = df.sample(frac=1).reset_index(drop=True)\n",
    "    idx = round(df.shape[0]*0.75)\n",
    "    if k == 0:    \n",
    "        train = df[:idx]\n",
    "        test = df[idx:]\n",
    "        lr.fit(train[features],train[target])\n",
    "        predictions = lr.predict(test[features])\n",
    "        rmse = np.sqrt(mean_squared_error(test[target],predictions))\n",
    "        return rmse\n",
    "    elif k == 1:\n",
    "        train = df[:idx]\n",
    "        test = df[idx:]\n",
    "\n",
    "        lr.fit(train[features],train[target])\n",
    "        predictions_1 = lr.predict(test[features])\n",
    "        rmse_1 = np.sqrt(mean_squared_error(test[target],predictions_1))\n",
    "\n",
    "        lr.fit(test[features],test[target])\n",
    "        predictions_2 = lr.predict(train[features])\n",
    "        rmse_2 = np.sqrt(mean_squared_error(train[target],predictions_2))\n",
    "        avg_rmse = np.mean([rmse_1,rmse_2])\n",
    "        return avg_rmse\n",
    "    else:\n",
    "        kf = KFold(n_splits = k, shuffle = True)\n",
    "        rmses = []\n",
    "        for tr_idx, tst_idx in kf.split(df):\n",
    "            train = df.iloc[tr_idx]\n",
    "            test = df.iloc[tst_idx]\n",
    "            lr.fit(train[features],train[target])\n",
    "            prediction = lr.predict(test[features])\n",
    "            rmse = np.sqrt(mean_squared_error(test[target],prediction))\n",
    "            rmses.append(rmse)\n",
    "        avg_rmse = np.mean(rmses)\n",
    "        return avg_rmse"
   ]
  },
  {
   "cell_type": "code",
   "execution_count": 3,
   "metadata": {
    "collapsed": false
   },
   "outputs": [
    {
     "data": {
      "text/html": [
       "<div>\n",
       "<style scoped>\n",
       "    .dataframe tbody tr th:only-of-type {\n",
       "        vertical-align: middle;\n",
       "    }\n",
       "\n",
       "    .dataframe tbody tr th {\n",
       "        vertical-align: top;\n",
       "    }\n",
       "\n",
       "    .dataframe thead th {\n",
       "        text-align: right;\n",
       "    }\n",
       "</style>\n",
       "<table border=\"1\" class=\"dataframe\">\n",
       "  <thead>\n",
       "    <tr style=\"text-align: right;\">\n",
       "      <th></th>\n",
       "      <th>Order</th>\n",
       "      <th>PID</th>\n",
       "      <th>MS SubClass</th>\n",
       "      <th>MS Zoning</th>\n",
       "      <th>Lot Frontage</th>\n",
       "      <th>Lot Area</th>\n",
       "      <th>Street</th>\n",
       "      <th>Alley</th>\n",
       "      <th>Lot Shape</th>\n",
       "      <th>Land Contour</th>\n",
       "      <th>...</th>\n",
       "      <th>Pool Area</th>\n",
       "      <th>Pool QC</th>\n",
       "      <th>Fence</th>\n",
       "      <th>Misc Feature</th>\n",
       "      <th>Misc Val</th>\n",
       "      <th>Mo Sold</th>\n",
       "      <th>Yr Sold</th>\n",
       "      <th>Sale Type</th>\n",
       "      <th>Sale Condition</th>\n",
       "      <th>SalePrice</th>\n",
       "    </tr>\n",
       "  </thead>\n",
       "  <tbody>\n",
       "    <tr>\n",
       "      <th>0</th>\n",
       "      <td>1</td>\n",
       "      <td>526301100</td>\n",
       "      <td>20</td>\n",
       "      <td>RL</td>\n",
       "      <td>141.0</td>\n",
       "      <td>31770</td>\n",
       "      <td>Pave</td>\n",
       "      <td>NaN</td>\n",
       "      <td>IR1</td>\n",
       "      <td>Lvl</td>\n",
       "      <td>...</td>\n",
       "      <td>0</td>\n",
       "      <td>NaN</td>\n",
       "      <td>NaN</td>\n",
       "      <td>NaN</td>\n",
       "      <td>0</td>\n",
       "      <td>5</td>\n",
       "      <td>2010</td>\n",
       "      <td>WD</td>\n",
       "      <td>Normal</td>\n",
       "      <td>215000</td>\n",
       "    </tr>\n",
       "    <tr>\n",
       "      <th>1</th>\n",
       "      <td>2</td>\n",
       "      <td>526350040</td>\n",
       "      <td>20</td>\n",
       "      <td>RH</td>\n",
       "      <td>80.0</td>\n",
       "      <td>11622</td>\n",
       "      <td>Pave</td>\n",
       "      <td>NaN</td>\n",
       "      <td>Reg</td>\n",
       "      <td>Lvl</td>\n",
       "      <td>...</td>\n",
       "      <td>0</td>\n",
       "      <td>NaN</td>\n",
       "      <td>MnPrv</td>\n",
       "      <td>NaN</td>\n",
       "      <td>0</td>\n",
       "      <td>6</td>\n",
       "      <td>2010</td>\n",
       "      <td>WD</td>\n",
       "      <td>Normal</td>\n",
       "      <td>105000</td>\n",
       "    </tr>\n",
       "    <tr>\n",
       "      <th>2</th>\n",
       "      <td>3</td>\n",
       "      <td>526351010</td>\n",
       "      <td>20</td>\n",
       "      <td>RL</td>\n",
       "      <td>81.0</td>\n",
       "      <td>14267</td>\n",
       "      <td>Pave</td>\n",
       "      <td>NaN</td>\n",
       "      <td>IR1</td>\n",
       "      <td>Lvl</td>\n",
       "      <td>...</td>\n",
       "      <td>0</td>\n",
       "      <td>NaN</td>\n",
       "      <td>NaN</td>\n",
       "      <td>Gar2</td>\n",
       "      <td>12500</td>\n",
       "      <td>6</td>\n",
       "      <td>2010</td>\n",
       "      <td>WD</td>\n",
       "      <td>Normal</td>\n",
       "      <td>172000</td>\n",
       "    </tr>\n",
       "    <tr>\n",
       "      <th>3</th>\n",
       "      <td>4</td>\n",
       "      <td>526353030</td>\n",
       "      <td>20</td>\n",
       "      <td>RL</td>\n",
       "      <td>93.0</td>\n",
       "      <td>11160</td>\n",
       "      <td>Pave</td>\n",
       "      <td>NaN</td>\n",
       "      <td>Reg</td>\n",
       "      <td>Lvl</td>\n",
       "      <td>...</td>\n",
       "      <td>0</td>\n",
       "      <td>NaN</td>\n",
       "      <td>NaN</td>\n",
       "      <td>NaN</td>\n",
       "      <td>0</td>\n",
       "      <td>4</td>\n",
       "      <td>2010</td>\n",
       "      <td>WD</td>\n",
       "      <td>Normal</td>\n",
       "      <td>244000</td>\n",
       "    </tr>\n",
       "    <tr>\n",
       "      <th>4</th>\n",
       "      <td>5</td>\n",
       "      <td>527105010</td>\n",
       "      <td>60</td>\n",
       "      <td>RL</td>\n",
       "      <td>74.0</td>\n",
       "      <td>13830</td>\n",
       "      <td>Pave</td>\n",
       "      <td>NaN</td>\n",
       "      <td>IR1</td>\n",
       "      <td>Lvl</td>\n",
       "      <td>...</td>\n",
       "      <td>0</td>\n",
       "      <td>NaN</td>\n",
       "      <td>MnPrv</td>\n",
       "      <td>NaN</td>\n",
       "      <td>0</td>\n",
       "      <td>3</td>\n",
       "      <td>2010</td>\n",
       "      <td>WD</td>\n",
       "      <td>Normal</td>\n",
       "      <td>189900</td>\n",
       "    </tr>\n",
       "  </tbody>\n",
       "</table>\n",
       "<p>5 rows × 82 columns</p>\n",
       "</div>"
      ],
      "text/plain": [
       "   Order        PID  MS SubClass MS Zoning  Lot Frontage  Lot Area Street  \\\n",
       "0      1  526301100           20        RL         141.0     31770   Pave   \n",
       "1      2  526350040           20        RH          80.0     11622   Pave   \n",
       "2      3  526351010           20        RL          81.0     14267   Pave   \n",
       "3      4  526353030           20        RL          93.0     11160   Pave   \n",
       "4      5  527105010           60        RL          74.0     13830   Pave   \n",
       "\n",
       "  Alley Lot Shape Land Contour    ...     Pool Area Pool QC  Fence  \\\n",
       "0   NaN       IR1          Lvl    ...             0     NaN    NaN   \n",
       "1   NaN       Reg          Lvl    ...             0     NaN  MnPrv   \n",
       "2   NaN       IR1          Lvl    ...             0     NaN    NaN   \n",
       "3   NaN       Reg          Lvl    ...             0     NaN    NaN   \n",
       "4   NaN       IR1          Lvl    ...             0     NaN  MnPrv   \n",
       "\n",
       "  Misc Feature Misc Val Mo Sold Yr Sold Sale Type  Sale Condition  SalePrice  \n",
       "0          NaN        0       5    2010       WD           Normal     215000  \n",
       "1          NaN        0       6    2010       WD           Normal     105000  \n",
       "2         Gar2    12500       6    2010       WD           Normal     172000  \n",
       "3          NaN        0       4    2010       WD           Normal     244000  \n",
       "4          NaN        0       3    2010       WD           Normal     189900  \n",
       "\n",
       "[5 rows x 82 columns]"
      ]
     },
     "execution_count": 3,
     "metadata": {},
     "output_type": "execute_result"
    }
   ],
   "source": [
    "houses = pd.read_csv('AmesHousing.tsv',sep = '\\t')\n",
    "houses.head()"
   ]
  },
  {
   "cell_type": "markdown",
   "metadata": {},
   "source": [
    "## Dealing with missing values:"
   ]
  },
  {
   "cell_type": "markdown",
   "metadata": {},
   "source": [
    "What are the columns with missing values? I counted the missing values, filtered for columns that have at least one missing value and divided the number of missing values by the total number or rows. It displays now the percentage of values that are `NaN`s:"
   ]
  },
  {
   "cell_type": "code",
   "execution_count": 4,
   "metadata": {
    "collapsed": false
   },
   "outputs": [
    {
     "data": {
      "text/plain": [
       "Electrical         0.034130\n",
       "Garage Area        0.034130\n",
       "Total Bsmt SF      0.034130\n",
       "Bsmt Unf SF        0.034130\n",
       "BsmtFin SF 1       0.034130\n",
       "BsmtFin SF 2       0.034130\n",
       "Garage Cars        0.034130\n",
       "Bsmt Full Bath     0.068259\n",
       "Bsmt Half Bath     0.068259\n",
       "Mas Vnr Area       0.784983\n",
       "Mas Vnr Type       0.784983\n",
       "BsmtFin Type 1     2.730375\n",
       "Bsmt Qual          2.730375\n",
       "Bsmt Cond          2.730375\n",
       "BsmtFin Type 2     2.764505\n",
       "Bsmt Exposure      2.832765\n",
       "Garage Type        5.358362\n",
       "Garage Finish      5.426621\n",
       "Garage Qual        5.426621\n",
       "Garage Cond        5.426621\n",
       "Garage Yr Blt      5.426621\n",
       "Lot Frontage      16.723549\n",
       "Fireplace Qu      48.532423\n",
       "Fence             80.477816\n",
       "Alley             93.242321\n",
       "Misc Feature      96.382253\n",
       "Pool QC           99.556314\n",
       "dtype: float64"
      ]
     },
     "execution_count": 4,
     "metadata": {},
     "output_type": "execute_result"
    }
   ],
   "source": [
    "(houses.isnull().sum()[houses.isnull().sum()>0]/houses.shape[0]*100).sort_values()"
   ]
  },
  {
   "cell_type": "markdown",
   "metadata": {},
   "source": [
    "I will drop any feature with more than 25% of `NaN`. The function `transform_features()` is updated accordingly."
   ]
  },
  {
   "cell_type": "code",
   "execution_count": 5,
   "metadata": {
    "collapsed": true
   },
   "outputs": [],
   "source": [
    "vc_per = (houses.isnull().sum()[houses.isnull().sum()>0]/houses.shape[0])\n",
    "cols_drop = vc_per[vc_per >0.25].index\n",
    "houses.drop(columns = cols_drop, inplace = True)"
   ]
  },
  {
   "cell_type": "markdown",
   "metadata": {
    "collapsed": false
   },
   "source": [
    "The other `Nan` of numerical columns will be substituted by the mean of the column: "
   ]
  },
  {
   "cell_type": "code",
   "execution_count": 6,
   "metadata": {
    "collapsed": false
   },
   "outputs": [
    {
     "data": {
      "text/html": [
       "<div>\n",
       "<style scoped>\n",
       "    .dataframe tbody tr th:only-of-type {\n",
       "        vertical-align: middle;\n",
       "    }\n",
       "\n",
       "    .dataframe tbody tr th {\n",
       "        vertical-align: top;\n",
       "    }\n",
       "\n",
       "    .dataframe thead th {\n",
       "        text-align: right;\n",
       "    }\n",
       "</style>\n",
       "<table border=\"1\" class=\"dataframe\">\n",
       "  <thead>\n",
       "    <tr style=\"text-align: right;\">\n",
       "      <th></th>\n",
       "      <th>Lot Frontage</th>\n",
       "      <th>Mas Vnr Area</th>\n",
       "      <th>BsmtFin SF 1</th>\n",
       "      <th>BsmtFin SF 2</th>\n",
       "      <th>Bsmt Unf SF</th>\n",
       "      <th>Total Bsmt SF</th>\n",
       "      <th>Bsmt Full Bath</th>\n",
       "      <th>Bsmt Half Bath</th>\n",
       "      <th>Garage Yr Blt</th>\n",
       "      <th>Garage Cars</th>\n",
       "      <th>Garage Area</th>\n",
       "    </tr>\n",
       "  </thead>\n",
       "  <tbody>\n",
       "    <tr>\n",
       "      <th>0</th>\n",
       "      <td>141.0</td>\n",
       "      <td>112.0</td>\n",
       "      <td>639.0</td>\n",
       "      <td>0.0</td>\n",
       "      <td>441.0</td>\n",
       "      <td>1080.0</td>\n",
       "      <td>1.0</td>\n",
       "      <td>0.0</td>\n",
       "      <td>1960.0</td>\n",
       "      <td>2.0</td>\n",
       "      <td>528.0</td>\n",
       "    </tr>\n",
       "    <tr>\n",
       "      <th>1</th>\n",
       "      <td>80.0</td>\n",
       "      <td>0.0</td>\n",
       "      <td>468.0</td>\n",
       "      <td>144.0</td>\n",
       "      <td>270.0</td>\n",
       "      <td>882.0</td>\n",
       "      <td>0.0</td>\n",
       "      <td>0.0</td>\n",
       "      <td>1961.0</td>\n",
       "      <td>1.0</td>\n",
       "      <td>730.0</td>\n",
       "    </tr>\n",
       "    <tr>\n",
       "      <th>2</th>\n",
       "      <td>81.0</td>\n",
       "      <td>108.0</td>\n",
       "      <td>923.0</td>\n",
       "      <td>0.0</td>\n",
       "      <td>406.0</td>\n",
       "      <td>1329.0</td>\n",
       "      <td>0.0</td>\n",
       "      <td>0.0</td>\n",
       "      <td>1958.0</td>\n",
       "      <td>1.0</td>\n",
       "      <td>312.0</td>\n",
       "    </tr>\n",
       "    <tr>\n",
       "      <th>3</th>\n",
       "      <td>93.0</td>\n",
       "      <td>0.0</td>\n",
       "      <td>1065.0</td>\n",
       "      <td>0.0</td>\n",
       "      <td>1045.0</td>\n",
       "      <td>2110.0</td>\n",
       "      <td>1.0</td>\n",
       "      <td>0.0</td>\n",
       "      <td>1968.0</td>\n",
       "      <td>2.0</td>\n",
       "      <td>522.0</td>\n",
       "    </tr>\n",
       "    <tr>\n",
       "      <th>4</th>\n",
       "      <td>74.0</td>\n",
       "      <td>0.0</td>\n",
       "      <td>791.0</td>\n",
       "      <td>0.0</td>\n",
       "      <td>137.0</td>\n",
       "      <td>928.0</td>\n",
       "      <td>0.0</td>\n",
       "      <td>0.0</td>\n",
       "      <td>1997.0</td>\n",
       "      <td>2.0</td>\n",
       "      <td>482.0</td>\n",
       "    </tr>\n",
       "  </tbody>\n",
       "</table>\n",
       "</div>"
      ],
      "text/plain": [
       "   Lot Frontage  Mas Vnr Area  BsmtFin SF 1  BsmtFin SF 2  Bsmt Unf SF  \\\n",
       "0         141.0         112.0         639.0           0.0        441.0   \n",
       "1          80.0           0.0         468.0         144.0        270.0   \n",
       "2          81.0         108.0         923.0           0.0        406.0   \n",
       "3          93.0           0.0        1065.0           0.0       1045.0   \n",
       "4          74.0           0.0         791.0           0.0        137.0   \n",
       "\n",
       "   Total Bsmt SF  Bsmt Full Bath  Bsmt Half Bath  Garage Yr Blt  Garage Cars  \\\n",
       "0         1080.0             1.0             0.0         1960.0          2.0   \n",
       "1          882.0             0.0             0.0         1961.0          1.0   \n",
       "2         1329.0             0.0             0.0         1958.0          1.0   \n",
       "3         2110.0             1.0             0.0         1968.0          2.0   \n",
       "4          928.0             0.0             0.0         1997.0          2.0   \n",
       "\n",
       "   Garage Area  \n",
       "0        528.0  \n",
       "1        730.0  \n",
       "2        312.0  \n",
       "3        522.0  \n",
       "4        482.0  "
      ]
     },
     "execution_count": 6,
     "metadata": {},
     "output_type": "execute_result"
    }
   ],
   "source": [
    "numerical_nan = houses.select_dtypes(include = ['int','float']).isnull().sum()\n",
    "num_index = numerical_nan[numerical_nan >0].index\n",
    "houses[num_index].head()"
   ]
  },
  {
   "cell_type": "markdown",
   "metadata": {},
   "source": [
    "The column `houses['Garage Yr Blt']` needs to be updated. Best to use \"age of garage when sold\":"
   ]
  },
  {
   "cell_type": "code",
   "execution_count": 7,
   "metadata": {
    "collapsed": true
   },
   "outputs": [],
   "source": [
    "houses['garage age'] = houses['Yr Sold'] - houses['Garage Yr Blt']\n",
    "houses.drop(columns = ['Garage Yr Blt'],inplace = True)"
   ]
  },
  {
   "cell_type": "code",
   "execution_count": 8,
   "metadata": {
    "collapsed": false
   },
   "outputs": [
    {
     "data": {
      "text/plain": [
       "Lot Frontage      490\n",
       "Mas Vnr Area       23\n",
       "BsmtFin SF 1        1\n",
       "BsmtFin SF 2        1\n",
       "Bsmt Unf SF         1\n",
       "Total Bsmt SF       1\n",
       "Bsmt Full Bath      2\n",
       "Bsmt Half Bath      2\n",
       "Garage Cars         1\n",
       "Garage Area         1\n",
       "garage age        159\n",
       "dtype: int64"
      ]
     },
     "execution_count": 8,
     "metadata": {},
     "output_type": "execute_result"
    }
   ],
   "source": [
    "numerical_nan = houses.select_dtypes(include = ['int','float']).isnull().sum()\n",
    "numerical_nan[numerical_nan >0]"
   ]
  },
  {
   "cell_type": "code",
   "execution_count": 9,
   "metadata": {
    "collapsed": true
   },
   "outputs": [],
   "source": [
    "num_nan_col = numerical_nan[numerical_nan >0].index\n",
    "houses[num_nan_col] = houses[num_nan_col].fillna(houses[num_nan_col].mean())"
   ]
  },
  {
   "cell_type": "code",
   "execution_count": 10,
   "metadata": {
    "collapsed": false
   },
   "outputs": [
    {
     "data": {
      "text/plain": [
       "Lot Frontage      0\n",
       "Mas Vnr Area      0\n",
       "BsmtFin SF 1      0\n",
       "BsmtFin SF 2      0\n",
       "Bsmt Unf SF       0\n",
       "Total Bsmt SF     0\n",
       "Bsmt Full Bath    0\n",
       "Bsmt Half Bath    0\n",
       "Garage Cars       0\n",
       "Garage Area       0\n",
       "garage age        0\n",
       "dtype: int64"
      ]
     },
     "execution_count": 10,
     "metadata": {},
     "output_type": "execute_result"
    }
   ],
   "source": [
    "houses[num_nan_col].isnull().sum()"
   ]
  },
  {
   "cell_type": "markdown",
   "metadata": {},
   "source": [
    "Columns with `objects` and missing values:"
   ]
  },
  {
   "cell_type": "code",
   "execution_count": 11,
   "metadata": {
    "collapsed": false
   },
   "outputs": [
    {
     "data": {
      "text/plain": [
       "Mas Vnr Type       23\n",
       "Bsmt Qual          80\n",
       "Bsmt Cond          80\n",
       "Bsmt Exposure      83\n",
       "BsmtFin Type 1     80\n",
       "BsmtFin Type 2     81\n",
       "Electrical          1\n",
       "Garage Type       157\n",
       "Garage Finish     159\n",
       "Garage Qual       159\n",
       "Garage Cond       159\n",
       "dtype: int64"
      ]
     },
     "execution_count": 11,
     "metadata": {},
     "output_type": "execute_result"
    }
   ],
   "source": [
    "obj_nan = houses.select_dtypes(include = ['object']).isnull().sum()\n",
    "obj_nan[obj_nan >0]"
   ]
  },
  {
   "cell_type": "code",
   "execution_count": 12,
   "metadata": {
    "collapsed": false
   },
   "outputs": [
    {
     "data": {
      "text/html": [
       "<div>\n",
       "<style scoped>\n",
       "    .dataframe tbody tr th:only-of-type {\n",
       "        vertical-align: middle;\n",
       "    }\n",
       "\n",
       "    .dataframe tbody tr th {\n",
       "        vertical-align: top;\n",
       "    }\n",
       "\n",
       "    .dataframe thead th {\n",
       "        text-align: right;\n",
       "    }\n",
       "</style>\n",
       "<table border=\"1\" class=\"dataframe\">\n",
       "  <thead>\n",
       "    <tr style=\"text-align: right;\">\n",
       "      <th></th>\n",
       "      <th>Mas Vnr Type</th>\n",
       "      <th>Bsmt Qual</th>\n",
       "      <th>Bsmt Cond</th>\n",
       "      <th>Bsmt Exposure</th>\n",
       "      <th>BsmtFin Type 1</th>\n",
       "      <th>BsmtFin Type 2</th>\n",
       "      <th>Electrical</th>\n",
       "      <th>Garage Type</th>\n",
       "      <th>Garage Finish</th>\n",
       "      <th>Garage Qual</th>\n",
       "      <th>Garage Cond</th>\n",
       "    </tr>\n",
       "  </thead>\n",
       "  <tbody>\n",
       "    <tr>\n",
       "      <th>0</th>\n",
       "      <td>Stone</td>\n",
       "      <td>TA</td>\n",
       "      <td>Gd</td>\n",
       "      <td>Gd</td>\n",
       "      <td>BLQ</td>\n",
       "      <td>Unf</td>\n",
       "      <td>SBrkr</td>\n",
       "      <td>Attchd</td>\n",
       "      <td>Fin</td>\n",
       "      <td>TA</td>\n",
       "      <td>TA</td>\n",
       "    </tr>\n",
       "    <tr>\n",
       "      <th>1</th>\n",
       "      <td>None</td>\n",
       "      <td>TA</td>\n",
       "      <td>TA</td>\n",
       "      <td>No</td>\n",
       "      <td>Rec</td>\n",
       "      <td>LwQ</td>\n",
       "      <td>SBrkr</td>\n",
       "      <td>Attchd</td>\n",
       "      <td>Unf</td>\n",
       "      <td>TA</td>\n",
       "      <td>TA</td>\n",
       "    </tr>\n",
       "    <tr>\n",
       "      <th>2</th>\n",
       "      <td>BrkFace</td>\n",
       "      <td>TA</td>\n",
       "      <td>TA</td>\n",
       "      <td>No</td>\n",
       "      <td>ALQ</td>\n",
       "      <td>Unf</td>\n",
       "      <td>SBrkr</td>\n",
       "      <td>Attchd</td>\n",
       "      <td>Unf</td>\n",
       "      <td>TA</td>\n",
       "      <td>TA</td>\n",
       "    </tr>\n",
       "    <tr>\n",
       "      <th>3</th>\n",
       "      <td>None</td>\n",
       "      <td>TA</td>\n",
       "      <td>TA</td>\n",
       "      <td>No</td>\n",
       "      <td>ALQ</td>\n",
       "      <td>Unf</td>\n",
       "      <td>SBrkr</td>\n",
       "      <td>Attchd</td>\n",
       "      <td>Fin</td>\n",
       "      <td>TA</td>\n",
       "      <td>TA</td>\n",
       "    </tr>\n",
       "    <tr>\n",
       "      <th>4</th>\n",
       "      <td>None</td>\n",
       "      <td>Gd</td>\n",
       "      <td>TA</td>\n",
       "      <td>No</td>\n",
       "      <td>GLQ</td>\n",
       "      <td>Unf</td>\n",
       "      <td>SBrkr</td>\n",
       "      <td>Attchd</td>\n",
       "      <td>Fin</td>\n",
       "      <td>TA</td>\n",
       "      <td>TA</td>\n",
       "    </tr>\n",
       "  </tbody>\n",
       "</table>\n",
       "</div>"
      ],
      "text/plain": [
       "  Mas Vnr Type Bsmt Qual Bsmt Cond Bsmt Exposure BsmtFin Type 1  \\\n",
       "0        Stone        TA        Gd            Gd            BLQ   \n",
       "1         None        TA        TA            No            Rec   \n",
       "2      BrkFace        TA        TA            No            ALQ   \n",
       "3         None        TA        TA            No            ALQ   \n",
       "4         None        Gd        TA            No            GLQ   \n",
       "\n",
       "  BsmtFin Type 2 Electrical Garage Type Garage Finish Garage Qual Garage Cond  \n",
       "0            Unf      SBrkr      Attchd           Fin          TA          TA  \n",
       "1            LwQ      SBrkr      Attchd           Unf          TA          TA  \n",
       "2            Unf      SBrkr      Attchd           Unf          TA          TA  \n",
       "3            Unf      SBrkr      Attchd           Fin          TA          TA  \n",
       "4            Unf      SBrkr      Attchd           Fin          TA          TA  "
      ]
     },
     "execution_count": 12,
     "metadata": {},
     "output_type": "execute_result"
    }
   ],
   "source": [
    "houses[obj_nan[obj_nan >0].index].head()"
   ]
  },
  {
   "cell_type": "code",
   "execution_count": 13,
   "metadata": {
    "collapsed": false
   },
   "outputs": [
    {
     "name": "stdout",
     "output_type": "stream",
     "text": [
      "None       0.597952\n",
      "BrkFace    0.300341\n",
      "Stone      0.084983\n",
      "BrkCmn     0.008532\n",
      "NaN        0.007850\n",
      "CBlock     0.000341\n",
      "Name: Mas Vnr Type, dtype: float64\n",
      "TA     0.437884\n",
      "Gd     0.416041\n",
      "Ex     0.088055\n",
      "Fa     0.030034\n",
      "NaN    0.027304\n",
      "Po     0.000683\n",
      "Name: Bsmt Qual, dtype: float64\n",
      "TA     0.892833\n",
      "Gd     0.041638\n",
      "Fa     0.035495\n",
      "NaN    0.027304\n",
      "Po     0.001706\n",
      "Ex     0.001024\n",
      "Name: Bsmt Cond, dtype: float64\n",
      "No     0.650512\n",
      "Av     0.142662\n",
      "Gd     0.096928\n",
      "Mn     0.081570\n",
      "NaN    0.028328\n",
      "Name: Bsmt Exposure, dtype: float64\n",
      "GLQ    0.293174\n",
      "Unf    0.290444\n",
      "ALQ    0.146416\n",
      "Rec    0.098294\n",
      "BLQ    0.091809\n",
      "LwQ    0.052560\n",
      "NaN    0.027304\n",
      "Name: BsmtFin Type 1, dtype: float64\n",
      "Unf    0.852901\n",
      "Rec    0.036177\n",
      "LwQ    0.030375\n",
      "NaN    0.027645\n",
      "BLQ    0.023208\n",
      "ALQ    0.018089\n",
      "GLQ    0.011604\n",
      "Name: BsmtFin Type 2, dtype: float64\n",
      "SBrkr    0.915358\n",
      "FuseA    0.064164\n",
      "FuseF    0.017065\n",
      "FuseP    0.002730\n",
      "Mix      0.000341\n",
      "NaN      0.000341\n",
      "Name: Electrical, dtype: float64\n",
      "Attchd     0.590785\n",
      "Detchd     0.266894\n",
      "BuiltIn    0.063481\n",
      "NaN        0.053584\n",
      "Basment    0.012287\n",
      "2Types     0.007850\n",
      "CarPort    0.005119\n",
      "Name: Garage Type, dtype: float64\n",
      "Unf    0.420137\n",
      "RFn    0.277133\n",
      "Fin    0.248464\n",
      "NaN    0.054266\n",
      "Name: Garage Finish, dtype: float64\n",
      "TA     0.892491\n",
      "NaN    0.054266\n",
      "Fa     0.042321\n",
      "Gd     0.008191\n",
      "Po     0.001706\n",
      "Ex     0.001024\n",
      "Name: Garage Qual, dtype: float64\n",
      "TA     0.909556\n",
      "NaN    0.054266\n",
      "Fa     0.025256\n",
      "Gd     0.005119\n",
      "Po     0.004778\n",
      "Ex     0.001024\n",
      "Name: Garage Cond, dtype: float64\n"
     ]
    }
   ],
   "source": [
    "over85 = []\n",
    "for col in obj_nan[obj_nan >0].index:\n",
    "    print(houses[col].value_counts(normalize = True,dropna = False))\n",
    "    if houses[col].value_counts(normalize = True)[0]>0.85:\n",
    "        over85.append(col)"
   ]
  },
  {
   "cell_type": "markdown",
   "metadata": {},
   "source": [
    "Some of these columns have mostly the same value. For example in `Garage Qual` over 90% of all entries are `TA`. For now I will drop every column with more than 85% of one value. I might take them into account again later and test whether they improve the result."
   ]
  },
  {
   "cell_type": "code",
   "execution_count": 14,
   "metadata": {
    "collapsed": false
   },
   "outputs": [],
   "source": [
    "houses.drop(columns = over85, inplace = True)"
   ]
  },
  {
   "cell_type": "code",
   "execution_count": 15,
   "metadata": {
    "collapsed": false
   },
   "outputs": [
    {
     "data": {
      "text/html": [
       "<div>\n",
       "<style scoped>\n",
       "    .dataframe tbody tr th:only-of-type {\n",
       "        vertical-align: middle;\n",
       "    }\n",
       "\n",
       "    .dataframe tbody tr th {\n",
       "        vertical-align: top;\n",
       "    }\n",
       "\n",
       "    .dataframe thead th {\n",
       "        text-align: right;\n",
       "    }\n",
       "</style>\n",
       "<table border=\"1\" class=\"dataframe\">\n",
       "  <thead>\n",
       "    <tr style=\"text-align: right;\">\n",
       "      <th></th>\n",
       "      <th>Mas Vnr Type</th>\n",
       "      <th>Bsmt Qual</th>\n",
       "      <th>Bsmt Exposure</th>\n",
       "      <th>BsmtFin Type 1</th>\n",
       "      <th>Garage Type</th>\n",
       "      <th>Garage Finish</th>\n",
       "    </tr>\n",
       "  </thead>\n",
       "  <tbody>\n",
       "    <tr>\n",
       "      <th>0</th>\n",
       "      <td>Stone</td>\n",
       "      <td>TA</td>\n",
       "      <td>Gd</td>\n",
       "      <td>BLQ</td>\n",
       "      <td>Attchd</td>\n",
       "      <td>Fin</td>\n",
       "    </tr>\n",
       "    <tr>\n",
       "      <th>1</th>\n",
       "      <td>None</td>\n",
       "      <td>TA</td>\n",
       "      <td>No</td>\n",
       "      <td>Rec</td>\n",
       "      <td>Attchd</td>\n",
       "      <td>Unf</td>\n",
       "    </tr>\n",
       "    <tr>\n",
       "      <th>2</th>\n",
       "      <td>BrkFace</td>\n",
       "      <td>TA</td>\n",
       "      <td>No</td>\n",
       "      <td>ALQ</td>\n",
       "      <td>Attchd</td>\n",
       "      <td>Unf</td>\n",
       "    </tr>\n",
       "    <tr>\n",
       "      <th>3</th>\n",
       "      <td>None</td>\n",
       "      <td>TA</td>\n",
       "      <td>No</td>\n",
       "      <td>ALQ</td>\n",
       "      <td>Attchd</td>\n",
       "      <td>Fin</td>\n",
       "    </tr>\n",
       "    <tr>\n",
       "      <th>4</th>\n",
       "      <td>None</td>\n",
       "      <td>Gd</td>\n",
       "      <td>No</td>\n",
       "      <td>GLQ</td>\n",
       "      <td>Attchd</td>\n",
       "      <td>Fin</td>\n",
       "    </tr>\n",
       "  </tbody>\n",
       "</table>\n",
       "</div>"
      ],
      "text/plain": [
       "  Mas Vnr Type Bsmt Qual Bsmt Exposure BsmtFin Type 1 Garage Type  \\\n",
       "0        Stone        TA            Gd            BLQ      Attchd   \n",
       "1         None        TA            No            Rec      Attchd   \n",
       "2      BrkFace        TA            No            ALQ      Attchd   \n",
       "3         None        TA            No            ALQ      Attchd   \n",
       "4         None        Gd            No            GLQ      Attchd   \n",
       "\n",
       "  Garage Finish  \n",
       "0           Fin  \n",
       "1           Unf  \n",
       "2           Unf  \n",
       "3           Fin  \n",
       "4           Fin  "
      ]
     },
     "execution_count": 15,
     "metadata": {},
     "output_type": "execute_result"
    }
   ],
   "source": [
    "obj_nan = houses.select_dtypes(include = ['object']).isnull().sum()\n",
    "houses[obj_nan[obj_nan >0].index].head()"
   ]
  },
  {
   "cell_type": "markdown",
   "metadata": {},
   "source": [
    "I will fill the `NaN` with the most common entry:"
   ]
  },
  {
   "cell_type": "code",
   "execution_count": 16,
   "metadata": {
    "collapsed": false
   },
   "outputs": [
    {
     "data": {
      "text/plain": [
       "{'Bsmt Exposure': 'No',\n",
       " 'Bsmt Qual': 'TA',\n",
       " 'BsmtFin Type 1': 'GLQ',\n",
       " 'Garage Finish': 'Unf',\n",
       " 'Garage Type': 'Attchd',\n",
       " 'Mas Vnr Type': 'None'}"
      ]
     },
     "execution_count": 16,
     "metadata": {},
     "output_type": "execute_result"
    }
   ],
   "source": [
    "replacement_values_dict = houses[obj_nan[obj_nan >0].index].mode().to_dict(orient='records')[0]\n",
    "replacement_values_dict"
   ]
  },
  {
   "cell_type": "code",
   "execution_count": 17,
   "metadata": {
    "collapsed": false
   },
   "outputs": [
    {
     "data": {
      "text/plain": [
       "Mas Vnr Type      0\n",
       "Bsmt Qual         0\n",
       "Bsmt Exposure     0\n",
       "BsmtFin Type 1    0\n",
       "Garage Type       0\n",
       "Garage Finish     0\n",
       "dtype: int64"
      ]
     },
     "execution_count": 17,
     "metadata": {},
     "output_type": "execute_result"
    }
   ],
   "source": [
    "houses[obj_nan[obj_nan >0].index] = houses[obj_nan[obj_nan >0].index].fillna(replacement_values_dict)\n",
    "houses[obj_nan[obj_nan >0].index].isnull().sum()"
   ]
  },
  {
   "cell_type": "markdown",
   "metadata": {},
   "source": [
    "Are the `NaN` really gone?"
   ]
  },
  {
   "cell_type": "code",
   "execution_count": 18,
   "metadata": {
    "collapsed": false
   },
   "outputs": [
    {
     "data": {
      "text/plain": [
       "Order              0\n",
       "TotRms AbvGrd      0\n",
       "Kitchen Qual       0\n",
       "Kitchen AbvGr      0\n",
       "Bedroom AbvGr      0\n",
       "Half Bath          0\n",
       "Full Bath          0\n",
       "Functional         0\n",
       "Bsmt Half Bath     0\n",
       "Gr Liv Area        0\n",
       "Low Qual Fin SF    0\n",
       "2nd Flr SF         0\n",
       "1st Flr SF         0\n",
       "Central Air        0\n",
       "Heating QC         0\n",
       "Bsmt Full Bath     0\n",
       "Heating            0\n",
       "Fireplaces         0\n",
       "Garage Finish      0\n",
       "Sale Condition     0\n",
       "Sale Type          0\n",
       "Yr Sold            0\n",
       "Mo Sold            0\n",
       "Misc Val           0\n",
       "Pool Area          0\n",
       "Garage Type        0\n",
       "Screen Porch       0\n",
       "Enclosed Porch     0\n",
       "Open Porch SF      0\n",
       "Wood Deck SF       0\n",
       "                  ..\n",
       "Utilities          0\n",
       "Bldg Type          0\n",
       "Land Contour       0\n",
       "Street             0\n",
       "Lot Area           0\n",
       "Lot Frontage       0\n",
       "MS Zoning          0\n",
       "MS SubClass        0\n",
       "PID                0\n",
       "Lot Shape          0\n",
       "House Style        0\n",
       "Overall Qual       0\n",
       "Overall Cond       0\n",
       "BsmtFin SF 1       0\n",
       "BsmtFin Type 1     0\n",
       "Bsmt Exposure      0\n",
       "Bsmt Qual          0\n",
       "Foundation         0\n",
       "Exter Cond         0\n",
       "Exter Qual         0\n",
       "Mas Vnr Area       0\n",
       "Mas Vnr Type       0\n",
       "Exterior 2nd       0\n",
       "Exterior 1st       0\n",
       "Roof Matl          0\n",
       "Roof Style         0\n",
       "Year Remod/Add     0\n",
       "Year Built         0\n",
       "SalePrice          0\n",
       "garage age         0\n",
       "Length: 72, dtype: int64"
      ]
     },
     "execution_count": 18,
     "metadata": {},
     "output_type": "execute_result"
    }
   ],
   "source": [
    "houses.isnull().sum().sort_values()"
   ]
  },
  {
   "cell_type": "markdown",
   "metadata": {},
   "source": [
    "The next step is to look for columns that need to be modified. For example categorical features or numerical (non-categorical) features that need to be improved. More information about the columns can be found <a href=\"https://s3.amazonaws.com/dq-content/307/data_description.txt\">here</a>."
   ]
  },
  {
   "cell_type": "code",
   "execution_count": 19,
   "metadata": {
    "collapsed": false
   },
   "outputs": [
    {
     "data": {
      "text/html": [
       "<div>\n",
       "<style scoped>\n",
       "    .dataframe tbody tr th:only-of-type {\n",
       "        vertical-align: middle;\n",
       "    }\n",
       "\n",
       "    .dataframe tbody tr th {\n",
       "        vertical-align: top;\n",
       "    }\n",
       "\n",
       "    .dataframe thead th {\n",
       "        text-align: right;\n",
       "    }\n",
       "</style>\n",
       "<table border=\"1\" class=\"dataframe\">\n",
       "  <thead>\n",
       "    <tr style=\"text-align: right;\">\n",
       "      <th></th>\n",
       "      <th>Order</th>\n",
       "      <th>PID</th>\n",
       "      <th>MS SubClass</th>\n",
       "      <th>MS Zoning</th>\n",
       "      <th>Lot Frontage</th>\n",
       "      <th>Lot Area</th>\n",
       "      <th>Street</th>\n",
       "      <th>Lot Shape</th>\n",
       "      <th>Land Contour</th>\n",
       "      <th>Utilities</th>\n",
       "      <th>...</th>\n",
       "      <th>3Ssn Porch</th>\n",
       "      <th>Screen Porch</th>\n",
       "      <th>Pool Area</th>\n",
       "      <th>Misc Val</th>\n",
       "      <th>Mo Sold</th>\n",
       "      <th>Yr Sold</th>\n",
       "      <th>Sale Type</th>\n",
       "      <th>Sale Condition</th>\n",
       "      <th>SalePrice</th>\n",
       "      <th>garage age</th>\n",
       "    </tr>\n",
       "  </thead>\n",
       "  <tbody>\n",
       "    <tr>\n",
       "      <th>0</th>\n",
       "      <td>1</td>\n",
       "      <td>526301100</td>\n",
       "      <td>20</td>\n",
       "      <td>RL</td>\n",
       "      <td>141.0</td>\n",
       "      <td>31770</td>\n",
       "      <td>Pave</td>\n",
       "      <td>IR1</td>\n",
       "      <td>Lvl</td>\n",
       "      <td>AllPub</td>\n",
       "      <td>...</td>\n",
       "      <td>0</td>\n",
       "      <td>0</td>\n",
       "      <td>0</td>\n",
       "      <td>0</td>\n",
       "      <td>5</td>\n",
       "      <td>2010</td>\n",
       "      <td>WD</td>\n",
       "      <td>Normal</td>\n",
       "      <td>215000</td>\n",
       "      <td>50.0</td>\n",
       "    </tr>\n",
       "    <tr>\n",
       "      <th>1</th>\n",
       "      <td>2</td>\n",
       "      <td>526350040</td>\n",
       "      <td>20</td>\n",
       "      <td>RH</td>\n",
       "      <td>80.0</td>\n",
       "      <td>11622</td>\n",
       "      <td>Pave</td>\n",
       "      <td>Reg</td>\n",
       "      <td>Lvl</td>\n",
       "      <td>AllPub</td>\n",
       "      <td>...</td>\n",
       "      <td>0</td>\n",
       "      <td>120</td>\n",
       "      <td>0</td>\n",
       "      <td>0</td>\n",
       "      <td>6</td>\n",
       "      <td>2010</td>\n",
       "      <td>WD</td>\n",
       "      <td>Normal</td>\n",
       "      <td>105000</td>\n",
       "      <td>49.0</td>\n",
       "    </tr>\n",
       "    <tr>\n",
       "      <th>2</th>\n",
       "      <td>3</td>\n",
       "      <td>526351010</td>\n",
       "      <td>20</td>\n",
       "      <td>RL</td>\n",
       "      <td>81.0</td>\n",
       "      <td>14267</td>\n",
       "      <td>Pave</td>\n",
       "      <td>IR1</td>\n",
       "      <td>Lvl</td>\n",
       "      <td>AllPub</td>\n",
       "      <td>...</td>\n",
       "      <td>0</td>\n",
       "      <td>0</td>\n",
       "      <td>0</td>\n",
       "      <td>12500</td>\n",
       "      <td>6</td>\n",
       "      <td>2010</td>\n",
       "      <td>WD</td>\n",
       "      <td>Normal</td>\n",
       "      <td>172000</td>\n",
       "      <td>52.0</td>\n",
       "    </tr>\n",
       "    <tr>\n",
       "      <th>3</th>\n",
       "      <td>4</td>\n",
       "      <td>526353030</td>\n",
       "      <td>20</td>\n",
       "      <td>RL</td>\n",
       "      <td>93.0</td>\n",
       "      <td>11160</td>\n",
       "      <td>Pave</td>\n",
       "      <td>Reg</td>\n",
       "      <td>Lvl</td>\n",
       "      <td>AllPub</td>\n",
       "      <td>...</td>\n",
       "      <td>0</td>\n",
       "      <td>0</td>\n",
       "      <td>0</td>\n",
       "      <td>0</td>\n",
       "      <td>4</td>\n",
       "      <td>2010</td>\n",
       "      <td>WD</td>\n",
       "      <td>Normal</td>\n",
       "      <td>244000</td>\n",
       "      <td>42.0</td>\n",
       "    </tr>\n",
       "    <tr>\n",
       "      <th>4</th>\n",
       "      <td>5</td>\n",
       "      <td>527105010</td>\n",
       "      <td>60</td>\n",
       "      <td>RL</td>\n",
       "      <td>74.0</td>\n",
       "      <td>13830</td>\n",
       "      <td>Pave</td>\n",
       "      <td>IR1</td>\n",
       "      <td>Lvl</td>\n",
       "      <td>AllPub</td>\n",
       "      <td>...</td>\n",
       "      <td>0</td>\n",
       "      <td>0</td>\n",
       "      <td>0</td>\n",
       "      <td>0</td>\n",
       "      <td>3</td>\n",
       "      <td>2010</td>\n",
       "      <td>WD</td>\n",
       "      <td>Normal</td>\n",
       "      <td>189900</td>\n",
       "      <td>13.0</td>\n",
       "    </tr>\n",
       "  </tbody>\n",
       "</table>\n",
       "<p>5 rows × 72 columns</p>\n",
       "</div>"
      ],
      "text/plain": [
       "   Order        PID  MS SubClass MS Zoning  Lot Frontage  Lot Area Street  \\\n",
       "0      1  526301100           20        RL         141.0     31770   Pave   \n",
       "1      2  526350040           20        RH          80.0     11622   Pave   \n",
       "2      3  526351010           20        RL          81.0     14267   Pave   \n",
       "3      4  526353030           20        RL          93.0     11160   Pave   \n",
       "4      5  527105010           60        RL          74.0     13830   Pave   \n",
       "\n",
       "  Lot Shape Land Contour Utilities     ...     3Ssn Porch Screen Porch  \\\n",
       "0       IR1          Lvl    AllPub     ...              0            0   \n",
       "1       Reg          Lvl    AllPub     ...              0          120   \n",
       "2       IR1          Lvl    AllPub     ...              0            0   \n",
       "3       Reg          Lvl    AllPub     ...              0            0   \n",
       "4       IR1          Lvl    AllPub     ...              0            0   \n",
       "\n",
       "  Pool Area Misc Val Mo Sold Yr Sold Sale Type  Sale Condition  SalePrice  \\\n",
       "0         0        0       5    2010       WD           Normal     215000   \n",
       "1         0        0       6    2010       WD           Normal     105000   \n",
       "2         0    12500       6    2010       WD           Normal     172000   \n",
       "3         0        0       4    2010       WD           Normal     244000   \n",
       "4         0        0       3    2010       WD           Normal     189900   \n",
       "\n",
       "   garage age  \n",
       "0        50.0  \n",
       "1        49.0  \n",
       "2        52.0  \n",
       "3        42.0  \n",
       "4        13.0  \n",
       "\n",
       "[5 rows x 72 columns]"
      ]
     },
     "execution_count": 19,
     "metadata": {},
     "output_type": "execute_result"
    }
   ],
   "source": [
    "houses.head()"
   ]
  },
  {
   "cell_type": "code",
   "execution_count": 20,
   "metadata": {
    "collapsed": false
   },
   "outputs": [],
   "source": [
    "houses['years till remod/add'] = houses['Year Remod/Add'] - houses['Year Built']\n",
    "houses['years till sold'] = houses['Yr Sold'] - houses['Year Built']\n",
    "houses['years remod till sold'] = houses['Yr Sold'] - houses['Year Remod/Add']\n",
    "houses.drop(columns = ['Year Remod/Add','Year Built'],inplace = True)"
   ]
  },
  {
   "cell_type": "code",
   "execution_count": 21,
   "metadata": {
    "collapsed": false
   },
   "outputs": [
    {
     "data": {
      "text/plain": [
       "-1"
      ]
     },
     "execution_count": 21,
     "metadata": {},
     "output_type": "execute_result"
    }
   ],
   "source": [
    "houses['years till remod/add'].min()"
   ]
  },
  {
   "cell_type": "code",
   "execution_count": 22,
   "metadata": {
    "collapsed": false
   },
   "outputs": [
    {
     "data": {
      "text/plain": [
       "-1"
      ]
     },
     "execution_count": 22,
     "metadata": {},
     "output_type": "execute_result"
    }
   ],
   "source": [
    "houses['years till sold'].min()"
   ]
  },
  {
   "cell_type": "code",
   "execution_count": 23,
   "metadata": {
    "collapsed": false
   },
   "outputs": [
    {
     "data": {
      "text/plain": [
       "[1, 1, 3]"
      ]
     },
     "execution_count": 23,
     "metadata": {},
     "output_type": "execute_result"
    }
   ],
   "source": [
    "[(houses['years till remod/add']<0).sum(),\n",
    " (houses['years till sold']<0).sum(),\n",
    " (houses['years remod till sold']<0).sum()\n",
    "]"
   ]
  },
  {
   "cell_type": "markdown",
   "metadata": {},
   "source": [
    "These values are obviously wrong."
   ]
  },
  {
   "cell_type": "code",
   "execution_count": 24,
   "metadata": {
    "collapsed": true
   },
   "outputs": [],
   "source": [
    "houses = houses[(houses['years till remod/add']>0) & \n",
    "                (houses['years till sold']>0) &\n",
    "                (houses['years remod till sold']>0)\n",
    "               ].copy()"
   ]
  },
  {
   "cell_type": "markdown",
   "metadata": {},
   "source": [
    "Which columns will not be useful for ML? Which columns leak info about the final sale?"
   ]
  },
  {
   "cell_type": "code",
   "execution_count": 25,
   "metadata": {
    "collapsed": true
   },
   "outputs": [],
   "source": [
    "useless = ['PID','Order']\n",
    "leak = ['Mo Sold','Sale Condition','Sale Type','Yr Sold']\n",
    "houses.drop(columns = useless, inplace = True)\n",
    "houses.drop(columns = leak, inplace = True)"
   ]
  },
  {
   "cell_type": "markdown",
   "metadata": {},
   "source": [
    "Which columns are categorical?"
   ]
  },
  {
   "cell_type": "code",
   "execution_count": 26,
   "metadata": {
    "collapsed": false
   },
   "outputs": [
    {
     "data": {
      "text/html": [
       "<div>\n",
       "<style scoped>\n",
       "    .dataframe tbody tr th:only-of-type {\n",
       "        vertical-align: middle;\n",
       "    }\n",
       "\n",
       "    .dataframe tbody tr th {\n",
       "        vertical-align: top;\n",
       "    }\n",
       "\n",
       "    .dataframe thead th {\n",
       "        text-align: right;\n",
       "    }\n",
       "</style>\n",
       "<table border=\"1\" class=\"dataframe\">\n",
       "  <thead>\n",
       "    <tr style=\"text-align: right;\">\n",
       "      <th></th>\n",
       "      <th>MS SubClass</th>\n",
       "      <th>MS Zoning</th>\n",
       "      <th>Lot Frontage</th>\n",
       "      <th>Lot Area</th>\n",
       "      <th>Street</th>\n",
       "      <th>Lot Shape</th>\n",
       "      <th>Land Contour</th>\n",
       "      <th>Utilities</th>\n",
       "      <th>Lot Config</th>\n",
       "      <th>Land Slope</th>\n",
       "      <th>...</th>\n",
       "      <th>Enclosed Porch</th>\n",
       "      <th>3Ssn Porch</th>\n",
       "      <th>Screen Porch</th>\n",
       "      <th>Pool Area</th>\n",
       "      <th>Misc Val</th>\n",
       "      <th>SalePrice</th>\n",
       "      <th>garage age</th>\n",
       "      <th>years till remod/add</th>\n",
       "      <th>years till sold</th>\n",
       "      <th>years remod till sold</th>\n",
       "    </tr>\n",
       "  </thead>\n",
       "  <tbody>\n",
       "    <tr>\n",
       "      <th>4</th>\n",
       "      <td>60</td>\n",
       "      <td>RL</td>\n",
       "      <td>74.00000</td>\n",
       "      <td>13830</td>\n",
       "      <td>Pave</td>\n",
       "      <td>IR1</td>\n",
       "      <td>Lvl</td>\n",
       "      <td>AllPub</td>\n",
       "      <td>Inside</td>\n",
       "      <td>Gtl</td>\n",
       "      <td>...</td>\n",
       "      <td>0</td>\n",
       "      <td>0</td>\n",
       "      <td>0</td>\n",
       "      <td>0</td>\n",
       "      <td>0</td>\n",
       "      <td>189900</td>\n",
       "      <td>13.0</td>\n",
       "      <td>1</td>\n",
       "      <td>13</td>\n",
       "      <td>12</td>\n",
       "    </tr>\n",
       "    <tr>\n",
       "      <th>8</th>\n",
       "      <td>120</td>\n",
       "      <td>RL</td>\n",
       "      <td>39.00000</td>\n",
       "      <td>5389</td>\n",
       "      <td>Pave</td>\n",
       "      <td>IR1</td>\n",
       "      <td>Lvl</td>\n",
       "      <td>AllPub</td>\n",
       "      <td>Inside</td>\n",
       "      <td>Gtl</td>\n",
       "      <td>...</td>\n",
       "      <td>0</td>\n",
       "      <td>0</td>\n",
       "      <td>0</td>\n",
       "      <td>0</td>\n",
       "      <td>0</td>\n",
       "      <td>236500</td>\n",
       "      <td>15.0</td>\n",
       "      <td>1</td>\n",
       "      <td>15</td>\n",
       "      <td>14</td>\n",
       "    </tr>\n",
       "    <tr>\n",
       "      <th>10</th>\n",
       "      <td>60</td>\n",
       "      <td>RL</td>\n",
       "      <td>75.00000</td>\n",
       "      <td>10000</td>\n",
       "      <td>Pave</td>\n",
       "      <td>IR1</td>\n",
       "      <td>Lvl</td>\n",
       "      <td>AllPub</td>\n",
       "      <td>Corner</td>\n",
       "      <td>Gtl</td>\n",
       "      <td>...</td>\n",
       "      <td>0</td>\n",
       "      <td>0</td>\n",
       "      <td>0</td>\n",
       "      <td>0</td>\n",
       "      <td>0</td>\n",
       "      <td>175900</td>\n",
       "      <td>17.0</td>\n",
       "      <td>1</td>\n",
       "      <td>17</td>\n",
       "      <td>16</td>\n",
       "    </tr>\n",
       "    <tr>\n",
       "      <th>11</th>\n",
       "      <td>20</td>\n",
       "      <td>RL</td>\n",
       "      <td>69.22459</td>\n",
       "      <td>7980</td>\n",
       "      <td>Pave</td>\n",
       "      <td>IR1</td>\n",
       "      <td>Lvl</td>\n",
       "      <td>AllPub</td>\n",
       "      <td>Inside</td>\n",
       "      <td>Gtl</td>\n",
       "      <td>...</td>\n",
       "      <td>0</td>\n",
       "      <td>0</td>\n",
       "      <td>0</td>\n",
       "      <td>0</td>\n",
       "      <td>500</td>\n",
       "      <td>185000</td>\n",
       "      <td>18.0</td>\n",
       "      <td>15</td>\n",
       "      <td>18</td>\n",
       "      <td>3</td>\n",
       "    </tr>\n",
       "    <tr>\n",
       "      <th>16</th>\n",
       "      <td>50</td>\n",
       "      <td>RL</td>\n",
       "      <td>152.00000</td>\n",
       "      <td>12134</td>\n",
       "      <td>Pave</td>\n",
       "      <td>IR1</td>\n",
       "      <td>Bnk</td>\n",
       "      <td>AllPub</td>\n",
       "      <td>Inside</td>\n",
       "      <td>Mod</td>\n",
       "      <td>...</td>\n",
       "      <td>0</td>\n",
       "      <td>0</td>\n",
       "      <td>0</td>\n",
       "      <td>0</td>\n",
       "      <td>0</td>\n",
       "      <td>164000</td>\n",
       "      <td>22.0</td>\n",
       "      <td>17</td>\n",
       "      <td>22</td>\n",
       "      <td>5</td>\n",
       "    </tr>\n",
       "  </tbody>\n",
       "</table>\n",
       "<p>5 rows × 67 columns</p>\n",
       "</div>"
      ],
      "text/plain": [
       "    MS SubClass MS Zoning  Lot Frontage  Lot Area Street Lot Shape  \\\n",
       "4            60        RL      74.00000     13830   Pave       IR1   \n",
       "8           120        RL      39.00000      5389   Pave       IR1   \n",
       "10           60        RL      75.00000     10000   Pave       IR1   \n",
       "11           20        RL      69.22459      7980   Pave       IR1   \n",
       "16           50        RL     152.00000     12134   Pave       IR1   \n",
       "\n",
       "   Land Contour Utilities Lot Config Land Slope          ...           \\\n",
       "4           Lvl    AllPub     Inside        Gtl          ...            \n",
       "8           Lvl    AllPub     Inside        Gtl          ...            \n",
       "10          Lvl    AllPub     Corner        Gtl          ...            \n",
       "11          Lvl    AllPub     Inside        Gtl          ...            \n",
       "16          Bnk    AllPub     Inside        Mod          ...            \n",
       "\n",
       "   Enclosed Porch 3Ssn Porch Screen Porch Pool Area Misc Val  SalePrice  \\\n",
       "4               0          0            0         0        0     189900   \n",
       "8               0          0            0         0        0     236500   \n",
       "10              0          0            0         0        0     175900   \n",
       "11              0          0            0         0      500     185000   \n",
       "16              0          0            0         0        0     164000   \n",
       "\n",
       "    garage age years till remod/add years till sold years remod till sold  \n",
       "4         13.0                    1              13                    12  \n",
       "8         15.0                    1              15                    14  \n",
       "10        17.0                    1              17                    16  \n",
       "11        18.0                   15              18                     3  \n",
       "16        22.0                   17              22                     5  \n",
       "\n",
       "[5 rows x 67 columns]"
      ]
     },
     "execution_count": 26,
     "metadata": {},
     "output_type": "execute_result"
    }
   ],
   "source": [
    "houses.head()"
   ]
  },
  {
   "cell_type": "code",
   "execution_count": 27,
   "metadata": {
    "collapsed": false
   },
   "outputs": [
    {
     "data": {
      "text/html": [
       "<div>\n",
       "<style scoped>\n",
       "    .dataframe tbody tr th:only-of-type {\n",
       "        vertical-align: middle;\n",
       "    }\n",
       "\n",
       "    .dataframe tbody tr th {\n",
       "        vertical-align: top;\n",
       "    }\n",
       "\n",
       "    .dataframe thead th {\n",
       "        text-align: right;\n",
       "    }\n",
       "</style>\n",
       "<table border=\"1\" class=\"dataframe\">\n",
       "  <thead>\n",
       "    <tr style=\"text-align: right;\">\n",
       "      <th></th>\n",
       "      <th>MS Zoning</th>\n",
       "      <th>Street</th>\n",
       "      <th>Lot Shape</th>\n",
       "      <th>Land Contour</th>\n",
       "      <th>Utilities</th>\n",
       "      <th>Lot Config</th>\n",
       "      <th>Land Slope</th>\n",
       "      <th>Neighborhood</th>\n",
       "      <th>Condition 1</th>\n",
       "      <th>Condition 2</th>\n",
       "      <th>...</th>\n",
       "      <th>Bsmt Exposure</th>\n",
       "      <th>BsmtFin Type 1</th>\n",
       "      <th>Heating</th>\n",
       "      <th>Heating QC</th>\n",
       "      <th>Central Air</th>\n",
       "      <th>Kitchen Qual</th>\n",
       "      <th>Functional</th>\n",
       "      <th>Garage Type</th>\n",
       "      <th>Garage Finish</th>\n",
       "      <th>Paved Drive</th>\n",
       "    </tr>\n",
       "  </thead>\n",
       "  <tbody>\n",
       "    <tr>\n",
       "      <th>4</th>\n",
       "      <td>RL</td>\n",
       "      <td>Pave</td>\n",
       "      <td>IR1</td>\n",
       "      <td>Lvl</td>\n",
       "      <td>AllPub</td>\n",
       "      <td>Inside</td>\n",
       "      <td>Gtl</td>\n",
       "      <td>Gilbert</td>\n",
       "      <td>Norm</td>\n",
       "      <td>Norm</td>\n",
       "      <td>...</td>\n",
       "      <td>No</td>\n",
       "      <td>GLQ</td>\n",
       "      <td>GasA</td>\n",
       "      <td>Gd</td>\n",
       "      <td>Y</td>\n",
       "      <td>TA</td>\n",
       "      <td>Typ</td>\n",
       "      <td>Attchd</td>\n",
       "      <td>Fin</td>\n",
       "      <td>Y</td>\n",
       "    </tr>\n",
       "    <tr>\n",
       "      <th>8</th>\n",
       "      <td>RL</td>\n",
       "      <td>Pave</td>\n",
       "      <td>IR1</td>\n",
       "      <td>Lvl</td>\n",
       "      <td>AllPub</td>\n",
       "      <td>Inside</td>\n",
       "      <td>Gtl</td>\n",
       "      <td>StoneBr</td>\n",
       "      <td>Norm</td>\n",
       "      <td>Norm</td>\n",
       "      <td>...</td>\n",
       "      <td>No</td>\n",
       "      <td>GLQ</td>\n",
       "      <td>GasA</td>\n",
       "      <td>Ex</td>\n",
       "      <td>Y</td>\n",
       "      <td>Gd</td>\n",
       "      <td>Typ</td>\n",
       "      <td>Attchd</td>\n",
       "      <td>RFn</td>\n",
       "      <td>Y</td>\n",
       "    </tr>\n",
       "    <tr>\n",
       "      <th>10</th>\n",
       "      <td>RL</td>\n",
       "      <td>Pave</td>\n",
       "      <td>IR1</td>\n",
       "      <td>Lvl</td>\n",
       "      <td>AllPub</td>\n",
       "      <td>Corner</td>\n",
       "      <td>Gtl</td>\n",
       "      <td>Gilbert</td>\n",
       "      <td>Norm</td>\n",
       "      <td>Norm</td>\n",
       "      <td>...</td>\n",
       "      <td>No</td>\n",
       "      <td>Unf</td>\n",
       "      <td>GasA</td>\n",
       "      <td>Gd</td>\n",
       "      <td>Y</td>\n",
       "      <td>TA</td>\n",
       "      <td>Typ</td>\n",
       "      <td>Attchd</td>\n",
       "      <td>Fin</td>\n",
       "      <td>Y</td>\n",
       "    </tr>\n",
       "    <tr>\n",
       "      <th>11</th>\n",
       "      <td>RL</td>\n",
       "      <td>Pave</td>\n",
       "      <td>IR1</td>\n",
       "      <td>Lvl</td>\n",
       "      <td>AllPub</td>\n",
       "      <td>Inside</td>\n",
       "      <td>Gtl</td>\n",
       "      <td>Gilbert</td>\n",
       "      <td>Norm</td>\n",
       "      <td>Norm</td>\n",
       "      <td>...</td>\n",
       "      <td>No</td>\n",
       "      <td>ALQ</td>\n",
       "      <td>GasA</td>\n",
       "      <td>Ex</td>\n",
       "      <td>Y</td>\n",
       "      <td>TA</td>\n",
       "      <td>Typ</td>\n",
       "      <td>Attchd</td>\n",
       "      <td>Fin</td>\n",
       "      <td>Y</td>\n",
       "    </tr>\n",
       "    <tr>\n",
       "      <th>16</th>\n",
       "      <td>RL</td>\n",
       "      <td>Pave</td>\n",
       "      <td>IR1</td>\n",
       "      <td>Bnk</td>\n",
       "      <td>AllPub</td>\n",
       "      <td>Inside</td>\n",
       "      <td>Mod</td>\n",
       "      <td>Gilbert</td>\n",
       "      <td>Norm</td>\n",
       "      <td>Norm</td>\n",
       "      <td>...</td>\n",
       "      <td>Av</td>\n",
       "      <td>GLQ</td>\n",
       "      <td>GasA</td>\n",
       "      <td>Gd</td>\n",
       "      <td>Y</td>\n",
       "      <td>TA</td>\n",
       "      <td>Typ</td>\n",
       "      <td>Basment</td>\n",
       "      <td>RFn</td>\n",
       "      <td>Y</td>\n",
       "    </tr>\n",
       "  </tbody>\n",
       "</table>\n",
       "<p>5 rows × 31 columns</p>\n",
       "</div>"
      ],
      "text/plain": [
       "   MS Zoning Street Lot Shape Land Contour Utilities Lot Config Land Slope  \\\n",
       "4         RL   Pave       IR1          Lvl    AllPub     Inside        Gtl   \n",
       "8         RL   Pave       IR1          Lvl    AllPub     Inside        Gtl   \n",
       "10        RL   Pave       IR1          Lvl    AllPub     Corner        Gtl   \n",
       "11        RL   Pave       IR1          Lvl    AllPub     Inside        Gtl   \n",
       "16        RL   Pave       IR1          Bnk    AllPub     Inside        Mod   \n",
       "\n",
       "   Neighborhood Condition 1 Condition 2     ...     Bsmt Exposure  \\\n",
       "4       Gilbert        Norm        Norm     ...                No   \n",
       "8       StoneBr        Norm        Norm     ...                No   \n",
       "10      Gilbert        Norm        Norm     ...                No   \n",
       "11      Gilbert        Norm        Norm     ...                No   \n",
       "16      Gilbert        Norm        Norm     ...                Av   \n",
       "\n",
       "   BsmtFin Type 1 Heating Heating QC Central Air Kitchen Qual Functional  \\\n",
       "4             GLQ    GasA         Gd           Y           TA        Typ   \n",
       "8             GLQ    GasA         Ex           Y           Gd        Typ   \n",
       "10            Unf    GasA         Gd           Y           TA        Typ   \n",
       "11            ALQ    GasA         Ex           Y           TA        Typ   \n",
       "16            GLQ    GasA         Gd           Y           TA        Typ   \n",
       "\n",
       "   Garage Type Garage Finish Paved Drive  \n",
       "4       Attchd           Fin           Y  \n",
       "8       Attchd           RFn           Y  \n",
       "10      Attchd           Fin           Y  \n",
       "11      Attchd           Fin           Y  \n",
       "16     Basment           RFn           Y  \n",
       "\n",
       "[5 rows x 31 columns]"
      ]
     },
     "execution_count": 27,
     "metadata": {},
     "output_type": "execute_result"
    }
   ],
   "source": [
    "houses.select_dtypes(include = ['object']).head()"
   ]
  },
  {
   "cell_type": "code",
   "execution_count": 28,
   "metadata": {
    "collapsed": true
   },
   "outputs": [],
   "source": [
    "for col in houses.select_dtypes(include = ['object']).columns:\n",
    "    houses[col] = houses[col].astype('category')"
   ]
  },
  {
   "cell_type": "code",
   "execution_count": 29,
   "metadata": {
    "collapsed": false
   },
   "outputs": [
    {
     "data": {
      "text/html": [
       "<div>\n",
       "<style scoped>\n",
       "    .dataframe tbody tr th:only-of-type {\n",
       "        vertical-align: middle;\n",
       "    }\n",
       "\n",
       "    .dataframe tbody tr th {\n",
       "        vertical-align: top;\n",
       "    }\n",
       "\n",
       "    .dataframe thead th {\n",
       "        text-align: right;\n",
       "    }\n",
       "</style>\n",
       "<table border=\"1\" class=\"dataframe\">\n",
       "  <thead>\n",
       "    <tr style=\"text-align: right;\">\n",
       "      <th></th>\n",
       "      <th>MS SubClass</th>\n",
       "      <th>Lot Frontage</th>\n",
       "      <th>Lot Area</th>\n",
       "      <th>Overall Qual</th>\n",
       "      <th>Overall Cond</th>\n",
       "      <th>Mas Vnr Area</th>\n",
       "      <th>BsmtFin SF 1</th>\n",
       "      <th>BsmtFin SF 2</th>\n",
       "      <th>Bsmt Unf SF</th>\n",
       "      <th>Total Bsmt SF</th>\n",
       "      <th>...</th>\n",
       "      <th>Enclosed Porch</th>\n",
       "      <th>3Ssn Porch</th>\n",
       "      <th>Screen Porch</th>\n",
       "      <th>Pool Area</th>\n",
       "      <th>Misc Val</th>\n",
       "      <th>SalePrice</th>\n",
       "      <th>garage age</th>\n",
       "      <th>years till remod/add</th>\n",
       "      <th>years till sold</th>\n",
       "      <th>years remod till sold</th>\n",
       "    </tr>\n",
       "  </thead>\n",
       "  <tbody>\n",
       "    <tr>\n",
       "      <th>4</th>\n",
       "      <td>60</td>\n",
       "      <td>74.00000</td>\n",
       "      <td>13830</td>\n",
       "      <td>5</td>\n",
       "      <td>5</td>\n",
       "      <td>0.0</td>\n",
       "      <td>791.0</td>\n",
       "      <td>0.0</td>\n",
       "      <td>137.0</td>\n",
       "      <td>928.0</td>\n",
       "      <td>...</td>\n",
       "      <td>0</td>\n",
       "      <td>0</td>\n",
       "      <td>0</td>\n",
       "      <td>0</td>\n",
       "      <td>0</td>\n",
       "      <td>189900</td>\n",
       "      <td>13.0</td>\n",
       "      <td>1</td>\n",
       "      <td>13</td>\n",
       "      <td>12</td>\n",
       "    </tr>\n",
       "    <tr>\n",
       "      <th>8</th>\n",
       "      <td>120</td>\n",
       "      <td>39.00000</td>\n",
       "      <td>5389</td>\n",
       "      <td>8</td>\n",
       "      <td>5</td>\n",
       "      <td>0.0</td>\n",
       "      <td>1180.0</td>\n",
       "      <td>0.0</td>\n",
       "      <td>415.0</td>\n",
       "      <td>1595.0</td>\n",
       "      <td>...</td>\n",
       "      <td>0</td>\n",
       "      <td>0</td>\n",
       "      <td>0</td>\n",
       "      <td>0</td>\n",
       "      <td>0</td>\n",
       "      <td>236500</td>\n",
       "      <td>15.0</td>\n",
       "      <td>1</td>\n",
       "      <td>15</td>\n",
       "      <td>14</td>\n",
       "    </tr>\n",
       "    <tr>\n",
       "      <th>10</th>\n",
       "      <td>60</td>\n",
       "      <td>75.00000</td>\n",
       "      <td>10000</td>\n",
       "      <td>6</td>\n",
       "      <td>5</td>\n",
       "      <td>0.0</td>\n",
       "      <td>0.0</td>\n",
       "      <td>0.0</td>\n",
       "      <td>763.0</td>\n",
       "      <td>763.0</td>\n",
       "      <td>...</td>\n",
       "      <td>0</td>\n",
       "      <td>0</td>\n",
       "      <td>0</td>\n",
       "      <td>0</td>\n",
       "      <td>0</td>\n",
       "      <td>175900</td>\n",
       "      <td>17.0</td>\n",
       "      <td>1</td>\n",
       "      <td>17</td>\n",
       "      <td>16</td>\n",
       "    </tr>\n",
       "    <tr>\n",
       "      <th>11</th>\n",
       "      <td>20</td>\n",
       "      <td>69.22459</td>\n",
       "      <td>7980</td>\n",
       "      <td>6</td>\n",
       "      <td>7</td>\n",
       "      <td>0.0</td>\n",
       "      <td>935.0</td>\n",
       "      <td>0.0</td>\n",
       "      <td>233.0</td>\n",
       "      <td>1168.0</td>\n",
       "      <td>...</td>\n",
       "      <td>0</td>\n",
       "      <td>0</td>\n",
       "      <td>0</td>\n",
       "      <td>0</td>\n",
       "      <td>500</td>\n",
       "      <td>185000</td>\n",
       "      <td>18.0</td>\n",
       "      <td>15</td>\n",
       "      <td>18</td>\n",
       "      <td>3</td>\n",
       "    </tr>\n",
       "    <tr>\n",
       "      <th>16</th>\n",
       "      <td>50</td>\n",
       "      <td>152.00000</td>\n",
       "      <td>12134</td>\n",
       "      <td>8</td>\n",
       "      <td>7</td>\n",
       "      <td>0.0</td>\n",
       "      <td>427.0</td>\n",
       "      <td>0.0</td>\n",
       "      <td>132.0</td>\n",
       "      <td>559.0</td>\n",
       "      <td>...</td>\n",
       "      <td>0</td>\n",
       "      <td>0</td>\n",
       "      <td>0</td>\n",
       "      <td>0</td>\n",
       "      <td>0</td>\n",
       "      <td>164000</td>\n",
       "      <td>22.0</td>\n",
       "      <td>17</td>\n",
       "      <td>22</td>\n",
       "      <td>5</td>\n",
       "    </tr>\n",
       "  </tbody>\n",
       "</table>\n",
       "<p>5 rows × 36 columns</p>\n",
       "</div>"
      ],
      "text/plain": [
       "    MS SubClass  Lot Frontage  Lot Area  Overall Qual  Overall Cond  \\\n",
       "4            60      74.00000     13830             5             5   \n",
       "8           120      39.00000      5389             8             5   \n",
       "10           60      75.00000     10000             6             5   \n",
       "11           20      69.22459      7980             6             7   \n",
       "16           50     152.00000     12134             8             7   \n",
       "\n",
       "    Mas Vnr Area  BsmtFin SF 1  BsmtFin SF 2  Bsmt Unf SF  Total Bsmt SF  \\\n",
       "4            0.0         791.0           0.0        137.0          928.0   \n",
       "8            0.0        1180.0           0.0        415.0         1595.0   \n",
       "10           0.0           0.0           0.0        763.0          763.0   \n",
       "11           0.0         935.0           0.0        233.0         1168.0   \n",
       "16           0.0         427.0           0.0        132.0          559.0   \n",
       "\n",
       "            ...            Enclosed Porch  3Ssn Porch  Screen Porch  \\\n",
       "4           ...                         0           0             0   \n",
       "8           ...                         0           0             0   \n",
       "10          ...                         0           0             0   \n",
       "11          ...                         0           0             0   \n",
       "16          ...                         0           0             0   \n",
       "\n",
       "    Pool Area  Misc Val  SalePrice  garage age  years till remod/add  \\\n",
       "4           0         0     189900        13.0                     1   \n",
       "8           0         0     236500        15.0                     1   \n",
       "10          0         0     175900        17.0                     1   \n",
       "11          0       500     185000        18.0                    15   \n",
       "16          0         0     164000        22.0                    17   \n",
       "\n",
       "    years till sold  years remod till sold  \n",
       "4                13                     12  \n",
       "8                15                     14  \n",
       "10               17                     16  \n",
       "11               18                      3  \n",
       "16               22                      5  \n",
       "\n",
       "[5 rows x 36 columns]"
      ]
     },
     "execution_count": 29,
     "metadata": {},
     "output_type": "execute_result"
    }
   ],
   "source": [
    "houses.select_dtypes(include = ['int','float']).head()"
   ]
  },
  {
   "cell_type": "markdown",
   "metadata": {},
   "source": [
    "According to the documentation, these are nominal columns:"
   ]
  },
  {
   "cell_type": "code",
   "execution_count": 30,
   "metadata": {
    "collapsed": true
   },
   "outputs": [],
   "source": [
    "nominal_cols = [\"MS SubClass\", \"MS Zoning\", \"Street\", \"Alley\", \"Land Contour\", \"Lot Config\", \"Neighborhood\", \n",
    "                    \"Condition 1\", \"Condition 2\", \"Bldg Type\", \"House Style\", \"Roof Style\", \"Roof Matl\", \"Exterior 1st\", \n",
    "                    \"Exterior 2nd\", \"Mas Vnr Type\", \"Foundation\", \"Heating\", \"Central Air\", \"Garage Type\", \n",
    "                    \"Misc Feature\", \"Sale Type\", \"Sale Condition\"]"
   ]
  },
  {
   "cell_type": "markdown",
   "metadata": {},
   "source": [
    "Some of these are numerical, so I will need to change them to categorical as well:"
   ]
  },
  {
   "cell_type": "code",
   "execution_count": 31,
   "metadata": {
    "collapsed": true
   },
   "outputs": [],
   "source": [
    "for col in nominal_cols:\n",
    "    if col in houses.columns:\n",
    "        houses[col] = houses[col].astype('category')"
   ]
  },
  {
   "cell_type": "markdown",
   "metadata": {},
   "source": [
    "How many unique values do the categorical columns have?"
   ]
  },
  {
   "cell_type": "code",
   "execution_count": 32,
   "metadata": {
    "collapsed": false
   },
   "outputs": [
    {
     "data": {
      "text/plain": [
       "Street             2\n",
       "Utilities          2\n",
       "Central Air        2\n",
       "Paved Drive        3\n",
       "Land Slope         3\n",
       "Garage Finish      3\n",
       "Lot Shape          4\n",
       "Land Contour       4\n",
       "Bsmt Exposure      4\n",
       "Exter Qual         4\n",
       "Mas Vnr Type       4\n",
       "Heating QC         5\n",
       "Bsmt Qual          5\n",
       "Exter Cond         5\n",
       "Roof Style         5\n",
       "Bldg Type          5\n",
       "Lot Config         5\n",
       "Kitchen Qual       5\n",
       "Condition 2        6\n",
       "Foundation         6\n",
       "Garage Type        6\n",
       "BsmtFin Type 1     6\n",
       "Heating            6\n",
       "MS Zoning          6\n",
       "Roof Matl          6\n",
       "House Style        8\n",
       "Functional         8\n",
       "Condition 1        9\n",
       "MS SubClass       16\n",
       "Exterior 2nd      16\n",
       "Exterior 1st      16\n",
       "Neighborhood      26\n",
       "dtype: int64"
      ]
     },
     "execution_count": 32,
     "metadata": {},
     "output_type": "execute_result"
    }
   ],
   "source": [
    "houses.select_dtypes(include = ['category']).apply(lambda x : len(x.value_counts())).sort_values()"
   ]
  },
  {
   "cell_type": "markdown",
   "metadata": {},
   "source": [
    "A bit arbitrary I will drop the columns with more than 10 different uniwue values:"
   ]
  },
  {
   "cell_type": "code",
   "execution_count": 33,
   "metadata": {
    "collapsed": false
   },
   "outputs": [],
   "source": [
    "vc_unique = houses.select_dtypes(include = ['category']).apply(lambda x : len(x.value_counts())).sort_values()\n",
    "to_drop = vc_unique[vc_unique>10].index\n",
    "houses.drop(columns = to_drop, inplace = True)"
   ]
  },
  {
   "cell_type": "markdown",
   "metadata": {},
   "source": [
    "I will create dummy columns to add to the dataframe `houses`later after looking for correlations."
   ]
  },
  {
   "cell_type": "markdown",
   "metadata": {},
   "source": [
    "## Correlations and feature selection:"
   ]
  },
  {
   "cell_type": "code",
   "execution_count": 34,
   "metadata": {
    "collapsed": false
   },
   "outputs": [],
   "source": [
    "num_houses = houses.select_dtypes(include = ['int','float'])"
   ]
  },
  {
   "cell_type": "code",
   "execution_count": 35,
   "metadata": {
    "collapsed": false
   },
   "outputs": [
    {
     "data": {
      "text/plain": [
       "<matplotlib.axes._subplots.AxesSubplot at 0x7f25937bd4a8>"
      ]
     },
     "execution_count": 35,
     "metadata": {},
     "output_type": "execute_result"
    },
    {
     "data": {
      "image/png": "[encoded data removed]",
      "text/plain": [
       "<matplotlib.figure.Figure at 0x7f25937b2550>"
      ]
     },
     "metadata": {},
     "output_type": "display_data"
    }
   ],
   "source": [
    "corrmat = num_houses.corr()\n",
    "sns.heatmap(corrmat)"
   ]
  },
  {
   "cell_type": "code",
   "execution_count": 36,
   "metadata": {
    "collapsed": false
   },
   "outputs": [
    {
     "data": {
      "text/plain": [
       "Misc Val                 0.001168\n",
       "Overall Cond             0.013940\n",
       "Bsmt Half Bath           0.018517\n",
       "Pool Area                0.019769\n",
       "3Ssn Porch               0.028839\n",
       "Low Qual Fin SF          0.032487\n",
       "Bsmt Unf SF              0.088993\n",
       "BsmtFin SF 2             0.096245\n",
       "Kitchen AbvGr            0.104223\n",
       "Screen Porch             0.150711\n",
       "Enclosed Porch           0.178833\n",
       "Bedroom AbvGr            0.244807\n",
       "Open Porch SF            0.277530\n",
       "Bsmt Full Bath           0.290527\n",
       "2nd Flr SF               0.311475\n",
       "years till remod/add     0.311580\n",
       "Lot Area                 0.312232\n",
       "Lot Frontage             0.355076\n",
       "Half Bath                0.370833\n",
       "Wood Deck SF             0.375763\n",
       "garage age               0.448418\n",
       "years remod till sold    0.459868\n",
       "TotRms AbvGrd            0.487044\n",
       "Fireplaces               0.523713\n",
       "BsmtFin SF 1             0.524783\n",
       "Full Bath                0.554539\n",
       "Mas Vnr Area             0.571951\n",
       "years till sold          0.578514\n",
       "Garage Area              0.600539\n",
       "Garage Cars              0.619274\n",
       "Total Bsmt SF            0.675341\n",
       "1st Flr SF               0.675635\n",
       "Gr Liv Area              0.725579\n",
       "Overall Qual             0.783784\n",
       "SalePrice                1.000000\n",
       "Name: SalePrice, dtype: float64"
      ]
     },
     "execution_count": 36,
     "metadata": {},
     "output_type": "execute_result"
    }
   ],
   "source": [
    "vc = np.abs(corrmat['SalePrice']).sort_values()\n",
    "vc"
   ]
  },
  {
   "cell_type": "code",
   "execution_count": 37,
   "metadata": {
    "collapsed": false
   },
   "outputs": [],
   "source": [
    "corr_houses = houses[vc[vc>0.4].index].copy()"
   ]
  },
  {
   "cell_type": "code",
   "execution_count": 38,
   "metadata": {
    "collapsed": false
   },
   "outputs": [],
   "source": [
    "cat_cols = houses.select_dtypes(include = ['category']).columns\n",
    "updated_houses = pd.concat([\n",
    "    corr_houses,\n",
    "    pd.get_dummies(houses.select_dtypes(include = ['category']))\n",
    "],axis =1)"
   ]
  },
  {
   "cell_type": "markdown",
   "metadata": {},
   "source": [
    "Ultimately, I will use the functions I have defined in the beginning. I will add an argument of what is the lowest correlation allowed and will be able to test different thresholds."
   ]
  },
  {
   "cell_type": "markdown",
   "metadata": {},
   "source": [
    "## train and test\n",
    "<p>Now I will set up the pipeline for the training and testing of models:</p>"
   ]
  },
  {
   "cell_type": "code",
   "execution_count": 39,
   "metadata": {
    "collapsed": true
   },
   "outputs": [],
   "source": [
    "target = 'SalePrice'\n",
    "features = updated_houses.columns.drop(target)\n",
    "numeric_houses = updated_houses.select_dtypes(include = ['int','float'])\n",
    "lr = LinearRegression()"
   ]
  },
  {
   "cell_type": "markdown",
   "metadata": {},
   "source": [
    "In the function `train_and_test`, there will be an argument `k`, which determines what kind of validation will be performed:\n",
    "<ul>\n",
    "<li> k=0: holdout validation </li>\n",
    "<li> k=1: simple cross validation</li>\n",
    "<li> k>1 and k!=1: k-fold cross validation</li>\n",
    "</ul>"
   ]
  },
  {
   "cell_type": "code",
   "execution_count": 40,
   "metadata": {
    "collapsed": false
   },
   "outputs": [],
   "source": [
    "k = 1\n",
    "idx = round(updated_houses.shape[0]*0.75)\n",
    "if k == 0:    \n",
    "    train = updated_houses[:idx]\n",
    "    test = updated_houses[idx:]\n",
    "    lr.fit(train[features],train[target])\n",
    "    predictions = lr.predict(test[features])\n",
    "    rmse = np.sqrt(mean_squared_error(test[target],predictions))\n",
    "elif k == 1:\n",
    "    shuffled_houses = updated_houses.sample(frac=1).reset_index(drop = True)\n",
    "    train = shuffled_houses[:idx]\n",
    "    test = shuffled_houses[idx:]\n",
    "    \n",
    "    lr.fit(train[features],train[target])\n",
    "    predictions_1 = lr.predict(test[features])\n",
    "    rmse_1 = np.sqrt(mean_squared_error(test[target],predictions_1))\n",
    "    \n",
    "    lr.fit(test[features],test[target])\n",
    "    predictions_2 = lr.predict(train[features])\n",
    "    rmse_2 = np.sqrt(mean_squared_error(train[target],predictions_2))\n",
    "    avg_rmse = np.mean([rmse_1,rmse_2])\n",
    "else:\n",
    "    kf = KFold(n_splits = k, shuffle = True)\n",
    "    rmses = []\n",
    "    for tr_idx, tst_idx in kf.split(updated_houses):\n",
    "        train = updated_houses.iloc[tr_idx]\n",
    "        test = updated_houses.iloc[tst_idx]\n",
    "        lr.fit(train[features],train[target])\n",
    "        prediction = lr.predict(test[features])\n",
    "        rmse = np.sqrt(mean_squared_error(test[target],prediction))\n",
    "        rmses.append(rmse)\n",
    "    avg_rmse = np.mean(rmses)"
   ]
  },
  {
   "cell_type": "code",
   "execution_count": 41,
   "metadata": {
    "collapsed": false
   },
   "outputs": [
    {
     "data": {
      "text/plain": [
       "27464.06072668155"
      ]
     },
     "execution_count": 41,
     "metadata": {},
     "output_type": "execute_result"
    }
   ],
   "source": [
    "avg_rmse"
   ]
  },
  {
   "cell_type": "markdown",
   "metadata": {},
   "source": [
    "## testing the pipeline:"
   ]
  },
  {
   "cell_type": "code",
   "execution_count": 42,
   "metadata": {
    "collapsed": false
   },
   "outputs": [
    {
     "data": {
      "text/plain": [
       "24011.65329745602"
      ]
     },
     "execution_count": 42,
     "metadata": {},
     "output_type": "execute_result"
    }
   ],
   "source": [
    "house = pd.read_csv(\"AmesHousing.tsv\", delimiter=\"\\t\")\n",
    "trans_house = transform_features(house)\n",
    "filtered_house = select_features(trans_house, 0.4)\n",
    "rmse = train_and_test(filtered_house, k=5)\n",
    "rmse"
   ]
  },
  {
   "cell_type": "markdown",
   "metadata": {},
   "source": [
    "Now I can test a few values:"
   ]
  },
  {
   "cell_type": "code",
   "execution_count": 43,
   "metadata": {
    "collapsed": false
   },
   "outputs": [
    {
     "data": {
      "text/plain": [
       "25284.119522520003"
      ]
     },
     "execution_count": 43,
     "metadata": {},
     "output_type": "execute_result"
    }
   ],
   "source": [
    "house = pd.read_csv(\"AmesHousing.tsv\", delimiter=\"\\t\")\n",
    "trans_house = transform_features(house)\n",
    "filtered_house = select_features(trans_house, 0.4)\n",
    "rmse = train_and_test(filtered_house, k=0)\n",
    "rmse"
   ]
  },
  {
   "cell_type": "code",
   "execution_count": 45,
   "metadata": {
    "collapsed": false
   },
   "outputs": [
    {
     "data": {
      "text/plain": [
       "25292.075173835976"
      ]
     },
     "execution_count": 45,
     "metadata": {},
     "output_type": "execute_result"
    }
   ],
   "source": [
    "house = pd.read_csv(\"AmesHousing.tsv\", delimiter=\"\\t\")\n",
    "trans_house = transform_features(house)\n",
    "filtered_house = select_features(trans_house, 0.4)\n",
    "rmse = train_and_test(filtered_house, k=1)\n",
    "rmse"
   ]
  },
  {
   "cell_type": "markdown",
   "metadata": {},
   "source": [
    "k-fold attribution seems to work better than holdout validation and simple cross validation. Which k ist the best?"
   ]
  },
  {
   "cell_type": "code",
   "execution_count": 55,
   "metadata": {
    "collapsed": false
   },
   "outputs": [
    {
     "name": "stdout",
     "output_type": "stream",
     "text": [
      "{3: 24530.03986933577, 4: 24325.162253015886, 5: 23925.163178559225, 6: 23426.811919852025, 7: 24371.184312747442, 8: 23851.242949942898, 9: 23802.083081617573, 10: 23483.563936092844, 11: 23521.607376921027, 12: 23286.427928118515, 13: 23930.02685174824, 14: 23771.003061990512, 15: 23423.86490743945, 16: 23522.375877790826, 17: 23751.656359805285, 18: 23461.239061607874, 19: 23669.061460495097}\n"
     ]
    }
   ],
   "source": [
    "k_dict = {}\n",
    "for kk in range(3,20):\n",
    "    house = pd.read_csv(\"AmesHousing.tsv\", delimiter=\"\\t\")\n",
    "    trans_house = transform_features(house)\n",
    "    filtered_house = select_features(trans_house, 0.4)\n",
    "    rmse = train_and_test(filtered_house, k=kk)\n",
    "    k_dict[kk]=rmse\n",
    "print(k_dict)"
   ]
  },
  {
   "cell_type": "code",
   "execution_count": 56,
   "metadata": {
    "collapsed": false
   },
   "outputs": [
    {
     "data": {
      "text/plain": [
       "[<matplotlib.lines.Line2D at 0x7f2590197e48>]"
      ]
     },
     "execution_count": 56,
     "metadata": {},
     "output_type": "execute_result"
    },
    {
     "data": {
      "image/png": "[encoded data removed]",
      "text/plain": [
       "<matplotlib.figure.Figure at 0x7f259021d4a8>"
      ]
     },
     "metadata": {},
     "output_type": "display_data"
    }
   ],
   "source": [
    "plt.plot(list(k_dict.keys()),list(k_dict.values()))"
   ]
  },
  {
   "cell_type": "markdown",
   "metadata": {},
   "source": [
    "It seems k = 12 is particularly well working."
   ]
  },
  {
   "cell_type": "code",
   "execution_count": null,
   "metadata": {
    "collapsed": true
   },
   "outputs": [],
   "source": []
  }
 ],
 "metadata": {
  "anaconda-cloud": {},
  "kernelspec": {
   "display_name": "Python 3",
   "language": "python",
   "name": "python3"
  },
  "language_info": {
   "codemirror_mode": {
    "name": "ipython",
    "version": 3
   },
   "file_extension": ".py",
   "mimetype": "text/x-python",
   "name": "python",
   "nbconvert_exporter": "python",
   "pygments_lexer": "ipython3",
   "version": "3.4.3"
  }
 },
 "nbformat": 4,
 "nbformat_minor": 2
}
