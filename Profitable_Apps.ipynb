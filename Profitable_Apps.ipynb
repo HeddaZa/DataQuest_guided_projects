{
 "cells": [
  {
   "cell_type": "markdown",
   "metadata": {
    "collapsed": true
   },
   "source": [
    "# First Project: Porfitable App Profiles for the App Store and Google Play Markets"
   ]
  },
  {
   "cell_type": "markdown",
   "metadata": {},
   "source": [
    "In this mini project we look at data from the GooglePlay store and the Apple store. First, we have to clean the data and then"
   ]
  },
  {
   "cell_type": "code",
   "execution_count": null,
   "metadata": {
    "collapsed": true
   },
   "outputs": [],
   "source": []
  },
  {
   "cell_type": "code",
   "execution_count": 1,
   "metadata": {
    "collapsed": true
   },
   "outputs": [],
   "source": [
    "def explore_data(dataset, start, end, rows_and_columns=False):\n",
    "    dataset_slice = dataset[start:end]    \n",
    "    for row in dataset_slice:\n",
    "        print(row)\n",
    "        print('\\n') # adds a new (empty) line after each row\n",
    "\n",
    "    if rows_and_columns:\n",
    "        print('Number of rows:', len(dataset))\n",
    "        print('Number of columns:', len(dataset[0]))"
   ]
  },
  {
   "cell_type": "code",
   "execution_count": 2,
   "metadata": {
    "collapsed": true
   },
   "outputs": [],
   "source": [
    "from csv import reader"
   ]
  },
  {
   "cell_type": "code",
   "execution_count": 3,
   "metadata": {
    "collapsed": false
   },
   "outputs": [],
   "source": [
    "AppleStore_open = open('AppleStore.csv')\n",
    "GooglePlay_open = open('googleplaystore.csv')\n",
    "AppleStore_all = list(reader(AppleStore_open))\n",
    "GooglePlay_all = list(reader(GooglePlay_open))\n",
    "AppleStore_header = AppleStore_all[0]\n",
    "AppleStore_data = AppleStore_all[1:]\n",
    "GooglePlay_header = GooglePlay_all[0]\n",
    "GooglePlay_data = GooglePlay_all[1:]"
   ]
  },
  {
   "cell_type": "code",
   "execution_count": 4,
   "metadata": {
    "collapsed": false
   },
   "outputs": [
    {
     "data": {
      "text/plain": [
       "['id',\n",
       " 'track_name',\n",
       " 'size_bytes',\n",
       " 'currency',\n",
       " 'price',\n",
       " 'rating_count_tot',\n",
       " 'rating_count_ver',\n",
       " 'user_rating',\n",
       " 'user_rating_ver',\n",
       " 'ver',\n",
       " 'cont_rating',\n",
       " 'prime_genre',\n",
       " 'sup_devices.num',\n",
       " 'ipadSc_urls.num',\n",
       " 'lang.num',\n",
       " 'vpp_lic']"
      ]
     },
     "execution_count": 4,
     "metadata": {},
     "output_type": "execute_result"
    }
   ],
   "source": [
    "AppleStore_header"
   ]
  },
  {
   "cell_type": "code",
   "execution_count": 5,
   "metadata": {
    "collapsed": false
   },
   "outputs": [
    {
     "data": {
      "text/plain": [
       "['App',\n",
       " 'Category',\n",
       " 'Rating',\n",
       " 'Reviews',\n",
       " 'Size',\n",
       " 'Installs',\n",
       " 'Type',\n",
       " 'Price',\n",
       " 'Content Rating',\n",
       " 'Genres',\n",
       " 'Last Updated',\n",
       " 'Current Ver',\n",
       " 'Android Ver']"
      ]
     },
     "execution_count": 5,
     "metadata": {},
     "output_type": "execute_result"
    }
   ],
   "source": [
    "GooglePlay_header"
   ]
  },
  {
   "cell_type": "code",
   "execution_count": 6,
   "metadata": {
    "collapsed": false
   },
   "outputs": [
    {
     "name": "stdout",
     "output_type": "stream",
     "text": [
      "['389801252', 'Instagram', '113954816', 'USD', '0.0', '2161558', '1289', '4.5', '4.0', '10.23', '12+', 'Photo & Video', '37', '0', '29', '1']\n",
      "\n",
      "\n",
      "['529479190', 'Clash of Clans', '116476928', 'USD', '0.0', '2130805', '579', '4.5', '4.5', '9.24.12', '9+', 'Games', '38', '5', '18', '1']\n",
      "\n",
      "\n",
      "Number of rows: 7197\n",
      "Number of columns: 16\n"
     ]
    }
   ],
   "source": [
    "explore_data(AppleStore_data,1,3, True)"
   ]
  },
  {
   "cell_type": "code",
   "execution_count": 7,
   "metadata": {
    "collapsed": false
   },
   "outputs": [
    {
     "name": "stdout",
     "output_type": "stream",
     "text": [
      "['Coloring book moana', 'ART_AND_DESIGN', '3.9', '967', '14M', '500,000+', 'Free', '0', 'Everyone', 'Art & Design;Pretend Play', 'January 15, 2018', '2.0.0', '4.0.3 and up']\n",
      "\n",
      "\n",
      "['U Launcher Lite – FREE Live Cool Themes, Hide Apps', 'ART_AND_DESIGN', '4.7', '87510', '8.7M', '5,000,000+', 'Free', '0', 'Everyone', 'Art & Design', 'August 1, 2018', '1.2.4', '4.0.3 and up']\n",
      "\n",
      "\n",
      "Number of rows: 10841\n",
      "Number of columns: 13\n"
     ]
    }
   ],
   "source": [
    "explore_data(GooglePlay_data,1,3,True)"
   ]
  },
  {
   "cell_type": "markdown",
   "metadata": {},
   "source": [
    "## data cleaning:"
   ]
  },
  {
   "cell_type": "markdown",
   "metadata": {},
   "source": [
    "It is said in the discussion section that row 10472 of the GooglePlay data has an error:"
   ]
  },
  {
   "cell_type": "code",
   "execution_count": 8,
   "metadata": {
    "collapsed": false
   },
   "outputs": [
    {
     "data": {
      "text/plain": [
       "['Life Made WI-Fi Touchscreen Photo Frame',\n",
       " '1.9',\n",
       " '19',\n",
       " '3.0M',\n",
       " '1,000+',\n",
       " 'Free',\n",
       " '0',\n",
       " 'Everyone',\n",
       " '',\n",
       " 'February 11, 2018',\n",
       " '1.0.19',\n",
       " '4.0 and up']"
      ]
     },
     "execution_count": 8,
     "metadata": {},
     "output_type": "execute_result"
    }
   ],
   "source": [
    "GooglePlay_data[10472]"
   ]
  },
  {
   "cell_type": "markdown",
   "metadata": {},
   "source": [
    "It looks like the first entry is missing and all entries shifted. We will delete this row:"
   ]
  },
  {
   "cell_type": "code",
   "execution_count": 9,
   "metadata": {
    "collapsed": true
   },
   "outputs": [],
   "source": [
    "del GooglePlay_data[10472]"
   ]
  },
  {
   "cell_type": "markdown",
   "metadata": {
    "collapsed": true
   },
   "source": [
    "The next step is to delete duplicates:"
   ]
  },
  {
   "cell_type": "code",
   "execution_count": 10,
   "metadata": {
    "collapsed": true
   },
   "outputs": [],
   "source": [
    "GooglePlay_no_dupl = []\n",
    "GooglePlay_dupl = []\n",
    "for row in GooglePlay_data:\n",
    "    name = row[1]\n",
    "    if name in GooglePlay_no_dupl:\n",
    "        GooglePlay_dupl.append(row)\n",
    "    else:\n",
    "        GooglePlay_no_dupl.append(row)"
   ]
  },
  {
   "cell_type": "markdown",
   "metadata": {
    "collapsed": true
   },
   "source": [
    "The next task is to create a dictionary: the keys are the unique app names and the values are the  highest number of reviews of that app. This is a different way to remove duplicates:"
   ]
  },
  {
   "cell_type": "code",
   "execution_count": 11,
   "metadata": {
    "collapsed": false
   },
   "outputs": [],
   "source": [
    "reviews_max = {}\n",
    "for row in GooglePlay_data:\n",
    "    name = row[0]\n",
    "    n_reviews = float(row[3])\n",
    "    if (name in reviews_max) and (reviews_max[name] < n_reviews):\n",
    "        reviews_max[name] = n_reviews\n",
    "    elif name not in reviews_max:\n",
    "        reviews_max[name] = n_reviews"
   ]
  },
  {
   "cell_type": "code",
   "execution_count": 12,
   "metadata": {
    "collapsed": true
   },
   "outputs": [],
   "source": [
    "android_clean = []\n",
    "already_added = []\n",
    "for row in GooglePlay_data:\n",
    "    name = row[0]\n",
    "    n_reviews = float(row[3])\n",
    "    if (reviews_max[name] == n_reviews) and (name not in already_added):\n",
    "        android_clean.append(row)\n",
    "        already_added.append(name)"
   ]
  },
  {
   "cell_type": "code",
   "execution_count": 13,
   "metadata": {
    "collapsed": false
   },
   "outputs": [
    {
     "name": "stdout",
     "output_type": "stream",
     "text": [
      "['U Launcher Lite – FREE Live Cool Themes, Hide Apps', 'ART_AND_DESIGN', '4.7', '87510', '8.7M', '5,000,000+', 'Free', '0', 'Everyone', 'Art & Design', 'August 1, 2018', '1.2.4', '4.0.3 and up']\n",
      "\n",
      "\n",
      "['Sketch - Draw & Paint', 'ART_AND_DESIGN', '4.5', '215644', '25M', '50,000,000+', 'Free', '0', 'Teen', 'Art & Design', 'June 8, 2018', 'Varies with device', '4.2 and up']\n",
      "\n",
      "\n",
      "Number of rows: 9659\n",
      "Number of columns: 13\n"
     ]
    }
   ],
   "source": [
    "explore_data(android_clean,1,3, True)"
   ]
  },
  {
   "cell_type": "markdown",
   "metadata": {},
   "source": [
    "The analysis is done on free apps available in English. Hence, rows with characters that are hint at a different language than English will be deleted. These characters will be found using the ascii code funtion `ord()`:"
   ]
  },
  {
   "cell_type": "code",
   "execution_count": 14,
   "metadata": {
    "collapsed": false
   },
   "outputs": [
    {
     "data": {
      "text/plain": [
       "(122, '{', 65, '@', 48, 57, '/', ':', 32)"
      ]
     },
     "execution_count": 14,
     "metadata": {},
     "output_type": "execute_result"
    }
   ],
   "source": [
    "(ord('z'),chr(123),ord('A'),chr(64),ord('0'),ord('9'),chr(47), chr(58), ord(' '))"
   ]
  },
  {
   "cell_type": "markdown",
   "metadata": {},
   "source": [
    "It seems best to discard any row of which the second character has an ascii code above 127:"
   ]
  },
  {
   "cell_type": "code",
   "execution_count": 15,
   "metadata": {
    "collapsed": false
   },
   "outputs": [],
   "source": [
    "AppleStore_data_English = []\n",
    "row_list = []\n",
    "for num, row in enumerate(AppleStore_data):\n",
    "    name = row[1]\n",
    "    for letter in range(1,2):\n",
    "        if  ord(name[letter]) > 127  :\n",
    "            #print(num)\n",
    "            #print(name[letter],ord(name[letter]))\n",
    "            row_list.append(num)\n",
    "        else:\n",
    "            AppleStore_data_English.append(row)\n",
    "          \n",
    "        \n",
    "GooglePlay_data_English = []\n",
    "row_list2 = []\n",
    "for num, row in enumerate(android_clean):\n",
    "    name = row[1]\n",
    "    for letter in range(1,2):\n",
    "        if  ord(name[letter]) > 127  :\n",
    "            #print(num)\n",
    "            #print(name[letter],ord(name[letter]))\n",
    "            row_list2.append(num)\n",
    "        else:\n",
    "            GooglePlay_data_English.append(row)\n",
    "          "
   ]
  },
  {
   "cell_type": "code",
   "execution_count": 16,
   "metadata": {
    "collapsed": false
   },
   "outputs": [
    {
     "data": {
      "text/plain": [
       "[['Photo Editor & Candy Camera & Grid & ScrapBook',\n",
       "  'ART_AND_DESIGN',\n",
       "  '4.1',\n",
       "  '159',\n",
       "  '19M',\n",
       "  '10,000+',\n",
       "  'Free',\n",
       "  '0',\n",
       "  'Everyone',\n",
       "  'Art & Design',\n",
       "  'January 7, 2018',\n",
       "  '1.0.0',\n",
       "  '4.0.3 and up']]"
      ]
     },
     "execution_count": 16,
     "metadata": {},
     "output_type": "execute_result"
    }
   ],
   "source": [
    "GooglePlay_data_English[:1]"
   ]
  },
  {
   "cell_type": "markdown",
   "metadata": {
    "collapsed": false
   },
   "source": [
    "The next step is to isolate free apps in a separate list:"
   ]
  },
  {
   "cell_type": "code",
   "execution_count": 17,
   "metadata": {
    "collapsed": true
   },
   "outputs": [],
   "source": [
    "android_free = []\n",
    "Apple_free = []\n",
    "for row in GooglePlay_data_English:\n",
    "    price = row[7]\n",
    "    if price == '0':\n",
    "        android_free.append(row)\n",
    "\n",
    "for row in AppleStore_data_English:\n",
    "    price = row[4]\n",
    "    if price == '0.0':\n",
    "        Apple_free.append(row)"
   ]
  },
  {
   "cell_type": "code",
   "execution_count": 18,
   "metadata": {
    "collapsed": false
   },
   "outputs": [],
   "source": [
    "#AppleStore_data_English[3]"
   ]
  },
  {
   "cell_type": "code",
   "execution_count": 19,
   "metadata": {
    "collapsed": false
   },
   "outputs": [
    {
     "data": {
      "text/plain": [
       "(8905, 3302)"
      ]
     },
     "execution_count": 19,
     "metadata": {},
     "output_type": "execute_result"
    }
   ],
   "source": [
    "(len(android_free), len(Apple_free))"
   ]
  },
  {
   "cell_type": "markdown",
   "metadata": {},
   "source": [
    "Now we calculate a frequency table. We are interested how many apps are attributed to each genre. We define two general functions to create a frequency table and to display it:"
   ]
  },
  {
   "cell_type": "code",
   "execution_count": 20,
   "metadata": {
    "collapsed": true
   },
   "outputs": [],
   "source": [
    "def freq_table(dataset, index):\n",
    "    freq_dict = {}\n",
    "    total = 0\n",
    "    \n",
    "    for row in dataset:\n",
    "        total += 1\n",
    "        value = row[index]\n",
    "        if value in freq_dict:\n",
    "            freq_dict[value] += 1\n",
    "        else:\n",
    "            freq_dict[value] = 1\n",
    "    \n",
    "    freq_dict_percentages = {}\n",
    "    for key in freq_dict:\n",
    "        percentage = (freq_dict[key]/total)*100\n",
    "        freq_dict_percentages[key] = percentage \n",
    "    \n",
    "    return freq_dict_percentages\n",
    "\n",
    "\n",
    "def display_table(dataset, index):\n",
    "    freq_dict = freq_table(dataset, index)\n",
    "    freq_display = []\n",
    "    for key in freq_dict:\n",
    "        key_val_as_tuple = (freq_dict[key], key)\n",
    "        freq_display.append(key_val_as_tuple)\n",
    "        \n",
    "    freq_sorted = sorted(freq_display, reverse = True)\n",
    "    for entry in freq_sorted:\n",
    "        print(entry[1], ':', entry[0])"
   ]
  },
  {
   "cell_type": "markdown",
   "metadata": {},
   "source": [
    "We now examine the dataset `android_free` and `Apple_free` using the definitions from above:"
   ]
  },
  {
   "cell_type": "code",
   "execution_count": 21,
   "metadata": {
    "collapsed": false
   },
   "outputs": [
    {
     "name": "stdout",
     "output_type": "stream",
     "text": [
      "Games : 57.60145366444579\n",
      "Entertainment : 7.995154451847365\n",
      "Photo & Video : 4.875832828588734\n",
      "Education : 3.573591762568141\n",
      "Social Networking : 3.3615990308903694\n",
      "Utilities : 2.695336159903089\n",
      "Shopping : 2.543912780133253\n",
      "Sports : 2.0896426408237434\n",
      "Health & Fitness : 2.059357964869776\n",
      "Music : 2.0290732889158085\n",
      "Productivity : 1.756511205330103\n",
      "Lifestyle : 1.6656571774682012\n",
      "News : 1.362810417928528\n",
      "Finance : 1.2113870381586918\n",
      "Travel : 1.1811023622047243\n",
      "Food & Drink : 0.8782556026650515\n",
      "Weather : 0.8479709267110842\n",
      "Book : 0.5754088431253785\n",
      "Reference : 0.514839491217444\n",
      "Business : 0.514839491217444\n",
      "Navigation : 0.27256208358570566\n",
      "Medical : 0.21199273167777105\n",
      "Catalogs : 0.18170805572380377\n"
     ]
    }
   ],
   "source": [
    "display_table(Apple_free, -5)"
   ]
  },
  {
   "cell_type": "code",
   "execution_count": 22,
   "metadata": {
    "collapsed": false
   },
   "outputs": [
    {
     "name": "stdout",
     "output_type": "stream",
     "text": [
      "FAMILY : 18.97810218978102\n",
      "GAME : 9.70241437394722\n",
      "TOOLS : 8.433464345873105\n",
      "BUSINESS : 4.581695676586187\n",
      "LIFESTYLE : 3.9303761931499155\n",
      "PRODUCTIVITY : 3.885457608085345\n",
      "FINANCE : 3.6833239752947784\n",
      "MEDICAL : 3.5148792813026386\n",
      "SPORTS : 3.3801235261089273\n",
      "PERSONALIZATION : 3.312745648512072\n",
      "COMMUNICATION : 3.2341381246490735\n",
      "HEALTH_AND_FITNESS : 3.065693430656934\n",
      "PHOTOGRAPHY : 2.9421673217293653\n",
      "NEWS_AND_MAGAZINES : 2.829870859067939\n",
      "SOCIAL : 2.6501965188096577\n",
      "TRAVEL_AND_LOCAL : 2.3245367770915215\n",
      "SHOPPING : 2.2459292532285233\n",
      "BOOKS_AND_REFERENCE : 2.1785513756316677\n",
      "DATING : 1.8528916339135317\n",
      "VIDEO_PLAYERS : 1.7967434025828188\n",
      "MAPS_AND_NAVIGATION : 1.4149354295339696\n",
      "FOOD_AND_DRINK : 1.235261089275688\n",
      "EDUCATION : 1.167883211678832\n",
      "ENTERTAINMENT : 0.9545199326221224\n",
      "LIBRARIES_AND_DEMO : 0.9320606400898372\n",
      "AUTO_AND_VEHICLES : 0.9208309938236946\n",
      "HOUSE_AND_HOME : 0.8197641774284109\n",
      "WEATHER : 0.7973048848961257\n",
      "EVENTS : 0.7074677147669848\n",
      "PARENTING : 0.6513194834362718\n",
      "ART_AND_DESIGN : 0.6513194834362718\n",
      "COMICS : 0.6288601909039866\n",
      "BEAUTY : 0.5951712521055587\n"
     ]
    }
   ],
   "source": [
    "display_table(android_free, 1)"
   ]
  },
  {
   "cell_type": "markdown",
   "metadata": {},
   "source": [
    "We see that the most apps from the Apple store are apps that belong to the genre \"Games\", wheres most apps from GooglePlay belong to the genre \"Family\" followed by \"Games\". However, we see that iOS and android have different genres and therefore the comparison is not optimal."
   ]
  },
  {
   "cell_type": "markdown",
   "metadata": {
    "collapsed": true
   },
   "source": [
    "New we play examine the data for the most popular genre:"
   ]
  },
  {
   "cell_type": "code",
   "execution_count": 23,
   "metadata": {
    "collapsed": false
   },
   "outputs": [
    {
     "name": "stdout",
     "output_type": "stream",
     "text": [
      "Medical : 525.4285714285714\n",
      "Finance : 28322.4\n",
      "Food & Drink : 29886.931034482757\n",
      "Music : 56482.02985074627\n",
      "News : 20303.666666666668\n",
      "Education : 7003.983050847458\n",
      "Weather : 52279.03571428572\n",
      "Catalogs : 2669.3333333333335\n",
      "Health & Fitness : 22278.352941176472\n",
      "Social Networking : 68341.3063063063\n",
      "Reference : 79350.4705882353\n",
      "Games : 22453.729758149315\n",
      "Travel : 28959.5641025641\n",
      "Photo & Video : 28264.888198757762\n",
      "Productivity : 20303.310344827587\n",
      "Business : 7491.117647058823\n",
      "Utilities : 17058.719101123595\n",
      "Lifestyle : 15296.236363636364\n",
      "Sports : 23003.985507246376\n",
      "Shopping : 26902.52380952381\n",
      "Navigation : 57393.555555555555\n",
      "Entertainment : 13498.549242424242\n",
      "Book : 29310.736842105263\n"
     ]
    }
   ],
   "source": [
    "prime_genre = freq_table(Apple_free, -5)\n",
    "\n",
    "for genre in prime_genre:\n",
    "    total = 0\n",
    "    len_genre = 0\n",
    "    for item in Apple_free:\n",
    "        genre_app = item[-5]\n",
    "        if genre_app == genre:            \n",
    "            n_ratings = float(item[5])\n",
    "            total += n_ratings\n",
    "            len_genre += 1\n",
    "    average_ratings = total / len_genre\n",
    "    print(genre, ':', average_ratings)"
   ]
  },
  {
   "cell_type": "markdown",
   "metadata": {},
   "source": [
    "It seemd \"Reference\" followed by \"Social Networking\" are the most popular ones."
   ]
  },
  {
   "cell_type": "markdown",
   "metadata": {},
   "source": [
    "For GooglePlay we look at \"category\" instead of \"genre\":"
   ]
  },
  {
   "cell_type": "code",
   "execution_count": 24,
   "metadata": {
    "collapsed": false
   },
   "outputs": [
    {
     "name": "stdout",
     "output_type": "stream",
     "text": [
      "ENTERTAINMENT : 11640705.88235294\n",
      "PARENTING : 542603.6206896552\n",
      "TOOLS : 10787009.952063914\n",
      "MAPS_AND_NAVIGATION : 3993339.603174603\n",
      "FINANCE : 1387692.475609756\n",
      "LIBRARIES_AND_DEMO : 638503.734939759\n",
      "EVENTS : 253542.22222222222\n",
      "BOOKS_AND_REFERENCE : 8587351.855670104\n",
      "GAME : 15551995.891203703\n",
      "COMMUNICATION : 38322625.697916664\n",
      "SPORTS : 3638640.1428571427\n",
      "WEATHER : 5074486.197183099\n",
      "SOCIAL : 23253652.127118643\n",
      "PHOTOGRAPHY : 17772018.759541985\n",
      "VIDEO_PLAYERS : 24573948.25\n",
      "TRAVEL_AND_LOCAL : 13984077.710144928\n",
      "ART_AND_DESIGN : 1952105.1724137932\n",
      "BEAUTY : 513151.88679245283\n",
      "AUTO_AND_VEHICLES : 647317.8170731707\n",
      "FOOD_AND_DRINK : 1924897.7363636363\n",
      "FAMILY : 3668870.823076923\n",
      "EDUCATION : 1825480.7692307692\n",
      "HEALTH_AND_FITNESS : 4188821.9853479853\n",
      "PERSONALIZATION : 5183850.806779661\n",
      "COMICS : 803234.8214285715\n",
      "BUSINESS : 1708215.906862745\n",
      "MEDICAL : 120550.61980830671\n",
      "SHOPPING : 7001693.425\n",
      "HOUSE_AND_HOME : 1331540.5616438356\n",
      "PRODUCTIVITY : 16738957.554913295\n",
      "NEWS_AND_MAGAZINES : 9401635.952380951\n",
      "LIFESTYLE : 1436126.94\n",
      "DATING : 854028.8303030303\n"
     ]
    }
   ],
   "source": [
    "categories_android = freq_table(android_free, 1)\n",
    "\n",
    "for category in categories_android:\n",
    "    total = 0\n",
    "    len_category = 0\n",
    "    for item in android_free:\n",
    "        category_app = item[1]\n",
    "        if category_app == category:            \n",
    "            installs = item[5]\n",
    "            installs = installs.replace(',', '')\n",
    "            installs = installs.replace('+', '')\n",
    "            total += float(installs)\n",
    "            len_category += 1\n",
    "    average_installs = total / len_category\n",
    "    print(category, ':', average_installs)"
   ]
  },
  {
   "cell_type": "markdown",
   "metadata": {},
   "source": [
    "\"Communication\" is doubtlessly leading in numbers of downloads."
   ]
  },
  {
   "cell_type": "markdown",
   "metadata": {
    "collapsed": true
   },
   "source": [
    "In summary, we looked at data from the GooglePlay store and the Apple store. First we cleaned the data by deleting duplicates and discarding apps that are not English. Finally, we did some data analysis by looking at the popularity of the different genres and categories."
   ]
  }
 ],
 "metadata": {
  "kernelspec": {
   "display_name": "Python 3",
   "language": "python",
   "name": "python3"
  },
  "language_info": {
   "codemirror_mode": {
    "name": "ipython",
    "version": 3
   },
   "file_extension": ".py",
   "mimetype": "text/x-python",
   "name": "python",
   "nbconvert_exporter": "python",
   "pygments_lexer": "ipython3",
   "version": "3.4.3"
  }
 },
 "nbformat": 4,
 "nbformat_minor": 2
}
