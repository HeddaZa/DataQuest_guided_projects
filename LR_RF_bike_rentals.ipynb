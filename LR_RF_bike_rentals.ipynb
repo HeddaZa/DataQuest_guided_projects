{
 "cells": [
  {
   "cell_type": "code",
   "execution_count": 1,
   "metadata": {
    "collapsed": true
   },
   "outputs": [],
   "source": [
    "import pandas as pd\n",
    "import numpy as np\n",
    "import matplotlib.pyplot as plt\n",
    "import seaborn as sns\n",
    "import re\n",
    "%matplotlib inline"
   ]
  },
  {
   "cell_type": "markdown",
   "metadata": {},
   "source": [
    "# Predicted Bike Rentals\n",
    "<p>Hadi Fanaee-T compiled data on the number of bicycles people rent per hour and day in Washington, D.C while he was at the University of Porto. The data set can be downloaded <a href=\"http://archive.ics.uci.edu/ml/datasets/Bike+Sharing+Dataset\">here</a></p>\n",
    "<p><b>Research question: predict the total number of bikes people rented in a given hour. </b></p>"
   ]
  },
  {
   "cell_type": "code",
   "execution_count": 2,
   "metadata": {
    "collapsed": false
   },
   "outputs": [
    {
     "data": {
      "text/html": [
       "<div>\n",
       "<style scoped>\n",
       "    .dataframe tbody tr th:only-of-type {\n",
       "        vertical-align: middle;\n",
       "    }\n",
       "\n",
       "    .dataframe tbody tr th {\n",
       "        vertical-align: top;\n",
       "    }\n",
       "\n",
       "    .dataframe thead th {\n",
       "        text-align: right;\n",
       "    }\n",
       "</style>\n",
       "<table border=\"1\" class=\"dataframe\">\n",
       "  <thead>\n",
       "    <tr style=\"text-align: right;\">\n",
       "      <th></th>\n",
       "      <th>instant</th>\n",
       "      <th>dteday</th>\n",
       "      <th>season</th>\n",
       "      <th>yr</th>\n",
       "      <th>mnth</th>\n",
       "      <th>hr</th>\n",
       "      <th>holiday</th>\n",
       "      <th>weekday</th>\n",
       "      <th>workingday</th>\n",
       "      <th>weathersit</th>\n",
       "      <th>temp</th>\n",
       "      <th>atemp</th>\n",
       "      <th>hum</th>\n",
       "      <th>windspeed</th>\n",
       "      <th>casual</th>\n",
       "      <th>registered</th>\n",
       "      <th>cnt</th>\n",
       "    </tr>\n",
       "  </thead>\n",
       "  <tbody>\n",
       "    <tr>\n",
       "      <th>17374</th>\n",
       "      <td>17375</td>\n",
       "      <td>2012-12-31</td>\n",
       "      <td>1</td>\n",
       "      <td>1</td>\n",
       "      <td>12</td>\n",
       "      <td>19</td>\n",
       "      <td>0</td>\n",
       "      <td>1</td>\n",
       "      <td>1</td>\n",
       "      <td>2</td>\n",
       "      <td>0.26</td>\n",
       "      <td>0.2576</td>\n",
       "      <td>0.60</td>\n",
       "      <td>0.1642</td>\n",
       "      <td>11</td>\n",
       "      <td>108</td>\n",
       "      <td>119</td>\n",
       "    </tr>\n",
       "    <tr>\n",
       "      <th>17375</th>\n",
       "      <td>17376</td>\n",
       "      <td>2012-12-31</td>\n",
       "      <td>1</td>\n",
       "      <td>1</td>\n",
       "      <td>12</td>\n",
       "      <td>20</td>\n",
       "      <td>0</td>\n",
       "      <td>1</td>\n",
       "      <td>1</td>\n",
       "      <td>2</td>\n",
       "      <td>0.26</td>\n",
       "      <td>0.2576</td>\n",
       "      <td>0.60</td>\n",
       "      <td>0.1642</td>\n",
       "      <td>8</td>\n",
       "      <td>81</td>\n",
       "      <td>89</td>\n",
       "    </tr>\n",
       "    <tr>\n",
       "      <th>17376</th>\n",
       "      <td>17377</td>\n",
       "      <td>2012-12-31</td>\n",
       "      <td>1</td>\n",
       "      <td>1</td>\n",
       "      <td>12</td>\n",
       "      <td>21</td>\n",
       "      <td>0</td>\n",
       "      <td>1</td>\n",
       "      <td>1</td>\n",
       "      <td>1</td>\n",
       "      <td>0.26</td>\n",
       "      <td>0.2576</td>\n",
       "      <td>0.60</td>\n",
       "      <td>0.1642</td>\n",
       "      <td>7</td>\n",
       "      <td>83</td>\n",
       "      <td>90</td>\n",
       "    </tr>\n",
       "    <tr>\n",
       "      <th>17377</th>\n",
       "      <td>17378</td>\n",
       "      <td>2012-12-31</td>\n",
       "      <td>1</td>\n",
       "      <td>1</td>\n",
       "      <td>12</td>\n",
       "      <td>22</td>\n",
       "      <td>0</td>\n",
       "      <td>1</td>\n",
       "      <td>1</td>\n",
       "      <td>1</td>\n",
       "      <td>0.26</td>\n",
       "      <td>0.2727</td>\n",
       "      <td>0.56</td>\n",
       "      <td>0.1343</td>\n",
       "      <td>13</td>\n",
       "      <td>48</td>\n",
       "      <td>61</td>\n",
       "    </tr>\n",
       "    <tr>\n",
       "      <th>17378</th>\n",
       "      <td>17379</td>\n",
       "      <td>2012-12-31</td>\n",
       "      <td>1</td>\n",
       "      <td>1</td>\n",
       "      <td>12</td>\n",
       "      <td>23</td>\n",
       "      <td>0</td>\n",
       "      <td>1</td>\n",
       "      <td>1</td>\n",
       "      <td>1</td>\n",
       "      <td>0.26</td>\n",
       "      <td>0.2727</td>\n",
       "      <td>0.65</td>\n",
       "      <td>0.1343</td>\n",
       "      <td>12</td>\n",
       "      <td>37</td>\n",
       "      <td>49</td>\n",
       "    </tr>\n",
       "  </tbody>\n",
       "</table>\n",
       "</div>"
      ],
      "text/plain": [
       "       instant      dteday  season  yr  mnth  hr  holiday  weekday  \\\n",
       "17374    17375  2012-12-31       1   1    12  19        0        1   \n",
       "17375    17376  2012-12-31       1   1    12  20        0        1   \n",
       "17376    17377  2012-12-31       1   1    12  21        0        1   \n",
       "17377    17378  2012-12-31       1   1    12  22        0        1   \n",
       "17378    17379  2012-12-31       1   1    12  23        0        1   \n",
       "\n",
       "       workingday  weathersit  temp   atemp   hum  windspeed  casual  \\\n",
       "17374           1           2  0.26  0.2576  0.60     0.1642      11   \n",
       "17375           1           2  0.26  0.2576  0.60     0.1642       8   \n",
       "17376           1           1  0.26  0.2576  0.60     0.1642       7   \n",
       "17377           1           1  0.26  0.2727  0.56     0.1343      13   \n",
       "17378           1           1  0.26  0.2727  0.65     0.1343      12   \n",
       "\n",
       "       registered  cnt  \n",
       "17374         108  119  \n",
       "17375          81   89  \n",
       "17376          83   90  \n",
       "17377          48   61  \n",
       "17378          37   49  "
      ]
     },
     "execution_count": 2,
     "metadata": {},
     "output_type": "execute_result"
    }
   ],
   "source": [
    "bike_rentals = pd.read_csv('bike_rental_hour.csv')\n",
    "bike_rentals.tail()"
   ]
  },
  {
   "cell_type": "markdown",
   "metadata": {},
   "source": [
    "Explanation of the columns:\n",
    "<ul>\n",
    "<li>`instant`: unique sequential ID number for each row,</li>\n",
    "<li>`dteday`: the date of the rentals</li>\n",
    "<li>`season`: the season the rentals occurred</li>\n",
    "<li>`yr`: the year the rentals occurred</li>\n",
    "<li>`mnth`: The month the rentals occurred</li>\n",
    "<li>'hr': the hour the bike was rented,</li>\n",
    "<li>`holiday`: whether or not the day was a holiday </li>\n",
    "<li>`weekday`: the day of the week (as a number, 0 to 7)</li>\n",
    "<li>`workingday`: whether or not the day was a working day</li>\n",
    "<li>`weathersit`: the weather (as a categorical variable) </li>\n",
    "<li>`temp`: the temperature on a scale 0-1,</li>\n",
    "<li>`atemp`: the adjusted temperature,</li>\n",
    "<li>`hum`: the humidity on a scale from 0-1,</li>\n",
    "<li>`windspeed`: the wind speed, on a 0-1 scale</li>\n",
    "<li>`casual`: the number of casual riders (people who hadn't previously signed up with the bike sharing program)</li>\n",
    "<li>`registered`: the number of registered riders (people who had already signed up) </li>\n",
    "<li>`cnt`: the total number of bike rentals (`casual` + `registered`) </li>\n",
    "</ul>"
   ]
  },
  {
   "cell_type": "markdown",
   "metadata": {},
   "source": [
    "## Data Analysis and Cleaning"
   ]
  },
  {
   "cell_type": "code",
   "execution_count": 3,
   "metadata": {
    "collapsed": false
   },
   "outputs": [
    {
     "data": {
      "text/plain": [
       "instant       0\n",
       "dteday        0\n",
       "season        0\n",
       "yr            0\n",
       "mnth          0\n",
       "hr            0\n",
       "holiday       0\n",
       "weekday       0\n",
       "workingday    0\n",
       "weathersit    0\n",
       "temp          0\n",
       "atemp         0\n",
       "hum           0\n",
       "windspeed     0\n",
       "casual        0\n",
       "registered    0\n",
       "cnt           0\n",
       "dtype: int64"
      ]
     },
     "execution_count": 3,
     "metadata": {},
     "output_type": "execute_result"
    }
   ],
   "source": [
    "bike_rentals.isnull().sum()"
   ]
  },
  {
   "cell_type": "code",
   "execution_count": 4,
   "metadata": {
    "collapsed": false
   },
   "outputs": [
    {
     "data": {
      "text/html": [
       "<div>\n",
       "<style scoped>\n",
       "    .dataframe tbody tr th:only-of-type {\n",
       "        vertical-align: middle;\n",
       "    }\n",
       "\n",
       "    .dataframe tbody tr th {\n",
       "        vertical-align: top;\n",
       "    }\n",
       "\n",
       "    .dataframe thead th {\n",
       "        text-align: right;\n",
       "    }\n",
       "</style>\n",
       "<table border=\"1\" class=\"dataframe\">\n",
       "  <thead>\n",
       "    <tr style=\"text-align: right;\">\n",
       "      <th></th>\n",
       "      <th>instant</th>\n",
       "      <th>season</th>\n",
       "      <th>yr</th>\n",
       "      <th>mnth</th>\n",
       "      <th>hr</th>\n",
       "      <th>holiday</th>\n",
       "      <th>weekday</th>\n",
       "      <th>workingday</th>\n",
       "      <th>weathersit</th>\n",
       "      <th>temp</th>\n",
       "      <th>atemp</th>\n",
       "      <th>hum</th>\n",
       "      <th>windspeed</th>\n",
       "      <th>casual</th>\n",
       "      <th>registered</th>\n",
       "      <th>cnt</th>\n",
       "    </tr>\n",
       "  </thead>\n",
       "  <tbody>\n",
       "    <tr>\n",
       "      <th>count</th>\n",
       "      <td>17379.0000</td>\n",
       "      <td>17379.000000</td>\n",
       "      <td>17379.000000</td>\n",
       "      <td>17379.000000</td>\n",
       "      <td>17379.000000</td>\n",
       "      <td>17379.000000</td>\n",
       "      <td>17379.000000</td>\n",
       "      <td>17379.000000</td>\n",
       "      <td>17379.000000</td>\n",
       "      <td>17379.000000</td>\n",
       "      <td>17379.000000</td>\n",
       "      <td>17379.000000</td>\n",
       "      <td>17379.000000</td>\n",
       "      <td>17379.000000</td>\n",
       "      <td>17379.000000</td>\n",
       "      <td>17379.000000</td>\n",
       "    </tr>\n",
       "    <tr>\n",
       "      <th>mean</th>\n",
       "      <td>8690.0000</td>\n",
       "      <td>2.501640</td>\n",
       "      <td>0.502561</td>\n",
       "      <td>6.537775</td>\n",
       "      <td>11.546752</td>\n",
       "      <td>0.028770</td>\n",
       "      <td>3.003683</td>\n",
       "      <td>0.682721</td>\n",
       "      <td>1.425283</td>\n",
       "      <td>0.496987</td>\n",
       "      <td>0.475775</td>\n",
       "      <td>0.627229</td>\n",
       "      <td>0.190098</td>\n",
       "      <td>35.676218</td>\n",
       "      <td>153.786869</td>\n",
       "      <td>189.463088</td>\n",
       "    </tr>\n",
       "    <tr>\n",
       "      <th>std</th>\n",
       "      <td>5017.0295</td>\n",
       "      <td>1.106918</td>\n",
       "      <td>0.500008</td>\n",
       "      <td>3.438776</td>\n",
       "      <td>6.914405</td>\n",
       "      <td>0.167165</td>\n",
       "      <td>2.005771</td>\n",
       "      <td>0.465431</td>\n",
       "      <td>0.639357</td>\n",
       "      <td>0.192556</td>\n",
       "      <td>0.171850</td>\n",
       "      <td>0.192930</td>\n",
       "      <td>0.122340</td>\n",
       "      <td>49.305030</td>\n",
       "      <td>151.357286</td>\n",
       "      <td>181.387599</td>\n",
       "    </tr>\n",
       "    <tr>\n",
       "      <th>min</th>\n",
       "      <td>1.0000</td>\n",
       "      <td>1.000000</td>\n",
       "      <td>0.000000</td>\n",
       "      <td>1.000000</td>\n",
       "      <td>0.000000</td>\n",
       "      <td>0.000000</td>\n",
       "      <td>0.000000</td>\n",
       "      <td>0.000000</td>\n",
       "      <td>1.000000</td>\n",
       "      <td>0.020000</td>\n",
       "      <td>0.000000</td>\n",
       "      <td>0.000000</td>\n",
       "      <td>0.000000</td>\n",
       "      <td>0.000000</td>\n",
       "      <td>0.000000</td>\n",
       "      <td>1.000000</td>\n",
       "    </tr>\n",
       "    <tr>\n",
       "      <th>25%</th>\n",
       "      <td>4345.5000</td>\n",
       "      <td>2.000000</td>\n",
       "      <td>0.000000</td>\n",
       "      <td>4.000000</td>\n",
       "      <td>6.000000</td>\n",
       "      <td>0.000000</td>\n",
       "      <td>1.000000</td>\n",
       "      <td>0.000000</td>\n",
       "      <td>1.000000</td>\n",
       "      <td>0.340000</td>\n",
       "      <td>0.333300</td>\n",
       "      <td>0.480000</td>\n",
       "      <td>0.104500</td>\n",
       "      <td>4.000000</td>\n",
       "      <td>34.000000</td>\n",
       "      <td>40.000000</td>\n",
       "    </tr>\n",
       "    <tr>\n",
       "      <th>50%</th>\n",
       "      <td>8690.0000</td>\n",
       "      <td>3.000000</td>\n",
       "      <td>1.000000</td>\n",
       "      <td>7.000000</td>\n",
       "      <td>12.000000</td>\n",
       "      <td>0.000000</td>\n",
       "      <td>3.000000</td>\n",
       "      <td>1.000000</td>\n",
       "      <td>1.000000</td>\n",
       "      <td>0.500000</td>\n",
       "      <td>0.484800</td>\n",
       "      <td>0.630000</td>\n",
       "      <td>0.194000</td>\n",
       "      <td>17.000000</td>\n",
       "      <td>115.000000</td>\n",
       "      <td>142.000000</td>\n",
       "    </tr>\n",
       "    <tr>\n",
       "      <th>75%</th>\n",
       "      <td>13034.5000</td>\n",
       "      <td>3.000000</td>\n",
       "      <td>1.000000</td>\n",
       "      <td>10.000000</td>\n",
       "      <td>18.000000</td>\n",
       "      <td>0.000000</td>\n",
       "      <td>5.000000</td>\n",
       "      <td>1.000000</td>\n",
       "      <td>2.000000</td>\n",
       "      <td>0.660000</td>\n",
       "      <td>0.621200</td>\n",
       "      <td>0.780000</td>\n",
       "      <td>0.253700</td>\n",
       "      <td>48.000000</td>\n",
       "      <td>220.000000</td>\n",
       "      <td>281.000000</td>\n",
       "    </tr>\n",
       "    <tr>\n",
       "      <th>max</th>\n",
       "      <td>17379.0000</td>\n",
       "      <td>4.000000</td>\n",
       "      <td>1.000000</td>\n",
       "      <td>12.000000</td>\n",
       "      <td>23.000000</td>\n",
       "      <td>1.000000</td>\n",
       "      <td>6.000000</td>\n",
       "      <td>1.000000</td>\n",
       "      <td>4.000000</td>\n",
       "      <td>1.000000</td>\n",
       "      <td>1.000000</td>\n",
       "      <td>1.000000</td>\n",
       "      <td>0.850700</td>\n",
       "      <td>367.000000</td>\n",
       "      <td>886.000000</td>\n",
       "      <td>977.000000</td>\n",
       "    </tr>\n",
       "  </tbody>\n",
       "</table>\n",
       "</div>"
      ],
      "text/plain": [
       "          instant        season            yr          mnth            hr  \\\n",
       "count  17379.0000  17379.000000  17379.000000  17379.000000  17379.000000   \n",
       "mean    8690.0000      2.501640      0.502561      6.537775     11.546752   \n",
       "std     5017.0295      1.106918      0.500008      3.438776      6.914405   \n",
       "min        1.0000      1.000000      0.000000      1.000000      0.000000   \n",
       "25%     4345.5000      2.000000      0.000000      4.000000      6.000000   \n",
       "50%     8690.0000      3.000000      1.000000      7.000000     12.000000   \n",
       "75%    13034.5000      3.000000      1.000000     10.000000     18.000000   \n",
       "max    17379.0000      4.000000      1.000000     12.000000     23.000000   \n",
       "\n",
       "            holiday       weekday    workingday    weathersit          temp  \\\n",
       "count  17379.000000  17379.000000  17379.000000  17379.000000  17379.000000   \n",
       "mean       0.028770      3.003683      0.682721      1.425283      0.496987   \n",
       "std        0.167165      2.005771      0.465431      0.639357      0.192556   \n",
       "min        0.000000      0.000000      0.000000      1.000000      0.020000   \n",
       "25%        0.000000      1.000000      0.000000      1.000000      0.340000   \n",
       "50%        0.000000      3.000000      1.000000      1.000000      0.500000   \n",
       "75%        0.000000      5.000000      1.000000      2.000000      0.660000   \n",
       "max        1.000000      6.000000      1.000000      4.000000      1.000000   \n",
       "\n",
       "              atemp           hum     windspeed        casual    registered  \\\n",
       "count  17379.000000  17379.000000  17379.000000  17379.000000  17379.000000   \n",
       "mean       0.475775      0.627229      0.190098     35.676218    153.786869   \n",
       "std        0.171850      0.192930      0.122340     49.305030    151.357286   \n",
       "min        0.000000      0.000000      0.000000      0.000000      0.000000   \n",
       "25%        0.333300      0.480000      0.104500      4.000000     34.000000   \n",
       "50%        0.484800      0.630000      0.194000     17.000000    115.000000   \n",
       "75%        0.621200      0.780000      0.253700     48.000000    220.000000   \n",
       "max        1.000000      1.000000      0.850700    367.000000    886.000000   \n",
       "\n",
       "                cnt  \n",
       "count  17379.000000  \n",
       "mean     189.463088  \n",
       "std      181.387599  \n",
       "min        1.000000  \n",
       "25%       40.000000  \n",
       "50%      142.000000  \n",
       "75%      281.000000  \n",
       "max      977.000000  "
      ]
     },
     "execution_count": 4,
     "metadata": {},
     "output_type": "execute_result"
    }
   ],
   "source": [
    "bike_rentals.describe()"
   ]
  },
  {
   "cell_type": "code",
   "execution_count": 5,
   "metadata": {
    "collapsed": false
   },
   "outputs": [
    {
     "data": {
      "text/plain": [
       "instant         int64\n",
       "dteday         object\n",
       "season          int64\n",
       "yr              int64\n",
       "mnth            int64\n",
       "hr              int64\n",
       "holiday         int64\n",
       "weekday         int64\n",
       "workingday      int64\n",
       "weathersit      int64\n",
       "temp          float64\n",
       "atemp         float64\n",
       "hum           float64\n",
       "windspeed     float64\n",
       "casual          int64\n",
       "registered      int64\n",
       "cnt             int64\n",
       "dtype: object"
      ]
     },
     "execution_count": 5,
     "metadata": {},
     "output_type": "execute_result"
    }
   ],
   "source": [
    "bike_rentals.dtypes"
   ]
  },
  {
   "cell_type": "code",
   "execution_count": 6,
   "metadata": {
    "collapsed": true
   },
   "outputs": [],
   "source": [
    "bike_rentals['dteday'] = pd.to_datetime(bike_rentals['dteday'], \n",
    "                                        format = '%Y-%m-%d'\n",
    "                                       )"
   ]
  },
  {
   "cell_type": "markdown",
   "metadata": {},
   "source": [
    "What does the `1` and `0` stand for in `yr`?"
   ]
  },
  {
   "cell_type": "code",
   "execution_count": 7,
   "metadata": {
    "collapsed": false
   },
   "outputs": [
    {
     "data": {
      "text/plain": [
       "1    8734\n",
       "0    8645\n",
       "Name: yr, dtype: int64"
      ]
     },
     "execution_count": 7,
     "metadata": {},
     "output_type": "execute_result"
    }
   ],
   "source": [
    "bike_rentals['yr'].value_counts()"
   ]
  },
  {
   "cell_type": "code",
   "execution_count": 8,
   "metadata": {
    "collapsed": false
   },
   "outputs": [
    {
     "data": {
      "text/plain": [
       "2012    8734\n",
       "2011    8645\n",
       "Name: dteday, dtype: int64"
      ]
     },
     "execution_count": 8,
     "metadata": {},
     "output_type": "execute_result"
    }
   ],
   "source": [
    "pd.DatetimeIndex(bike_rentals['dteday']).year.value_counts()"
   ]
  },
  {
   "cell_type": "code",
   "execution_count": 9,
   "metadata": {
    "collapsed": false
   },
   "outputs": [
    {
     "data": {
      "text/plain": [
       "2012    8734\n",
       "Name: dteday, dtype: int64"
      ]
     },
     "execution_count": 9,
     "metadata": {},
     "output_type": "execute_result"
    }
   ],
   "source": [
    "pd.DatetimeIndex(bike_rentals[bike_rentals['yr'] == 1]['dteday']).year.value_counts()"
   ]
  },
  {
   "cell_type": "markdown",
   "metadata": {},
   "source": [
    "Some quick `value_counts` of other columns to learn more about the information they hold:"
   ]
  },
  {
   "cell_type": "code",
   "execution_count": 10,
   "metadata": {
    "collapsed": false
   },
   "outputs": [
    {
     "data": {
      "text/plain": [
       "(17379, 17)"
      ]
     },
     "execution_count": 10,
     "metadata": {},
     "output_type": "execute_result"
    }
   ],
   "source": [
    "bike_rentals.shape"
   ]
  },
  {
   "cell_type": "code",
   "execution_count": 11,
   "metadata": {
    "collapsed": false
   },
   "outputs": [
    {
     "name": "stdout",
     "output_type": "stream",
     "text": [
      "(12365, 17)\n",
      "Sum of holidays and workingdays : \n",
      " holiday         500\n",
      "workingday    11865\n",
      "dtype: int64\n",
      "overlaps? : \n",
      " 1    12365\n",
      "dtype: int64\n"
     ]
    }
   ],
   "source": [
    "workdays = [1,2,3,4,5]\n",
    "workday_or_holiday = bike_rentals[bike_rentals['weekday'].isin(workdays)]\n",
    "print(workday_or_holiday.shape)\n",
    "print('Sum of holidays and workingdays : \\n',workday_or_holiday[['holiday','workingday']].sum())\n",
    "print('overlaps? : \\n',workday_or_holiday[['holiday','workingday']].sum(axis = 1).value_counts())"
   ]
  },
  {
   "cell_type": "markdown",
   "metadata": {},
   "source": [
    "There are some columns, which will not contribute to predicting bike counts. E.g. the column `instant` contains no valueble information for our predictions as it is just the ID for the row. The columns `casual` and `registered` yield the target column `cnt`. Hence, they will display a high correlation without adding any information. I will drop these three columns for now:"
   ]
  },
  {
   "cell_type": "code",
   "execution_count": 12,
   "metadata": {
    "collapsed": true
   },
   "outputs": [],
   "source": [
    "bike_rentals.drop(columns = ['instant','casual','registered'], inplace = True)"
   ]
  },
  {
   "cell_type": "markdown",
   "metadata": {},
   "source": [
    "Next, I will modify the `hr` column:"
   ]
  },
  {
   "cell_type": "code",
   "execution_count": 13,
   "metadata": {
    "collapsed": true
   },
   "outputs": [],
   "source": [
    "def assign_label(hour):\n",
    "    if hour <6:\n",
    "        return 4\n",
    "    elif hour<12 and hour>=6:\n",
    "        return 1\n",
    "    elif hour<18 and hour>=12:\n",
    "        return 2\n",
    "    else:\n",
    "        return 3\n",
    "bike_rentals['time_label'] = bike_rentals['hr'].apply(assign_label).astype('category')"
   ]
  },
  {
   "cell_type": "code",
   "execution_count": null,
   "metadata": {
    "collapsed": true
   },
   "outputs": [],
   "source": []
  },
  {
   "cell_type": "code",
   "execution_count": null,
   "metadata": {
    "collapsed": true
   },
   "outputs": [],
   "source": []
  },
  {
   "cell_type": "markdown",
   "metadata": {},
   "source": [
    "Which varaibles are categorical?\n",
    "\n",
    "`season`, any column referring to dates, and `weathersit` display values belonging to a category rather than an interval or ratio scale. "
   ]
  },
  {
   "cell_type": "code",
   "execution_count": 14,
   "metadata": {
    "collapsed": true
   },
   "outputs": [],
   "source": [
    "categorical_columns = ['season',\n",
    "                       'weathersit',\n",
    "                       'holiday',\n",
    "                       'yr',\n",
    "                       'mnth',\n",
    "                       'hr',\n",
    "                       'weekday',\n",
    "                       'workingday',\n",
    "                       'time_label'\n",
    "                      ]\n"
   ]
  },
  {
   "cell_type": "markdown",
   "metadata": {},
   "source": [
    "Which of the categorical varaibles are connected?"
   ]
  },
  {
   "cell_type": "code",
   "execution_count": 15,
   "metadata": {
    "collapsed": true
   },
   "outputs": [],
   "source": [
    "for col in categorical_columns:\n",
    "    bike_rentals[col] = bike_rentals[col].astype('category')"
   ]
  },
  {
   "cell_type": "code",
   "execution_count": 16,
   "metadata": {
    "collapsed": false
   },
   "outputs": [
    {
     "data": {
      "image/png": "[encoded data removed]",
      "text/plain": [
       "<matplotlib.figure.Figure at 0x7fa9bf25a320>"
      ]
     },
     "metadata": {},
     "output_type": "display_data"
    }
   ],
   "source": [
    "plt.figure(figsize=(10, 16))\n",
    "\n",
    "plt.subplot(4, 2, 1)\n",
    "x = bike_rentals.groupby('hr')['cnt'].sum().index\n",
    "y = bike_rentals.groupby('hr')['cnt'].sum()\n",
    "plt.bar(x,y)\n",
    "plt.title('Hour')\n",
    "\n",
    "plt.subplot(4, 2, 2)\n",
    "x = bike_rentals.groupby('time_label')['cnt'].sum().index\n",
    "y = bike_rentals.groupby('time_label')['cnt'].sum()\n",
    "plt.bar(x,y)\n",
    "plt.title('Time Label')\n",
    "\n",
    "\n",
    "plt.subplot(4, 2, 3)\n",
    "x = bike_rentals.groupby('weathersit')['cnt'].sum().index\n",
    "y = bike_rentals.groupby('weathersit')['cnt'].sum()\n",
    "plt.bar(x,y)\n",
    "plt.title('Weather Situation')\n",
    "\n",
    "plt.subplot(4, 2, 4)\n",
    "x = bike_rentals.groupby('workingday')['cnt'].sum().index\n",
    "y = bike_rentals.groupby('workingday')['cnt'].sum()\n",
    "plt.bar(x,y)\n",
    "plt.title('Working Day')\n",
    "\n",
    "plt.subplot(4, 2, 5)\n",
    "x = bike_rentals.groupby('mnth')['cnt'].sum().index\n",
    "y = bike_rentals.groupby('mnth')['cnt'].sum()\n",
    "plt.bar(x,y)\n",
    "plt.title('Month')\n",
    "\n",
    "plt.subplot(4, 2, 6)\n",
    "x = bike_rentals.groupby('season')['cnt'].sum().index\n",
    "y = bike_rentals.groupby('season')['cnt'].sum()\n",
    "plt.bar(x,y)\n",
    "plt.title('Season')\n",
    "\n",
    "plt.subplot(4, 2, 7)\n",
    "x = bike_rentals.groupby('weekday')['cnt'].sum().index\n",
    "y = bike_rentals.groupby('weekday')['cnt'].sum()\n",
    "plt.bar(x,y)\n",
    "plt.title('Weekday')\n",
    "\n",
    "plt.subplot(4, 2, 8)\n",
    "x = bike_rentals.groupby('holiday')['cnt'].sum().index\n",
    "y = bike_rentals.groupby('holiday')['cnt'].sum()\n",
    "plt.bar(x,y)\n",
    "plt.title('Holidays')\n",
    "\n",
    "plt.show()"
   ]
  },
  {
   "cell_type": "markdown",
   "metadata": {},
   "source": [
    "`yr`, `month`, and `season` are clearly connected. I will only keep one of them for the linear regression. `weekday` has very little variance, hence will be discarded. `workingday` and `holiday` display the same information. `hr` is replaced by `time_label`, but `time_label` should be made more granular. The column `tdeday` will not be usable for linear regression, so I will drop it as well. I will create a new dataframe, where I will drop the columns as described:"
   ]
  },
  {
   "cell_type": "code",
   "execution_count": 17,
   "metadata": {
    "collapsed": false
   },
   "outputs": [],
   "source": [
    "def assign_label(hour):\n",
    "    if hour <7 and hour >3:\n",
    "        return 6\n",
    "    elif hour<11 and hour>=7:\n",
    "        return 1\n",
    "    elif hour<15 and hour>=11:\n",
    "        return 2\n",
    "    elif hour<19 and hour>=15:\n",
    "        return 3\n",
    "    elif hour<23 and hour>=19:\n",
    "        return 4\n",
    "    else:\n",
    "        return 5\n",
    "bike_rentals['time_label'] = bike_rentals['hr'].apply(assign_label).astype('category')\n",
    "\n",
    "bike_rentals_relevant = bike_rentals.drop(columns = ['yr',\n",
    "                                                    'mnth',\n",
    "                                                    'weekday',\n",
    "                                                    'hr',\n",
    "                                                     'dteday',\n",
    "                                                     'holiday'\n",
    "                                                   ])"
   ]
  },
  {
   "cell_type": "code",
   "execution_count": 18,
   "metadata": {
    "collapsed": false
   },
   "outputs": [
    {
     "data": {
      "text/plain": [
       "season        category\n",
       "workingday    category\n",
       "weathersit    category\n",
       "temp           float64\n",
       "atemp          float64\n",
       "hum            float64\n",
       "windspeed      float64\n",
       "cnt              int64\n",
       "time_label    category\n",
       "dtype: object"
      ]
     },
     "execution_count": 18,
     "metadata": {},
     "output_type": "execute_result"
    }
   ],
   "source": [
    "bike_rentals_relevant.dtypes"
   ]
  },
  {
   "cell_type": "markdown",
   "metadata": {},
   "source": [
    "## Correlation between columns"
   ]
  },
  {
   "cell_type": "markdown",
   "metadata": {},
   "source": [
    "Next, I will check the correlation of the numerical columns to the column `cnt` to see which ones are more relevant than others:"
   ]
  },
  {
   "cell_type": "code",
   "execution_count": 19,
   "metadata": {
    "collapsed": false
   },
   "outputs": [
    {
     "data": {
      "text/plain": [
       "cnt          1.000000\n",
       "temp         0.404772\n",
       "atemp        0.400929\n",
       "hum          0.322911\n",
       "windspeed    0.093234\n",
       "Name: cnt, dtype: float64"
      ]
     },
     "execution_count": 19,
     "metadata": {},
     "output_type": "execute_result"
    }
   ],
   "source": [
    "ranking_corr = np.abs(bike_rentals_relevant.corr()['cnt']).sort_values(ascending = False)\n",
    "ranking_corr"
   ]
  },
  {
   "cell_type": "code",
   "execution_count": 20,
   "metadata": {
    "collapsed": false
   },
   "outputs": [
    {
     "data": {
      "text/plain": [
       "<matplotlib.axes._subplots.AxesSubplot at 0x7fa9bf1d7cf8>"
      ]
     },
     "execution_count": 20,
     "metadata": {},
     "output_type": "execute_result"
    },
    {
     "data": {
      "image/png": "[encoded data removed]",
      "text/plain": [
       "<matplotlib.figure.Figure at 0x7fa9beaa9588>"
      ]
     },
     "metadata": {},
     "output_type": "display_data"
    }
   ],
   "source": [
    "sns.heatmap(bike_rentals_relevant.corr(),annot=True,lw=1)"
   ]
  },
  {
   "cell_type": "markdown",
   "metadata": {},
   "source": [
    "`temp` and `atemp` are highly correlated. I will drop `atemp` as `temp` has a slightly higher correlation to `cnt`. `windspeed` seems to have a very low correclation as well, hence I will drop it."
   ]
  },
  {
   "cell_type": "code",
   "execution_count": 21,
   "metadata": {
    "collapsed": true
   },
   "outputs": [],
   "source": [
    "bike_rentals_relevant.drop(columns = ['atemp','windspeed'], inplace = True)"
   ]
  },
  {
   "cell_type": "markdown",
   "metadata": {},
   "source": [
    "Another way to show correlations is with scatter plots. This should reveal whether we find a linear correlation. Or maybe a non-linear one?"
   ]
  },
  {
   "cell_type": "code",
   "execution_count": 22,
   "metadata": {
    "collapsed": false
   },
   "outputs": [
    {
     "data": {
      "text/plain": [
       "<matplotlib.text.Text at 0x7fa9bf1aa5c0>"
      ]
     },
     "execution_count": 22,
     "metadata": {},
     "output_type": "execute_result"
    },
    {
     "data": {
      "image/png": "[encoded data removed]",
      "text/plain": [
       "<matplotlib.figure.Figure at 0x7fa9bf020be0>"
      ]
     },
     "metadata": {},
     "output_type": "display_data"
    }
   ],
   "source": [
    "fig = plt.figure(figsize=(10, 8))\n",
    "st = fig.suptitle(\"Scatter Plots\", fontsize=\"x-large\")\n",
    "\n",
    "ax1 = fig.add_subplot(221)\n",
    "ax1.scatter(x = bike_rentals['temp'], y = bike_rentals['cnt'],color = 'cornflowerblue',alpha = 0.6)\n",
    "ax1.set_title(\"temp\")\n",
    "\n",
    "ax2 = fig.add_subplot(222)\n",
    "ax2.scatter(x = bike_rentals['atemp'], y = bike_rentals['cnt'],color = 'mediumpurple',alpha = 0.6)\n",
    "ax2.set_title(\"atemp\")\n",
    "\n",
    "ax3 = fig.add_subplot(223)\n",
    "ax3.scatter(x = bike_rentals['hum'], y = bike_rentals['cnt'], color = 'mediumseagreen',alpha = 0.6)\n",
    "ax3.set_title(\"hum\")\n",
    "\n",
    "ax4 = fig.add_subplot(224)\n",
    "ax4.scatter(x = bike_rentals['windspeed'], y = bike_rentals['cnt'], color = 'indianred',alpha = 0.6)\n",
    "ax4.set_title(\"windspeed\")\n"
   ]
  },
  {
   "cell_type": "markdown",
   "metadata": {},
   "source": [
    "## Dummy variables:\n",
    "As a next step, I will change the categorical variables (with more than 2 values) into dummy variables:"
   ]
  },
  {
   "cell_type": "code",
   "execution_count": 23,
   "metadata": {
    "collapsed": false
   },
   "outputs": [
    {
     "data": {
      "text/plain": [
       "season        4\n",
       "workingday    2\n",
       "weathersit    4\n",
       "time_label    6\n",
       "dtype: int64"
      ]
     },
     "execution_count": 23,
     "metadata": {},
     "output_type": "execute_result"
    }
   ],
   "source": [
    "bike_rentals_relevant.select_dtypes(include = ['category']).nunique()"
   ]
  },
  {
   "cell_type": "code",
   "execution_count": 24,
   "metadata": {
    "collapsed": true
   },
   "outputs": [],
   "source": [
    "to_be_dummied = bike_rentals_relevant.select_dtypes(include = ['category'])\n",
    "columns_dummy_before = to_be_dummied.columns\n",
    "to_be_dummied = pd.get_dummies(data = to_be_dummied, drop_first = True)"
   ]
  },
  {
   "cell_type": "code",
   "execution_count": 25,
   "metadata": {
    "collapsed": false
   },
   "outputs": [],
   "source": [
    "bike_rentals_relevant.drop(columns = columns_dummy_before, inplace = True)\n",
    "bike_rentals_relevant = pd.concat([bike_rentals_relevant, to_be_dummied], axis = 1)"
   ]
  },
  {
   "cell_type": "code",
   "execution_count": 26,
   "metadata": {
    "collapsed": false
   },
   "outputs": [
    {
     "data": {
      "text/html": [
       "<div>\n",
       "<style scoped>\n",
       "    .dataframe tbody tr th:only-of-type {\n",
       "        vertical-align: middle;\n",
       "    }\n",
       "\n",
       "    .dataframe tbody tr th {\n",
       "        vertical-align: top;\n",
       "    }\n",
       "\n",
       "    .dataframe thead th {\n",
       "        text-align: right;\n",
       "    }\n",
       "</style>\n",
       "<table border=\"1\" class=\"dataframe\">\n",
       "  <thead>\n",
       "    <tr style=\"text-align: right;\">\n",
       "      <th></th>\n",
       "      <th>temp</th>\n",
       "      <th>hum</th>\n",
       "      <th>cnt</th>\n",
       "      <th>season_2</th>\n",
       "      <th>season_3</th>\n",
       "      <th>season_4</th>\n",
       "      <th>workingday_1</th>\n",
       "      <th>weathersit_2</th>\n",
       "      <th>weathersit_3</th>\n",
       "      <th>weathersit_4</th>\n",
       "      <th>time_label_2</th>\n",
       "      <th>time_label_3</th>\n",
       "      <th>time_label_4</th>\n",
       "      <th>time_label_5</th>\n",
       "      <th>time_label_6</th>\n",
       "    </tr>\n",
       "  </thead>\n",
       "  <tbody>\n",
       "    <tr>\n",
       "      <th>0</th>\n",
       "      <td>0.24</td>\n",
       "      <td>0.81</td>\n",
       "      <td>16</td>\n",
       "      <td>0</td>\n",
       "      <td>0</td>\n",
       "      <td>0</td>\n",
       "      <td>0</td>\n",
       "      <td>0</td>\n",
       "      <td>0</td>\n",
       "      <td>0</td>\n",
       "      <td>0</td>\n",
       "      <td>0</td>\n",
       "      <td>0</td>\n",
       "      <td>1</td>\n",
       "      <td>0</td>\n",
       "    </tr>\n",
       "    <tr>\n",
       "      <th>1</th>\n",
       "      <td>0.22</td>\n",
       "      <td>0.80</td>\n",
       "      <td>40</td>\n",
       "      <td>0</td>\n",
       "      <td>0</td>\n",
       "      <td>0</td>\n",
       "      <td>0</td>\n",
       "      <td>0</td>\n",
       "      <td>0</td>\n",
       "      <td>0</td>\n",
       "      <td>0</td>\n",
       "      <td>0</td>\n",
       "      <td>0</td>\n",
       "      <td>1</td>\n",
       "      <td>0</td>\n",
       "    </tr>\n",
       "    <tr>\n",
       "      <th>2</th>\n",
       "      <td>0.22</td>\n",
       "      <td>0.80</td>\n",
       "      <td>32</td>\n",
       "      <td>0</td>\n",
       "      <td>0</td>\n",
       "      <td>0</td>\n",
       "      <td>0</td>\n",
       "      <td>0</td>\n",
       "      <td>0</td>\n",
       "      <td>0</td>\n",
       "      <td>0</td>\n",
       "      <td>0</td>\n",
       "      <td>0</td>\n",
       "      <td>1</td>\n",
       "      <td>0</td>\n",
       "    </tr>\n",
       "    <tr>\n",
       "      <th>3</th>\n",
       "      <td>0.24</td>\n",
       "      <td>0.75</td>\n",
       "      <td>13</td>\n",
       "      <td>0</td>\n",
       "      <td>0</td>\n",
       "      <td>0</td>\n",
       "      <td>0</td>\n",
       "      <td>0</td>\n",
       "      <td>0</td>\n",
       "      <td>0</td>\n",
       "      <td>0</td>\n",
       "      <td>0</td>\n",
       "      <td>0</td>\n",
       "      <td>1</td>\n",
       "      <td>0</td>\n",
       "    </tr>\n",
       "    <tr>\n",
       "      <th>4</th>\n",
       "      <td>0.24</td>\n",
       "      <td>0.75</td>\n",
       "      <td>1</td>\n",
       "      <td>0</td>\n",
       "      <td>0</td>\n",
       "      <td>0</td>\n",
       "      <td>0</td>\n",
       "      <td>0</td>\n",
       "      <td>0</td>\n",
       "      <td>0</td>\n",
       "      <td>0</td>\n",
       "      <td>0</td>\n",
       "      <td>0</td>\n",
       "      <td>0</td>\n",
       "      <td>1</td>\n",
       "    </tr>\n",
       "  </tbody>\n",
       "</table>\n",
       "</div>"
      ],
      "text/plain": [
       "   temp   hum  cnt  season_2  season_3  season_4  workingday_1  weathersit_2  \\\n",
       "0  0.24  0.81   16         0         0         0             0             0   \n",
       "1  0.22  0.80   40         0         0         0             0             0   \n",
       "2  0.22  0.80   32         0         0         0             0             0   \n",
       "3  0.24  0.75   13         0         0         0             0             0   \n",
       "4  0.24  0.75    1         0         0         0             0             0   \n",
       "\n",
       "   weathersit_3  weathersit_4  time_label_2  time_label_3  time_label_4  \\\n",
       "0             0             0             0             0             0   \n",
       "1             0             0             0             0             0   \n",
       "2             0             0             0             0             0   \n",
       "3             0             0             0             0             0   \n",
       "4             0             0             0             0             0   \n",
       "\n",
       "   time_label_5  time_label_6  \n",
       "0             1             0  \n",
       "1             1             0  \n",
       "2             1             0  \n",
       "3             1             0  \n",
       "4             0             1  "
      ]
     },
     "execution_count": 26,
     "metadata": {},
     "output_type": "execute_result"
    }
   ],
   "source": [
    "bike_rentals_relevant.head()"
   ]
  },
  {
   "cell_type": "markdown",
   "metadata": {},
   "source": [
    "## Test and train set:"
   ]
  },
  {
   "cell_type": "markdown",
   "metadata": {},
   "source": [
    "The trainings set will be 80% of the set and the test set 20%:"
   ]
  },
  {
   "cell_type": "code",
   "execution_count": 27,
   "metadata": {
    "collapsed": true
   },
   "outputs": [],
   "source": [
    "train = bike_rentals_relevant.sample(frac = 0.8)\n",
    "test = bike_rentals_relevant[~(bike_rentals_relevant.index.isin(train.index))]"
   ]
  },
  {
   "cell_type": "code",
   "execution_count": null,
   "metadata": {
    "collapsed": true
   },
   "outputs": [],
   "source": []
  },
  {
   "cell_type": "markdown",
   "metadata": {},
   "source": [
    "## Linear regression:\n",
    "Because many columns have higher correlations, I will use linear regression first."
   ]
  },
  {
   "cell_type": "code",
   "execution_count": 28,
   "metadata": {
    "collapsed": true
   },
   "outputs": [],
   "source": [
    "from sklearn.linear_model import LinearRegression\n",
    "from sklearn.metrics import mean_squared_error\n",
    "from sklearn.model_selection import KFold"
   ]
  },
  {
   "cell_type": "code",
   "execution_count": 29,
   "metadata": {
    "collapsed": false
   },
   "outputs": [],
   "source": [
    "target = 'cnt'\n",
    "features = train.columns.drop('cnt')"
   ]
  },
  {
   "cell_type": "code",
   "execution_count": 30,
   "metadata": {
    "collapsed": false
   },
   "outputs": [
    {
     "data": {
      "text/html": [
       "<div>\n",
       "<style scoped>\n",
       "    .dataframe tbody tr th:only-of-type {\n",
       "        vertical-align: middle;\n",
       "    }\n",
       "\n",
       "    .dataframe tbody tr th {\n",
       "        vertical-align: top;\n",
       "    }\n",
       "\n",
       "    .dataframe thead th {\n",
       "        text-align: right;\n",
       "    }\n",
       "</style>\n",
       "<table border=\"1\" class=\"dataframe\">\n",
       "  <thead>\n",
       "    <tr style=\"text-align: right;\">\n",
       "      <th></th>\n",
       "      <th>temp</th>\n",
       "      <th>hum</th>\n",
       "      <th>season_2</th>\n",
       "      <th>season_3</th>\n",
       "      <th>season_4</th>\n",
       "      <th>workingday_1</th>\n",
       "      <th>weathersit_2</th>\n",
       "      <th>weathersit_3</th>\n",
       "      <th>weathersit_4</th>\n",
       "      <th>time_label_2</th>\n",
       "      <th>time_label_3</th>\n",
       "      <th>time_label_4</th>\n",
       "      <th>time_label_5</th>\n",
       "      <th>time_label_6</th>\n",
       "    </tr>\n",
       "  </thead>\n",
       "  <tbody>\n",
       "    <tr>\n",
       "      <th>4</th>\n",
       "      <td>0.24</td>\n",
       "      <td>0.75</td>\n",
       "      <td>0</td>\n",
       "      <td>0</td>\n",
       "      <td>0</td>\n",
       "      <td>0</td>\n",
       "      <td>0</td>\n",
       "      <td>0</td>\n",
       "      <td>0</td>\n",
       "      <td>0</td>\n",
       "      <td>0</td>\n",
       "      <td>0</td>\n",
       "      <td>0</td>\n",
       "      <td>1</td>\n",
       "    </tr>\n",
       "    <tr>\n",
       "      <th>5</th>\n",
       "      <td>0.24</td>\n",
       "      <td>0.75</td>\n",
       "      <td>0</td>\n",
       "      <td>0</td>\n",
       "      <td>0</td>\n",
       "      <td>0</td>\n",
       "      <td>1</td>\n",
       "      <td>0</td>\n",
       "      <td>0</td>\n",
       "      <td>0</td>\n",
       "      <td>0</td>\n",
       "      <td>0</td>\n",
       "      <td>0</td>\n",
       "      <td>1</td>\n",
       "    </tr>\n",
       "    <tr>\n",
       "      <th>8</th>\n",
       "      <td>0.24</td>\n",
       "      <td>0.75</td>\n",
       "      <td>0</td>\n",
       "      <td>0</td>\n",
       "      <td>0</td>\n",
       "      <td>0</td>\n",
       "      <td>0</td>\n",
       "      <td>0</td>\n",
       "      <td>0</td>\n",
       "      <td>0</td>\n",
       "      <td>0</td>\n",
       "      <td>0</td>\n",
       "      <td>0</td>\n",
       "      <td>0</td>\n",
       "    </tr>\n",
       "    <tr>\n",
       "      <th>11</th>\n",
       "      <td>0.36</td>\n",
       "      <td>0.81</td>\n",
       "      <td>0</td>\n",
       "      <td>0</td>\n",
       "      <td>0</td>\n",
       "      <td>0</td>\n",
       "      <td>0</td>\n",
       "      <td>0</td>\n",
       "      <td>0</td>\n",
       "      <td>1</td>\n",
       "      <td>0</td>\n",
       "      <td>0</td>\n",
       "      <td>0</td>\n",
       "      <td>0</td>\n",
       "    </tr>\n",
       "    <tr>\n",
       "      <th>12</th>\n",
       "      <td>0.42</td>\n",
       "      <td>0.77</td>\n",
       "      <td>0</td>\n",
       "      <td>0</td>\n",
       "      <td>0</td>\n",
       "      <td>0</td>\n",
       "      <td>0</td>\n",
       "      <td>0</td>\n",
       "      <td>0</td>\n",
       "      <td>1</td>\n",
       "      <td>0</td>\n",
       "      <td>0</td>\n",
       "      <td>0</td>\n",
       "      <td>0</td>\n",
       "    </tr>\n",
       "  </tbody>\n",
       "</table>\n",
       "</div>"
      ],
      "text/plain": [
       "    temp   hum  season_2  season_3  season_4  workingday_1  weathersit_2  \\\n",
       "4   0.24  0.75         0         0         0             0             0   \n",
       "5   0.24  0.75         0         0         0             0             1   \n",
       "8   0.24  0.75         0         0         0             0             0   \n",
       "11  0.36  0.81         0         0         0             0             0   \n",
       "12  0.42  0.77         0         0         0             0             0   \n",
       "\n",
       "    weathersit_3  weathersit_4  time_label_2  time_label_3  time_label_4  \\\n",
       "4              0             0             0             0             0   \n",
       "5              0             0             0             0             0   \n",
       "8              0             0             0             0             0   \n",
       "11             0             0             1             0             0   \n",
       "12             0             0             1             0             0   \n",
       "\n",
       "    time_label_5  time_label_6  \n",
       "4              0             1  \n",
       "5              0             1  \n",
       "8              0             0  \n",
       "11             0             0  \n",
       "12             0             0  "
      ]
     },
     "execution_count": 30,
     "metadata": {},
     "output_type": "execute_result"
    }
   ],
   "source": [
    "test[features].head()"
   ]
  },
  {
   "cell_type": "markdown",
   "metadata": {
    "collapsed": true
   },
   "source": [
    "All features:"
   ]
  },
  {
   "cell_type": "code",
   "execution_count": 31,
   "metadata": {
    "collapsed": false
   },
   "outputs": [
    {
     "data": {
      "text/plain": [
       "123.15222104191663"
      ]
     },
     "execution_count": 31,
     "metadata": {},
     "output_type": "execute_result"
    }
   ],
   "source": [
    "lr = LinearRegression()\n",
    "lr.fit(train[features], train[target])\n",
    "predictions_lr = lr.predict(test[features])\n",
    "rmse = np.sqrt(mean_squared_error(test[target], predictions_lr))\n",
    "rmse"
   ]
  },
  {
   "cell_type": "markdown",
   "metadata": {},
   "source": [
    "Am I overfitting?"
   ]
  },
  {
   "cell_type": "code",
   "execution_count": 32,
   "metadata": {
    "collapsed": false
   },
   "outputs": [
    {
     "name": "stdout",
     "output_type": "stream",
     "text": [
      "mean rmse test :  140.54782563377097 \n",
      " std rmse test:  24.716273917844124\n",
      "mean rmse train :  122.4853611340554 \n",
      " std rmse train:  6.831253554371986\n"
     ]
    }
   ],
   "source": [
    "kf = KFold(n_splits = 5)\n",
    "rmses_test = []\n",
    "rmses_train = []\n",
    "for train_index,test_index in kf.split(bike_rentals_relevant[features]):\n",
    "    X_train, X_test = bike_rentals_relevant[features].iloc[train_index], bike_rentals_relevant[features].iloc[test_index]\n",
    "    y_train, y_test = bike_rentals_relevant[target].iloc[train_index], bike_rentals_relevant[target].iloc[test_index]\n",
    "    lr = LinearRegression()\n",
    "    lr.fit(X_train,y_train)\n",
    "    \n",
    "    prediction_test = lr.predict(X_test)\n",
    "    rmse_test = np.sqrt(mean_squared_error(y_test, prediction_test))\n",
    "    rmses_test.append(rmse_test)\n",
    "    \n",
    "    prediction_train = lr.predict(X_train)\n",
    "    rmse_train = np.sqrt(mean_squared_error(y_train, prediction_train))\n",
    "    rmses_train.append(rmse_train)\n",
    "print('mean rmse test : ',np.mean(rmses_test),'\\n','std rmse test: ',np.std(rmses_test))\n",
    "print('mean rmse train : ',np.mean(rmses_train),'\\n','std rmse train: ',np.std(rmses_train))"
   ]
  },
  {
   "cell_type": "markdown",
   "metadata": {},
   "source": [
    "I actually might be overfitting. Let's have a look at the different rmses in detail:"
   ]
  },
  {
   "cell_type": "code",
   "execution_count": 33,
   "metadata": {
    "collapsed": false
   },
   "outputs": [
    {
     "data": {
      "text/plain": [
       "[128.94255278090236,\n",
       " 125.70694122402931,\n",
       " 129.16765982001522,\n",
       " 115.47972910216487,\n",
       " 113.12992274316521]"
      ]
     },
     "execution_count": 33,
     "metadata": {},
     "output_type": "execute_result"
    }
   ],
   "source": [
    "rmses_train"
   ]
  },
  {
   "cell_type": "code",
   "execution_count": 34,
   "metadata": {
    "collapsed": false
   },
   "outputs": [
    {
     "data": {
      "text/plain": [
       "[118.00250376675098,\n",
       " 133.43456054029184,\n",
       " 112.31070187486826,\n",
       " 166.15733668049606,\n",
       " 172.83402530644764]"
      ]
     },
     "execution_count": 34,
     "metadata": {},
     "output_type": "execute_result"
    }
   ],
   "source": [
    "rmses_test"
   ]
  },
  {
   "cell_type": "markdown",
   "metadata": {},
   "source": [
    "This looks like I am overfitting. Time to look at how well each column and the combination of those contribute:\n",
    "\n",
    "rmses for each column of column set (for categorical variables):"
   ]
  },
  {
   "cell_type": "code",
   "execution_count": 35,
   "metadata": {
    "collapsed": false
   },
   "outputs": [],
   "source": [
    "features_int = bike_rentals_relevant.select_dtypes(include = ['int','float']).columns.drop('cnt')\n",
    "features_cat = features.drop(features_int)"
   ]
  },
  {
   "cell_type": "code",
   "execution_count": 36,
   "metadata": {
    "collapsed": false
   },
   "outputs": [],
   "source": [
    "feat_season = features_cat[features_cat.str.contains('season')]\n",
    "feat_workingday = features_cat[features_cat.str.contains('workingday')]\n",
    "feat_weather = features_cat[features_cat.str.contains('weather')]\n",
    "feat_time = features_cat[features_cat.str.contains('time')]"
   ]
  },
  {
   "cell_type": "code",
   "execution_count": 37,
   "metadata": {
    "collapsed": false
   },
   "outputs": [
    {
     "data": {
      "text/plain": [
       "{'hum': 171.50362938669298,\n",
       " 'season': 174.80862059181672,\n",
       " 'temp': 165.8311952010208,\n",
       " 'time': 139.13285965329706,\n",
       " 'weathersit': 179.35592002295138,\n",
       " 'workingday': 181.11243198721218}"
      ]
     },
     "execution_count": 37,
     "metadata": {},
     "output_type": "execute_result"
    }
   ],
   "source": [
    "rmses_features = {}\n",
    "for feat in features_int:\n",
    "    lr = LinearRegression()\n",
    "    lr.fit(train[[feat]], train[target])\n",
    "    predictions_lr = lr.predict(test[[feat]])\n",
    "    rmse = np.sqrt(mean_squared_error(test[target], predictions_lr))\n",
    "    rmses_features[feat] = rmse\n",
    "    \n",
    "for feat_sub in [feat_season,feat_workingday,feat_weather,feat_time]:\n",
    "    name = re.search('([^0-9_]+)',feat_sub[0]).group(0)\n",
    "    lr = LinearRegression()\n",
    "    lr.fit(train[feat_sub], train[target])\n",
    "    predictions_lr = lr.predict(test[feat_sub])\n",
    "    rmse = np.sqrt(mean_squared_error(test[target], predictions_lr))\n",
    "    rmses_features[name] = rmse\n",
    "rmses_features    "
   ]
  },
  {
   "cell_type": "markdown",
   "metadata": {},
   "source": [
    "I will now only take `time` and `temperature` into account:"
   ]
  },
  {
   "cell_type": "code",
   "execution_count": 38,
   "metadata": {
    "collapsed": false
   },
   "outputs": [],
   "source": [
    "features_new = ['temp', \n",
    "                'time_label_2',\n",
    "                'time_label_3', \n",
    "                'time_label_4', \n",
    "                'time_label_5', \n",
    "                'time_label_6'\n",
    "               ]"
   ]
  },
  {
   "cell_type": "code",
   "execution_count": 39,
   "metadata": {
    "collapsed": false
   },
   "outputs": [
    {
     "name": "stdout",
     "output_type": "stream",
     "text": [
      "mean rmse test :  138.0022391647527 \n",
      " std rmse test:  27.203893892359318\n",
      "mean rmse train :  127.62073839574607 \n",
      " std rmse train:  7.297880948267125\n"
     ]
    }
   ],
   "source": [
    "kf = KFold(n_splits = 5)\n",
    "rmses_test = []\n",
    "rmses_train = []\n",
    "for train_index,test_index in kf.split(bike_rentals_relevant[features_new]):\n",
    "    X_train, X_test = bike_rentals_relevant[features_new].iloc[train_index], bike_rentals_relevant[features_new].iloc[test_index]\n",
    "    y_train, y_test = bike_rentals_relevant[target].iloc[train_index], bike_rentals_relevant[target].iloc[test_index]\n",
    "    lr = LinearRegression()\n",
    "    lr.fit(X_train,y_train)\n",
    "    \n",
    "    prediction_test = lr.predict(X_test)\n",
    "    rmse_test = np.sqrt(mean_squared_error(y_test, prediction_test))\n",
    "    rmses_test.append(rmse_test)\n",
    "    \n",
    "    prediction_train = lr.predict(X_train)\n",
    "    rmse_train = np.sqrt(mean_squared_error(y_train, prediction_train))\n",
    "    rmses_train.append(rmse_train)\n",
    "print('mean rmse test : ',np.mean(rmses_test),'\\n','std rmse test: ',np.std(rmses_test))\n",
    "print('mean rmse train : ',np.mean(rmses_train),'\\n','std rmse train: ',np.std(rmses_train))"
   ]
  },
  {
   "cell_type": "markdown",
   "metadata": {},
   "source": [
    "There is still some difference in the rmse between the test and the train set. I'm wondering whether linear regression is just not a good approach for this problem.\n",
    "\n",
    "Now only time:"
   ]
  },
  {
   "cell_type": "code",
   "execution_count": 40,
   "metadata": {
    "collapsed": true
   },
   "outputs": [],
   "source": [
    "features_new = [\n",
    "                'time_label_2',\n",
    "                'time_label_3', \n",
    "                'time_label_4', \n",
    "                'time_label_5', \n",
    "                'time_label_6'\n",
    "               ]"
   ]
  },
  {
   "cell_type": "code",
   "execution_count": 41,
   "metadata": {
    "collapsed": false
   },
   "outputs": [
    {
     "name": "stdout",
     "output_type": "stream",
     "text": [
      "Time Label: mean rmse test :  146.2683944063512 \n",
      " std rmse test:  32.273796227840606\n",
      "Time Label: mean rmse train :  138.30068805812917 \n",
      " std rmse train:  7.753773230000445\n"
     ]
    }
   ],
   "source": [
    "kf = KFold(n_splits = 5)\n",
    "rmses_test = []\n",
    "rmses_train = []\n",
    "for train_index,test_index in kf.split(bike_rentals_relevant[features_new]):\n",
    "    X_train, X_test = bike_rentals_relevant[features_new].iloc[train_index], bike_rentals_relevant[features_new].iloc[test_index]\n",
    "    y_train, y_test = bike_rentals_relevant[target].iloc[train_index], bike_rentals_relevant[target].iloc[test_index]\n",
    "    lr = LinearRegression()\n",
    "    lr.fit(X_train,y_train)\n",
    "    \n",
    "    prediction_test = lr.predict(X_test)\n",
    "    rmse_test = np.sqrt(mean_squared_error(y_test, prediction_test))\n",
    "    rmses_test.append(rmse_test)\n",
    "    \n",
    "    prediction_train = lr.predict(X_train)\n",
    "    rmse_train = np.sqrt(mean_squared_error(y_train, prediction_train))\n",
    "    rmses_train.append(rmse_train)\n",
    "print('Time Label: mean rmse test : ',np.mean(rmses_test),'\\n','std rmse test: ',np.std(rmses_test))\n",
    "print('Time Label: mean rmse train : ',np.mean(rmses_train),'\\n','std rmse train: ',np.std(rmses_train))"
   ]
  },
  {
   "cell_type": "markdown",
   "metadata": {
    "collapsed": true
   },
   "source": [
    "And now only temperature:"
   ]
  },
  {
   "cell_type": "code",
   "execution_count": 42,
   "metadata": {
    "collapsed": false
   },
   "outputs": [],
   "source": [
    "features_new = ['temp'\n",
    "               ]"
   ]
  },
  {
   "cell_type": "code",
   "execution_count": 43,
   "metadata": {
    "collapsed": false
   },
   "outputs": [
    {
     "name": "stdout",
     "output_type": "stream",
     "text": [
      "Temperature: mean rmse test :  166.50640999120716 \n",
      " std rmse test:  45.93650065030365\n",
      "Temperature: mean rmse train :  164.78642892387003 \n",
      " std rmse train:  11.112385905241483\n"
     ]
    }
   ],
   "source": [
    "kf = KFold(n_splits = 5)\n",
    "rmses_test = []\n",
    "rmses_train = []\n",
    "for train_index,test_index in kf.split(bike_rentals_relevant[features_new]):\n",
    "    X_train, X_test = bike_rentals_relevant[features_new].iloc[train_index], bike_rentals_relevant[features_new].iloc[test_index]\n",
    "    y_train, y_test = bike_rentals_relevant[target].iloc[train_index], bike_rentals_relevant[target].iloc[test_index]\n",
    "    lr = LinearRegression()\n",
    "    lr.fit(X_train,y_train)\n",
    "    \n",
    "    prediction_test = lr.predict(X_test)\n",
    "    rmse_test = np.sqrt(mean_squared_error(y_test, prediction_test))\n",
    "    rmses_test.append(rmse_test)\n",
    "    \n",
    "    prediction_train = lr.predict(X_train)\n",
    "    rmse_train = np.sqrt(mean_squared_error(y_train, prediction_train))\n",
    "    rmses_train.append(rmse_train)\n",
    "print('Temperature: mean rmse test : ',np.mean(rmses_test),'\\n','std rmse test: ',np.std(rmses_test))\n",
    "print('Temperature: mean rmse train : ',np.mean(rmses_train),'\\n','std rmse train: ',np.std(rmses_train))"
   ]
  },
  {
   "cell_type": "markdown",
   "metadata": {
    "collapsed": true
   },
   "source": [
    "I conclude that this data set is not well working for linear regression. After all, the correlations between the features and the target column weren't that strong."
   ]
  },
  {
   "cell_type": "markdown",
   "metadata": {},
   "source": [
    "## Decision tree algorithm:\n",
    "\n",
    "I will apply the random forst algorithm to the data set to see whether it works better (and play around with parameters). Additionally, I will test that I don't overfit as random forests tend to do that."
   ]
  },
  {
   "cell_type": "code",
   "execution_count": 44,
   "metadata": {
    "collapsed": false
   },
   "outputs": [
    {
     "data": {
      "text/plain": [
       "131.66826136783934"
      ]
     },
     "execution_count": 44,
     "metadata": {},
     "output_type": "execute_result"
    }
   ],
   "source": [
    "from sklearn.tree import DecisionTreeRegressor\n",
    "from sklearn.metrics import roc_auc_score\n",
    "\n",
    "dt = DecisionTreeRegressor()\n",
    "dt.fit(train[features],train[target])\n",
    "pred_dt = dt.predict(test[features])\n",
    "rmse = np.sqrt(mean_squared_error(pred_dt, test[target]))\n",
    "rmse"
   ]
  },
  {
   "cell_type": "code",
   "execution_count": 45,
   "metadata": {
    "collapsed": false
   },
   "outputs": [
    {
     "data": {
      "text/plain": [
       "113.24286737172896"
      ]
     },
     "execution_count": 45,
     "metadata": {},
     "output_type": "execute_result"
    }
   ],
   "source": [
    "from sklearn.ensemble import RandomForestRegressor\n",
    "\n",
    "rf = RandomForestRegressor()\n",
    "rf.fit(train[features],train[target])\n",
    "pred_rf = rf.predict(test[features])\n",
    "rmse = np.sqrt(mean_squared_error(pred_rf, test[target]))\n",
    "rmse"
   ]
  },
  {
   "cell_type": "code",
   "execution_count": 46,
   "metadata": {
    "collapsed": false
   },
   "outputs": [
    {
     "name": "stdout",
     "output_type": "stream",
     "text": [
      "Temperature: mean rmse test :  141.79214365236888 \n",
      " std rmse test:  19.540453887761235\n",
      "Temperature: mean rmse train :  67.11504590964947 \n",
      " std rmse train:  4.375266425459497\n"
     ]
    }
   ],
   "source": [
    "kf = KFold(n_splits = 5)\n",
    "rmses_test = []\n",
    "rmses_train = []\n",
    "for train_index,test_index in kf.split(bike_rentals_relevant[features]):\n",
    "    X_train, X_test = bike_rentals_relevant[features].iloc[train_index], bike_rentals_relevant[features].iloc[test_index]\n",
    "    y_train, y_test = bike_rentals_relevant[target].iloc[train_index], bike_rentals_relevant[target].iloc[test_index]\n",
    "    rf = RandomForestRegressor()\n",
    "    rf.fit(X_train,y_train)\n",
    "    \n",
    "    prediction_test = rf.predict(X_test)\n",
    "    rmse_test = np.sqrt(mean_squared_error(y_test, prediction_test))\n",
    "    rmses_test.append(rmse_test)\n",
    "    \n",
    "    prediction_train = rf.predict(X_train)\n",
    "    rmse_train = np.sqrt(mean_squared_error(y_train, prediction_train))\n",
    "    rmses_train.append(rmse_train)\n",
    "print('Temperature: mean rmse test : ',np.mean(rmses_test),'\\n','std rmse test: ',np.std(rmses_test))\n",
    "print('Temperature: mean rmse train : ',np.mean(rmses_train),'\\n','std rmse train: ',np.std(rmses_train))"
   ]
  },
  {
   "cell_type": "markdown",
   "metadata": {},
   "source": [
    "Taking all features and parameters as default, I massively overfit. However, still with overfitting, the rmses for both the train and test set are better than my best linear regression rmse."
   ]
  },
  {
   "cell_type": "code",
   "execution_count": 47,
   "metadata": {
    "collapsed": false
   },
   "outputs": [],
   "source": [
    "features_new = ['temp', \n",
    "                'time_label_2',\n",
    "                'time_label_3', \n",
    "                'time_label_4', \n",
    "                'time_label_5', \n",
    "                'time_label_6'\n",
    "               ]"
   ]
  },
  {
   "cell_type": "code",
   "execution_count": 48,
   "metadata": {
    "collapsed": false
   },
   "outputs": [
    {
     "name": "stdout",
     "output_type": "stream",
     "text": [
      "Temperature: mean rmse test :  132.54236171865423 \n",
      " std rmse test:  27.18329646499523\n",
      "Temperature: mean rmse train :  119.82948094238425 \n",
      " std rmse train:  7.104306298162168\n"
     ]
    }
   ],
   "source": [
    "kf = KFold(n_splits = 5)\n",
    "rmses_test = []\n",
    "rmses_train = []\n",
    "for train_index,test_index in kf.split(bike_rentals_relevant[features_new]):\n",
    "    X_train, X_test = bike_rentals_relevant[features_new].iloc[train_index], bike_rentals_relevant[features_new].iloc[test_index]\n",
    "    y_train, y_test = bike_rentals_relevant[target].iloc[train_index], bike_rentals_relevant[target].iloc[test_index]\n",
    "    rf = RandomForestRegressor()\n",
    "    rf.fit(X_train,y_train)\n",
    "    \n",
    "    prediction_test = rf.predict(X_test)\n",
    "    rmse_test = np.sqrt(mean_squared_error(y_test, prediction_test))\n",
    "    rmses_test.append(rmse_test)\n",
    "    \n",
    "    prediction_train = rf.predict(X_train)\n",
    "    rmse_train = np.sqrt(mean_squared_error(y_train, prediction_train))\n",
    "    rmses_train.append(rmse_train)\n",
    "print('Temperature: mean rmse test : ',np.mean(rmses_test),'\\n','std rmse test: ',np.std(rmses_test))\n",
    "print('Temperature: mean rmse train : ',np.mean(rmses_train),'\\n','std rmse train: ',np.std(rmses_train))"
   ]
  },
  {
   "cell_type": "markdown",
   "metadata": {},
   "source": [
    "Taking only the most correlated features into account yields a worse result and has a rmse similar to linear regression. Next, I will try a few parameters while using all features:"
   ]
  },
  {
   "cell_type": "code",
   "execution_count": 49,
   "metadata": {
    "collapsed": false
   },
   "outputs": [
    {
     "name": "stdout",
     "output_type": "stream",
     "text": [
      "Temperature: mean rmse test :  134.64841124952451 \n",
      " std rmse test:  25.72277705274834\n",
      "Temperature: mean rmse train :  121.25568776000975 \n",
      " std rmse train:  6.586324424183633\n"
     ]
    }
   ],
   "source": [
    "kf = KFold(n_splits = 5)\n",
    "rmses_test = []\n",
    "rmses_train = []\n",
    "for train_index,test_index in kf.split(bike_rentals_relevant[features]):\n",
    "    X_train, X_test = bike_rentals_relevant[features].iloc[train_index], bike_rentals_relevant[features].iloc[test_index]\n",
    "    y_train, y_test = bike_rentals_relevant[target].iloc[train_index], bike_rentals_relevant[target].iloc[test_index]\n",
    "    rf = RandomForestRegressor(n_estimators = 5, min_samples_leaf = 4, max_depth = 4)\n",
    "    rf.fit(X_train,y_train)\n",
    "    \n",
    "    prediction_test = rf.predict(X_test)\n",
    "    rmse_test = np.sqrt(mean_squared_error(y_test, prediction_test))\n",
    "    rmses_test.append(rmse_test)\n",
    "    \n",
    "    prediction_train = rf.predict(X_train)\n",
    "    rmse_train = np.sqrt(mean_squared_error(y_train, prediction_train))\n",
    "    rmses_train.append(rmse_train)\n",
    "print('Temperature: mean rmse test : ',np.mean(rmses_test),'\\n','std rmse test: ',np.std(rmses_test))\n",
    "print('Temperature: mean rmse train : ',np.mean(rmses_train),'\\n','std rmse train: ',np.std(rmses_train))"
   ]
  },
  {
   "cell_type": "markdown",
   "metadata": {},
   "source": [
    "Now the random forest is less overfitting and the rmse is lower than the best result I got with linear regression."
   ]
  },
  {
   "cell_type": "code",
   "execution_count": null,
   "metadata": {
    "collapsed": true
   },
   "outputs": [],
   "source": []
  }
 ],
 "metadata": {
  "kernelspec": {
   "display_name": "Python 3",
   "language": "python",
   "name": "python3"
  },
  "language_info": {
   "codemirror_mode": {
    "name": "ipython",
    "version": 3
   },
   "file_extension": ".py",
   "mimetype": "text/x-python",
   "name": "python",
   "nbconvert_exporter": "python",
   "pygments_lexer": "ipython3",
   "version": "3.4.3"
  }
 },
 "nbformat": 4,
 "nbformat_minor": 0
}
